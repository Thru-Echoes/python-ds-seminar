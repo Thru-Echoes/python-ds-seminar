{
 "cells": [
  {
   "cell_type": "markdown",
   "metadata": {
    "collapsed": true
   },
   "source": [
    "# Homework 7 \n",
    "\n",
    "### Oliver Muellerklein with Miao and Jacob B. \n",
    "\n",
    "Note: I had taken Miao to the E.R. on Thursday night after we had been working with Jacob on developing this project. "
   ]
  },
  {
   "cell_type": "code",
   "execution_count": 2,
   "metadata": {
    "collapsed": true
   },
   "outputs": [],
   "source": [
    "import numpy as np\n",
    "import matplotlib.pyplot as plt\n",
    "import pandas as pd\n",
    "import warnings\n",
    "import os\n",
    "from sklearn.ensemble import RandomForestClassifier\n",
    "from sklearn.model_selection import GridSearchCV\n",
    "import joblib\n",
    "import skimage\n",
    "from skimage import io\n",
    "from skimage.util.shape import view_as_windows\n",
    "from skimage.util.montage import montage2d\n",
    "from scipy.cluster.vq import kmeans2\n",
    "from skimage.transform import resize\n",
    "from skimage.filters import threshold_mean\n",
    "from skimage.color import rgb2gray\n",
    "from skimage.exposure import equalize_hist\n",
    "from multiprocessing import Pool, cpu_count\n",
    "from time import time\n",
    "%matplotlib inline"
   ]
  },
  {
   "cell_type": "code",
   "execution_count": 3,
   "metadata": {
    "collapsed": true
   },
   "outputs": [],
   "source": [
    "import os\n",
    "\n",
    "def getWorkDir():\n",
    "    return os.getcwd()\n",
    "\n",
    "def setWorkDir(newPath):\n",
    "    os.chdir(newPath)\n",
    "    print(\"\\nNew working directory: \", os.getcwd())\n",
    "    return True"
   ]
  },
  {
   "cell_type": "code",
   "execution_count": 4,
   "metadata": {
    "collapsed": false
   },
   "outputs": [
    {
     "data": {
      "text/plain": [
       "'/Users/kschocz/Documents/berkeley-courses/second-year/fall16/python-ds-seminar/homeworks/hw7'"
      ]
     },
     "execution_count": 4,
     "metadata": {},
     "output_type": "execute_result"
    }
   ],
   "source": [
    "getWorkDir()"
   ]
  },
  {
   "cell_type": "code",
   "execution_count": 5,
   "metadata": {
    "collapsed": true
   },
   "outputs": [],
   "source": [
    "# Image ploting function\n",
    "def show_images(images, titles = None, interpolation = 'nearest'):\n",
    "    \"\"\"Display a list of images\"\"\"\n",
    "    n_ims = len(images)\n",
    "    if titles is None: titles = ['(%d)' % i for i in range(1, n_ims + 1)]\n",
    "    fig = plt.figure()\n",
    "    n = 1\n",
    "    for image, title in zip(images, titles):\n",
    "        a = fig.add_subplot(1 ,n_ims, n)\n",
    "        if image.ndim == 2: plt.gray()\n",
    "        plt.imshow(image, interpolation = interpolation)\n",
    "        a.set_title(title)\n",
    "        n += 1\n",
    "    fig.set_size_inches(np.array(fig.get_size_inches()) * n_ims)\n",
    "    plt.show()"
   ]
  },
  {
   "cell_type": "code",
   "execution_count": 6,
   "metadata": {
    "collapsed": true
   },
   "outputs": [],
   "source": [
    "def set_img_dict(is_sample = False):\n",
    "    \n",
    "    #Generates a {name : index} dictionary for each of the image categories.\n",
    "      \n",
    "    if is_sample:\n",
    "        path = os.path.join(os.getcwd(), 'sample_img/') \n",
    "    else:\n",
    "        path = os.path.join(os.getcwd(), '50_categories/')\n",
    "    \n",
    "    categories = []\n",
    "    index = 0\n",
    "    img_types = {}\n",
    "    \n",
    "    img_type_names = os.listdir(path)\n",
    "    img_type_names.sort()\n",
    "    \n",
    "    for direc in img_type_names:\n",
    "        if direc.startswith('.') == False:\n",
    "            index = index + 1\n",
    "            img_types[direc] = [index]\n",
    "            \n",
    "    return(img_types)"
   ]
  },
  {
   "cell_type": "code",
   "execution_count": 7,
   "metadata": {
    "collapsed": true
   },
   "outputs": [],
   "source": [
    "def montage_wb_ratio(input_image, patch_shape, n_filters, ele_print = False):\n",
    "\n",
    "    patches = view_as_windows(input_image, patch_shape)\n",
    "    patches = patches.reshape(-1, patch_shape[0] * patch_shape[1])[::8]\n",
    "    fb, _ = kmeans2(patches, n_filters, minit = 'random')\n",
    "    fb = fb.reshape((-1,) + patch_shape)\n",
    "    fb_montage = montage2d(fb, fill = False, rescale_intensity = True)\n",
    "    shape_var = np.ceil(np.sqrt(n_filters))\n",
    "    elements = np.split(np.hstack(np.split(fb_montage, shape_var)), shape_var**2, axis = 1)\n",
    "    del elements[n_filters:]\n",
    "    wb_ratios = []\n",
    "    bin_elements = []\n",
    "    \n",
    "    for element in elements:\n",
    "        thresh = threshold_mean(element)\n",
    "        binary = element > thresh\n",
    "        ratio = np.sum(binary) / binary.size\n",
    "        wb_ratios.append(ratio)\n",
    "        \n",
    "        if ele_print:\n",
    "            bin_elements.append(binary)\n",
    "\n",
    "    wb_ratios = sorted(wb_ratios, reverse = True)\n",
    "    \n",
    "    if ele_print:\n",
    "        show_images(elements)\n",
    "        show_images(bin_elements)\n",
    "    \n",
    "    return(wb_ratios)"
   ]
  },
  {
   "cell_type": "markdown",
   "metadata": {},
   "source": [
    "### Calculate Summary Stats of RGB Channels "
   ]
  },
  {
   "cell_type": "code",
   "execution_count": 8,
   "metadata": {
    "collapsed": true
   },
   "outputs": [],
   "source": [
    "def get_rgb_summary(img):\n",
    "    \n",
    "    img_shapee = img.shape \n",
    "    img_lenn = len(img_shapee)\n",
    "    \n",
    "    if (img_lenn == 3):\n",
    "\n",
    "        img_r = img[:, :, 0]\n",
    "        img_g = img[:, :, 1]\n",
    "        img_b = img[:, :, 2]\n",
    "\n",
    "        r_mean = np.mean(img_r)\n",
    "        r_median = np.median(img_r)\n",
    "        r_std = np.std(img_r)\n",
    "        r_var = np.var(img_r)\n",
    "\n",
    "        g_mean = np.mean(img_g)\n",
    "        g_median = np.median(img_g)\n",
    "        g_std = np.std(img_g)\n",
    "        g_var = np.var(img_g)\n",
    "\n",
    "        b_mean = np.mean(img_b)\n",
    "        b_median = np.median(img_b)\n",
    "        b_std = np.std(img_b)\n",
    "        b_var = np.var(img_b)\n",
    "        \n",
    "    else:\n",
    "        \n",
    "        r_mean = r_median = r_std = r_var = g_mean = g_median = g_std = g_var = b_mean = b_median = b_std = b_var = 1\n",
    "\n",
    "    return list([r_mean, r_median, r_std, r_var, g_mean, g_median, g_std, g_var, b_mean, b_median, b_std, b_var])"
   ]
  },
  {
   "cell_type": "code",
   "execution_count": 9,
   "metadata": {
    "collapsed": true
   },
   "outputs": [],
   "source": [
    "# FUNCTION DEFINITIONS\n",
    "# Quick function to divide up a large list into multiple small lists, \n",
    "# attempting to keep them all the same size. \n",
    "def split_seq(seq, size):\n",
    "    newseq = []\n",
    "    splitsize = 1.0 / size * len(seq)\n",
    "    for i in range(size):\n",
    "        newseq.append(seq[int(round(i * splitsize)):int(round((i + 1) * splitsize))])\n",
    "    return newseq"
   ]
  },
  {
   "cell_type": "code",
   "execution_count": 10,
   "metadata": {
    "collapsed": true
   },
   "outputs": [],
   "source": [
    "def preprocess(input_image):\n",
    "    gray = rgb2gray(input_image)\n",
    "    hist = equalize_hist(gray)\n",
    "    return hist\n",
    "\n",
    "def extract_features(image_path_list):\n",
    "    \n",
    "    feature_list = []\n",
    "    \n",
    "    for image_path in image_path_list:\n",
    "        one_row = []\n",
    "        category = image_path.split('/')[-2]\n",
    "        one_row.extend([image_path, category])\n",
    "        image_array = io.imread(image_path)\n",
    "        processed_image = preprocess(image_array)\n",
    "        \n",
    "        ##############\n",
    "        \n",
    "        #with warnings.catch_warnings():\n",
    "        warnings.simplefilter(\"ignore\")\n",
    "        wb = montage_wb_ratio(processed_image, (8, 8), 25, ele_print = False)\n",
    "        \n",
    "        #get RGB summary stats \n",
    "        rgb_summary = get_rgb_summary(image_array)\n",
    "        \n",
    "        #concatenate features\n",
    "        wb_and_rgb = wb + rgb_summary\n",
    "\n",
    "        #one_row.extend(wb)\n",
    "        one_row.extend(wb_and_rgb)\n",
    "        feature_list.append(one_row)\n",
    "        \n",
    "    return feature_list\n",
    "\n",
    "def new_data_read(image_path):\n",
    "    image_array = io.imread('test6.jpg')\n",
    "    processed_image = preprocess(image_array)\n",
    "    warnings.simplefilter(\"ignore\")\n",
    "    wb = montage_wb_ratio(processed_image, (8, 8), 25, ele_print = False)\n",
    "    return wb\n",
    "    "
   ]
  },
  {
   "cell_type": "code",
   "execution_count": 11,
   "metadata": {
    "collapsed": true
   },
   "outputs": [],
   "source": [
    "def get_data_feat(is_sample = False):\n",
    "\n",
    "    MYDIRECTORY = os.getcwd()\n",
    "    \n",
    "    if is_sample:\n",
    "        categories = os.listdir(MYDIRECTORY + '/sample_img')\n",
    "    else:\n",
    "        categories = os.listdir(MYDIRECTORY + '/50_categories')\n",
    "    image_paths = []\n",
    "\n",
    "    for category in categories:\n",
    "        if not category.startswith('.'):\n",
    "            if is_sample:\n",
    "                image_names = os.listdir(MYDIRECTORY + \"/sample_img/\" + category)\n",
    "            else:\n",
    "                image_names = os.listdir(MYDIRECTORY + \"/50_categories/\" + category)\n",
    "                \n",
    "            for name in image_names:\n",
    "                if is_sample:\n",
    "                    image_paths.append(MYDIRECTORY + \"/sample_img/\" + category + \"/\" + name)\n",
    "                else:\n",
    "                    image_paths.append(MYDIRECTORY + \"/50_categories/\" + category + \"/\" + name)\n",
    "\n",
    "    # Then, we run the feature extraction function using multiprocessing.Pool so \n",
    "    # so that we can parallelize the process and run it much faster.\n",
    "    numprocessors = cpu_count() \n",
    "\n",
    "    # We have to cut up the image_paths list into the number of processes we want to\n",
    "    # run. \n",
    "    split_image_paths = split_seq(image_paths, numprocessors)\n",
    "\n",
    "    # Ok, this block is where the parallel code runs. We time it so we can get a \n",
    "    # feel for the speed up.\n",
    "    start_time = time()\n",
    "    p = Pool(numprocessors)\n",
    "    result = p.map_async(extract_features, split_image_paths)\n",
    "    poolresult = result.get()\n",
    "    end_time = time()\n",
    "    \n",
    "    # All done, print timing results.\n",
    "    print (\"Finished extracting features. Total time: \" + \n",
    "        str(round(end_time-start_time, 3)) + \" s, or \" + \n",
    "        str(round((end_time-start_time) / len(image_paths), 5)) + \" s/image.\")\n",
    "\n",
    "    # To tidy-up a bit, we loop through the poolresult to create a final list of\n",
    "    # the feature extraction results for all images.\n",
    "    combined_result = []\n",
    "    for single_proc_result in poolresult:\n",
    "        for single_image_result in single_proc_result:\n",
    "            combined_result.append(single_image_result)\n",
    "            \n",
    "    if is_sample: \n",
    "        cate = set_img_dict(is_sample = True) \n",
    "    else:\n",
    "        cate = set_img_dict(is_sample = False)\n",
    "        \n",
    "    combined_result = np.array(combined_result)\n",
    "    X = combined_result[:, 2:]\n",
    "    Y = combined_result[:, 1]\n",
    "    for i in range(len(Y)):\n",
    "        Y[i] = cate[Y[i]][0]\n",
    "    return X, Y"
   ]
  },
  {
   "cell_type": "markdown",
   "metadata": {
    "collapsed": true
   },
   "source": [
    "### Functions for generating and dumping model "
   ]
  },
  {
   "cell_type": "code",
   "execution_count": 12,
   "metadata": {
    "collapsed": true
   },
   "outputs": [],
   "source": [
    "def model_fitting(X, Y, dump_file = 'model.p'):\n",
    "    grid_models = GridSearchCV(RandomForestClassifier(),\n",
    "                       {'n_estimators':range(200, 1000, 100)}, n_jobs = 8, cv = 10)\n",
    "    fit_models = grid_models.fit(X, Y)\n",
    "    return fit_models\n",
    "\n",
    "def get_pickle_model(modelz, dump_file = 'model.p'):\n",
    "    \n",
    "    # Save out only best model \n",
    "    if dump_file:\n",
    "        with open(dump_file, \"wb\") as fp:\n",
    "            #joblib.dump(modelz.best_estimator_, fp, protocol = pickle.HIGHEST_PROTOCOL, compression = 9)\n",
    "            joblib.dump(modelz.best_estimator_, fp, protocol = pickle.HIGHEST_PROTOCOL)\n",
    "    return modelz.best_estimator_\n",
    "\n",
    "def load_model(model_file = 'model.p'):\n",
    "    with open(model_file, \"rb\") as fp:\n",
    "        model_instance = joblib.load(fp)\n",
    "    return model_instance"
   ]
  },
  {
   "cell_type": "markdown",
   "metadata": {
    "collapsed": false
   },
   "source": [
    "## Run Algorithm \n",
    "\n",
    "Our process involves: \n",
    "\n",
    "1. Data featurization - generate features from all images to create our dataset for machine learning \n",
    "2. Model fitting - use Grid Search Cross Validation, K-fold CV, to find the best parameters for the model (via Random Forest) \n",
    "3. Dump model - compress and dump Pickle model "
   ]
  },
  {
   "cell_type": "code",
   "execution_count": 13,
   "metadata": {
    "collapsed": false
   },
   "outputs": [
    {
     "data": {
      "text/plain": [
       "'/Users/kschocz/Documents/berkeley-courses/second-year/fall16/python-ds-seminar/homeworks/hw7'"
      ]
     },
     "execution_count": 13,
     "metadata": {},
     "output_type": "execute_result"
    }
   ],
   "source": [
    "getWorkDir()"
   ]
  },
  {
   "cell_type": "code",
   "execution_count": 14,
   "metadata": {
    "collapsed": false
   },
   "outputs": [],
   "source": [
    "#setWorkDir(os.path.join(os.getcwd(), 'sample_img'))"
   ]
  },
  {
   "cell_type": "code",
   "execution_count": 15,
   "metadata": {
    "collapsed": false
   },
   "outputs": [
    {
     "data": {
      "text/plain": [
       "'/Users/kschocz/Documents/berkeley-courses/second-year/fall16/python-ds-seminar/homeworks/hw7'"
      ]
     },
     "execution_count": 15,
     "metadata": {},
     "output_type": "execute_result"
    }
   ],
   "source": [
    "getWorkDir()"
   ]
  },
  {
   "cell_type": "code",
   "execution_count": null,
   "metadata": {
    "collapsed": true
   },
   "outputs": [],
   "source": []
  },
  {
   "cell_type": "code",
   "execution_count": 16,
   "metadata": {
    "collapsed": false
   },
   "outputs": [
    {
     "name": "stderr",
     "output_type": "stream",
     "text": [
      "Process ForkPoolWorker-1:\n",
      "Process ForkPoolWorker-2:\n",
      "Process ForkPoolWorker-5:\n",
      "Process ForkPoolWorker-8:\n",
      "Process ForkPoolWorker-6:\n",
      "Process ForkPoolWorker-3:\n",
      "Traceback (most recent call last):\n",
      "Traceback (most recent call last):\n",
      "Traceback (most recent call last):\n",
      "Process ForkPoolWorker-4:\n",
      "  File \"/Users/kschocz/miniconda3/lib/python3.5/multiprocessing/process.py\", line 249, in _bootstrap\n",
      "    self.run()\n",
      "Traceback (most recent call last):\n",
      "Process ForkPoolWorker-7:\n",
      "Traceback (most recent call last):\n",
      "  File \"/Users/kschocz/miniconda3/lib/python3.5/multiprocessing/process.py\", line 249, in _bootstrap\n",
      "    self.run()\n",
      "  File \"/Users/kschocz/miniconda3/lib/python3.5/multiprocessing/process.py\", line 93, in run\n",
      "    self._target(*self._args, **self._kwargs)\n",
      "  File \"/Users/kschocz/miniconda3/lib/python3.5/multiprocessing/process.py\", line 249, in _bootstrap\n",
      "    self.run()\n",
      "Traceback (most recent call last):\n",
      "  File \"/Users/kschocz/miniconda3/lib/python3.5/multiprocessing/pool.py\", line 119, in worker\n",
      "    result = (True, func(*args, **kwds))\n",
      "  File \"/Users/kschocz/miniconda3/lib/python3.5/multiprocessing/process.py\", line 249, in _bootstrap\n",
      "    self.run()\n",
      "  File \"/Users/kschocz/miniconda3/lib/python3.5/multiprocessing/process.py\", line 93, in run\n",
      "    self._target(*self._args, **self._kwargs)\n",
      "  File \"/Users/kschocz/miniconda3/lib/python3.5/multiprocessing/pool.py\", line 44, in mapstar\n",
      "    return list(map(*args))\n",
      "  File \"/Users/kschocz/miniconda3/lib/python3.5/multiprocessing/process.py\", line 93, in run\n",
      "    self._target(*self._args, **self._kwargs)\n",
      "  File \"/Users/kschocz/miniconda3/lib/python3.5/multiprocessing/process.py\", line 93, in run\n",
      "    self._target(*self._args, **self._kwargs)\n",
      "  File \"/Users/kschocz/miniconda3/lib/python3.5/multiprocessing/process.py\", line 249, in _bootstrap\n",
      "    self.run()\n",
      "  File \"/Users/kschocz/miniconda3/lib/python3.5/multiprocessing/pool.py\", line 119, in worker\n",
      "    result = (True, func(*args, **kwds))\n",
      "  File \"<ipython-input-10-334fa6f13d5a>\", line 21, in extract_features\n",
      "    wb = montage_wb_ratio(processed_image, (8, 8), 25, ele_print = False)\n",
      "  File \"/Users/kschocz/miniconda3/lib/python3.5/multiprocessing/process.py\", line 249, in _bootstrap\n",
      "    self.run()\n",
      "Traceback (most recent call last):\n",
      "  File \"/Users/kschocz/miniconda3/lib/python3.5/multiprocessing/pool.py\", line 119, in worker\n",
      "    result = (True, func(*args, **kwds))\n",
      "  File \"/Users/kschocz/miniconda3/lib/python3.5/multiprocessing/process.py\", line 93, in run\n",
      "    self._target(*self._args, **self._kwargs)\n",
      "  File \"/Users/kschocz/miniconda3/lib/python3.5/multiprocessing/pool.py\", line 119, in worker\n",
      "    result = (True, func(*args, **kwds))\n",
      "  File \"/Users/kschocz/miniconda3/lib/python3.5/multiprocessing/process.py\", line 93, in run\n",
      "    self._target(*self._args, **self._kwargs)\n",
      "  File \"/Users/kschocz/miniconda3/lib/python3.5/multiprocessing/pool.py\", line 44, in mapstar\n",
      "    return list(map(*args))\n",
      "  File \"<ipython-input-7-38c13831694f>\", line 5, in montage_wb_ratio\n",
      "    fb, _ = kmeans2(patches, n_filters, minit = 'random')\n",
      "  File \"/Users/kschocz/miniconda3/lib/python3.5/multiprocessing/pool.py\", line 44, in mapstar\n",
      "    return list(map(*args))\n",
      "  File \"/Users/kschocz/miniconda3/lib/python3.5/multiprocessing/pool.py\", line 119, in worker\n",
      "    result = (True, func(*args, **kwds))\n",
      "  File \"/Users/kschocz/miniconda3/lib/python3.5/multiprocessing/process.py\", line 249, in _bootstrap\n",
      "    self.run()\n",
      "  File \"/Users/kschocz/miniconda3/lib/python3.5/multiprocessing/pool.py\", line 119, in worker\n",
      "    result = (True, func(*args, **kwds))\n",
      "  File \"/Users/kschocz/miniconda3/lib/python3.5/multiprocessing/process.py\", line 93, in run\n",
      "    self._target(*self._args, **self._kwargs)\n",
      "  File \"<ipython-input-10-334fa6f13d5a>\", line 21, in extract_features\n",
      "    wb = montage_wb_ratio(processed_image, (8, 8), 25, ele_print = False)\n",
      "  File \"/Users/kschocz/miniconda3/lib/python3.5/site-packages/scipy/cluster/vq.py\", line 774, in kmeans2\n",
      "    return _kmeans2(data, clusters, iter, nc, _valid_miss_meth[missing])\n",
      "  File \"/Users/kschocz/miniconda3/lib/python3.5/multiprocessing/pool.py\", line 44, in mapstar\n",
      "    return list(map(*args))\n",
      "  File \"/Users/kschocz/miniconda3/lib/python3.5/multiprocessing/pool.py\", line 44, in mapstar\n",
      "    return list(map(*args))\n",
      "  File \"/Users/kschocz/miniconda3/lib/python3.5/multiprocessing/pool.py\", line 119, in worker\n",
      "    result = (True, func(*args, **kwds))\n",
      "  File \"<ipython-input-10-334fa6f13d5a>\", line 21, in extract_features\n",
      "    wb = montage_wb_ratio(processed_image, (8, 8), 25, ele_print = False)\n",
      "  File \"<ipython-input-7-38c13831694f>\", line 5, in montage_wb_ratio\n",
      "    fb, _ = kmeans2(patches, n_filters, minit = 'random')\n",
      "  File \"<ipython-input-10-334fa6f13d5a>\", line 21, in extract_features\n",
      "    wb = montage_wb_ratio(processed_image, (8, 8), 25, ele_print = False)\n",
      "  File \"/Users/kschocz/miniconda3/lib/python3.5/site-packages/scipy/cluster/vq.py\", line 786, in _kmeans2\n",
      "    label = vq(data, code)[0]\n",
      "  File \"<ipython-input-7-38c13831694f>\", line 5, in montage_wb_ratio\n",
      "    fb, _ = kmeans2(patches, n_filters, minit = 'random')\n",
      "  File \"/Users/kschocz/miniconda3/lib/python3.5/multiprocessing/pool.py\", line 44, in mapstar\n",
      "    return list(map(*args))\n",
      "  File \"/Users/kschocz/miniconda3/lib/python3.5/multiprocessing/pool.py\", line 44, in mapstar\n",
      "    return list(map(*args))\n",
      "  File \"/Users/kschocz/miniconda3/lib/python3.5/site-packages/scipy/cluster/vq.py\", line 774, in kmeans2\n",
      "    return _kmeans2(data, clusters, iter, nc, _valid_miss_meth[missing])\n",
      "  File \"/Users/kschocz/miniconda3/lib/python3.5/site-packages/scipy/cluster/vq.py\", line 222, in vq\n",
      "    results = _vq.vq(c_obs, c_code_book)\n",
      "  File \"<ipython-input-10-334fa6f13d5a>\", line 21, in extract_features\n",
      "    wb = montage_wb_ratio(processed_image, (8, 8), 25, ele_print = False)\n",
      "  File \"<ipython-input-7-38c13831694f>\", line 5, in montage_wb_ratio\n",
      "    fb, _ = kmeans2(patches, n_filters, minit = 'random')\n",
      "Traceback (most recent call last):\n",
      "  File \"/Users/kschocz/miniconda3/lib/python3.5/site-packages/scipy/cluster/vq.py\", line 774, in kmeans2\n",
      "    return _kmeans2(data, clusters, iter, nc, _valid_miss_meth[missing])\n",
      "  File \"<ipython-input-10-334fa6f13d5a>\", line 21, in extract_features\n",
      "    wb = montage_wb_ratio(processed_image, (8, 8), 25, ele_print = False)\n",
      "  File \"<ipython-input-7-38c13831694f>\", line 5, in montage_wb_ratio\n",
      "    fb, _ = kmeans2(patches, n_filters, minit = 'random')\n",
      "  File \"<ipython-input-10-334fa6f13d5a>\", line 21, in extract_features\n",
      "    wb = montage_wb_ratio(processed_image, (8, 8), 25, ele_print = False)\n",
      "KeyboardInterrupt\n",
      "  File \"/Users/kschocz/miniconda3/lib/python3.5/site-packages/scipy/cluster/vq.py\", line 786, in _kmeans2\n",
      "    label = vq(data, code)[0]\n",
      "  File \"/Users/kschocz/miniconda3/lib/python3.5/site-packages/scipy/cluster/vq.py\", line 774, in kmeans2\n",
      "    return _kmeans2(data, clusters, iter, nc, _valid_miss_meth[missing])\n",
      "  File \"/Users/kschocz/miniconda3/lib/python3.5/multiprocessing/process.py\", line 249, in _bootstrap\n",
      "    self.run()\n",
      "  File \"/Users/kschocz/miniconda3/lib/python3.5/site-packages/scipy/cluster/vq.py\", line 786, in _kmeans2\n",
      "    label = vq(data, code)[0]\n",
      "  File \"<ipython-input-7-38c13831694f>\", line 5, in montage_wb_ratio\n",
      "    fb, _ = kmeans2(patches, n_filters, minit = 'random')\n",
      "  File \"<ipython-input-7-38c13831694f>\", line 5, in montage_wb_ratio\n",
      "    fb, _ = kmeans2(patches, n_filters, minit = 'random')\n",
      "  File \"/Users/kschocz/miniconda3/lib/python3.5/site-packages/scipy/cluster/vq.py\", line 222, in vq\n",
      "    results = _vq.vq(c_obs, c_code_book)\n",
      "  File \"/Users/kschocz/miniconda3/lib/python3.5/site-packages/scipy/cluster/vq.py\", line 222, in vq\n",
      "    results = _vq.vq(c_obs, c_code_book)\n",
      "  File \"/Users/kschocz/miniconda3/lib/python3.5/site-packages/scipy/cluster/vq.py\", line 774, in kmeans2\n",
      "    return _kmeans2(data, clusters, iter, nc, _valid_miss_meth[missing])\n",
      "  File \"/Users/kschocz/miniconda3/lib/python3.5/multiprocessing/process.py\", line 93, in run\n",
      "    self._target(*self._args, **self._kwargs)\n",
      "  File \"/Users/kschocz/miniconda3/lib/python3.5/site-packages/scipy/cluster/vq.py\", line 788, in _kmeans2\n",
      "    new_code, has_members = _vq.update_cluster_means(data, label, nc)\n",
      "  File \"/Users/kschocz/miniconda3/lib/python3.5/site-packages/scipy/cluster/vq.py\", line 774, in kmeans2\n",
      "    return _kmeans2(data, clusters, iter, nc, _valid_miss_meth[missing])\n",
      "  File \"/Users/kschocz/miniconda3/lib/python3.5/site-packages/scipy/cluster/vq.py\", line 774, in kmeans2\n",
      "    return _kmeans2(data, clusters, iter, nc, _valid_miss_meth[missing])\n",
      "  File \"/Users/kschocz/miniconda3/lib/python3.5/site-packages/scipy/cluster/vq.py\", line 788, in _kmeans2\n",
      "    new_code, has_members = _vq.update_cluster_means(data, label, nc)\n",
      "KeyboardInterrupt\n",
      "KeyboardInterrupt\n",
      "  File \"scipy/cluster/_vq.pyx\", line 336, in scipy.cluster._vq.update_cluster_means (scipy/cluster/_vq.c:4546)\n",
      "  File \"/Users/kschocz/miniconda3/lib/python3.5/site-packages/scipy/cluster/vq.py\", line 786, in _kmeans2\n",
      "    label = vq(data, code)[0]\n",
      "  File \"/Users/kschocz/miniconda3/lib/python3.5/multiprocessing/pool.py\", line 119, in worker\n",
      "    result = (True, func(*args, **kwds))\n",
      "  File \"scipy/cluster/_vq.pyx\", line 336, in scipy.cluster._vq.update_cluster_means (scipy/cluster/_vq.c:4546)\n",
      "  File \"/Users/kschocz/miniconda3/lib/python3.5/multiprocessing/pool.py\", line 44, in mapstar\n",
      "    return list(map(*args))\n",
      "  File \"/Users/kschocz/miniconda3/lib/python3.5/site-packages/scipy/cluster/vq.py\", line 788, in _kmeans2\n",
      "    new_code, has_members = _vq.update_cluster_means(data, label, nc)\n",
      "  File \"scipy/cluster/_vq.pyx\", line 336, in scipy.cluster._vq.update_cluster_means (scipy/cluster/_vq.c:4546)\n",
      "  File \"/Users/kschocz/miniconda3/lib/python3.5/site-packages/scipy/cluster/vq.py\", line 222, in vq\n",
      "    results = _vq.vq(c_obs, c_code_book)\n",
      "  File \"<ipython-input-10-334fa6f13d5a>\", line 21, in extract_features\n",
      "    wb = montage_wb_ratio(processed_image, (8, 8), 25, ele_print = False)\n",
      "KeyboardInterrupt\n",
      "  File \"/Users/kschocz/miniconda3/lib/python3.5/site-packages/numpy/core/numeric.py\", line 569, in ascontiguousarray\n",
      "    return array(a, dtype, copy=False, order='C', ndmin=1)\n",
      "  File \"<ipython-input-7-38c13831694f>\", line 5, in montage_wb_ratio\n",
      "    fb, _ = kmeans2(patches, n_filters, minit = 'random')\n",
      "  File \"/Users/kschocz/miniconda3/lib/python3.5/site-packages/scipy/cluster/vq.py\", line 774, in kmeans2\n",
      "    return _kmeans2(data, clusters, iter, nc, _valid_miss_meth[missing])\n",
      "  File \"/Users/kschocz/miniconda3/lib/python3.5/site-packages/numpy/core/numeric.py\", line 569, in ascontiguousarray\n",
      "    return array(a, dtype, copy=False, order='C', ndmin=1)\n",
      "  File \"/Users/kschocz/miniconda3/lib/python3.5/site-packages/numpy/core/numeric.py\", line 569, in ascontiguousarray\n",
      "    return array(a, dtype, copy=False, order='C', ndmin=1)\n",
      "  File \"/Users/kschocz/miniconda3/lib/python3.5/site-packages/scipy/cluster/vq.py\", line 786, in _kmeans2\n",
      "    label = vq(data, code)[0]\n",
      "KeyboardInterrupt\n",
      "KeyboardInterrupt\n",
      "KeyboardInterrupt\n",
      "  File \"/Users/kschocz/miniconda3/lib/python3.5/site-packages/scipy/cluster/vq.py\", line 210, in vq\n",
      "    obs = _asarray_validated(obs, check_finite=check_finite)\n",
      "  File \"/Users/kschocz/miniconda3/lib/python3.5/site-packages/scipy/_lib/_util.py\", line 228, in _asarray_validated\n",
      "    a = toarray(a)\n",
      "  File \"/Users/kschocz/miniconda3/lib/python3.5/site-packages/numpy/lib/function_base.py\", line 1031, in asarray_chkfinite\n",
      "    if a.dtype.char in typecodes['AllFloat'] and not np.isfinite(a).all():\n",
      "KeyboardInterrupt\n"
     ]
    },
    {
     "ename": "KeyboardInterrupt",
     "evalue": "",
     "output_type": "error",
     "traceback": [
      "\u001b[0;31m---------------------------------------------------------------------------\u001b[0m",
      "\u001b[0;31mKeyboardInterrupt\u001b[0m                         Traceback (most recent call last)",
      "\u001b[0;32m<ipython-input-16-1d5feac8cae4>\u001b[0m in \u001b[0;36m<module>\u001b[0;34m()\u001b[0m\n\u001b[1;32m      1\u001b[0m \u001b[0;31m#X, Y = get_data_feat(is_sample = True)\u001b[0m\u001b[0;34m\u001b[0m\u001b[0;34m\u001b[0m\u001b[0m\n\u001b[1;32m      2\u001b[0m \u001b[0;34m\u001b[0m\u001b[0m\n\u001b[0;32m----> 3\u001b[0;31m \u001b[0mX\u001b[0m\u001b[0;34m,\u001b[0m \u001b[0mY\u001b[0m \u001b[0;34m=\u001b[0m \u001b[0mget_data_feat\u001b[0m\u001b[0;34m(\u001b[0m\u001b[0mis_sample\u001b[0m \u001b[0;34m=\u001b[0m \u001b[0;32mFalse\u001b[0m\u001b[0;34m)\u001b[0m\u001b[0;34m\u001b[0m\u001b[0m\n\u001b[0m",
      "\u001b[0;32m<ipython-input-11-68da4929d951>\u001b[0m in \u001b[0;36mget_data_feat\u001b[0;34m(is_sample)\u001b[0m\n\u001b[1;32m     35\u001b[0m     \u001b[0mp\u001b[0m \u001b[0;34m=\u001b[0m \u001b[0mPool\u001b[0m\u001b[0;34m(\u001b[0m\u001b[0mnumprocessors\u001b[0m\u001b[0;34m)\u001b[0m\u001b[0;34m\u001b[0m\u001b[0m\n\u001b[1;32m     36\u001b[0m     \u001b[0mresult\u001b[0m \u001b[0;34m=\u001b[0m \u001b[0mp\u001b[0m\u001b[0;34m.\u001b[0m\u001b[0mmap_async\u001b[0m\u001b[0;34m(\u001b[0m\u001b[0mextract_features\u001b[0m\u001b[0;34m,\u001b[0m \u001b[0msplit_image_paths\u001b[0m\u001b[0;34m)\u001b[0m\u001b[0;34m\u001b[0m\u001b[0m\n\u001b[0;32m---> 37\u001b[0;31m     \u001b[0mpoolresult\u001b[0m \u001b[0;34m=\u001b[0m \u001b[0mresult\u001b[0m\u001b[0;34m.\u001b[0m\u001b[0mget\u001b[0m\u001b[0;34m(\u001b[0m\u001b[0;34m)\u001b[0m\u001b[0;34m\u001b[0m\u001b[0m\n\u001b[0m\u001b[1;32m     38\u001b[0m     \u001b[0mend_time\u001b[0m \u001b[0;34m=\u001b[0m \u001b[0mtime\u001b[0m\u001b[0;34m(\u001b[0m\u001b[0;34m)\u001b[0m\u001b[0;34m\u001b[0m\u001b[0m\n\u001b[1;32m     39\u001b[0m \u001b[0;34m\u001b[0m\u001b[0m\n",
      "\u001b[0;32m/Users/kschocz/miniconda3/lib/python3.5/multiprocessing/pool.py\u001b[0m in \u001b[0;36mget\u001b[0;34m(self, timeout)\u001b[0m\n\u001b[1;32m    600\u001b[0m \u001b[0;34m\u001b[0m\u001b[0m\n\u001b[1;32m    601\u001b[0m     \u001b[0;32mdef\u001b[0m \u001b[0mget\u001b[0m\u001b[0;34m(\u001b[0m\u001b[0mself\u001b[0m\u001b[0;34m,\u001b[0m \u001b[0mtimeout\u001b[0m\u001b[0;34m=\u001b[0m\u001b[0;32mNone\u001b[0m\u001b[0;34m)\u001b[0m\u001b[0;34m:\u001b[0m\u001b[0;34m\u001b[0m\u001b[0m\n\u001b[0;32m--> 602\u001b[0;31m         \u001b[0mself\u001b[0m\u001b[0;34m.\u001b[0m\u001b[0mwait\u001b[0m\u001b[0;34m(\u001b[0m\u001b[0mtimeout\u001b[0m\u001b[0;34m)\u001b[0m\u001b[0;34m\u001b[0m\u001b[0m\n\u001b[0m\u001b[1;32m    603\u001b[0m         \u001b[0;32mif\u001b[0m \u001b[0;32mnot\u001b[0m \u001b[0mself\u001b[0m\u001b[0;34m.\u001b[0m\u001b[0mready\u001b[0m\u001b[0;34m(\u001b[0m\u001b[0;34m)\u001b[0m\u001b[0;34m:\u001b[0m\u001b[0;34m\u001b[0m\u001b[0m\n\u001b[1;32m    604\u001b[0m             \u001b[0;32mraise\u001b[0m \u001b[0mTimeoutError\u001b[0m\u001b[0;34m\u001b[0m\u001b[0m\n",
      "\u001b[0;32m/Users/kschocz/miniconda3/lib/python3.5/multiprocessing/pool.py\u001b[0m in \u001b[0;36mwait\u001b[0;34m(self, timeout)\u001b[0m\n\u001b[1;32m    597\u001b[0m \u001b[0;34m\u001b[0m\u001b[0m\n\u001b[1;32m    598\u001b[0m     \u001b[0;32mdef\u001b[0m \u001b[0mwait\u001b[0m\u001b[0;34m(\u001b[0m\u001b[0mself\u001b[0m\u001b[0;34m,\u001b[0m \u001b[0mtimeout\u001b[0m\u001b[0;34m=\u001b[0m\u001b[0;32mNone\u001b[0m\u001b[0;34m)\u001b[0m\u001b[0;34m:\u001b[0m\u001b[0;34m\u001b[0m\u001b[0m\n\u001b[0;32m--> 599\u001b[0;31m         \u001b[0mself\u001b[0m\u001b[0;34m.\u001b[0m\u001b[0m_event\u001b[0m\u001b[0;34m.\u001b[0m\u001b[0mwait\u001b[0m\u001b[0;34m(\u001b[0m\u001b[0mtimeout\u001b[0m\u001b[0;34m)\u001b[0m\u001b[0;34m\u001b[0m\u001b[0m\n\u001b[0m\u001b[1;32m    600\u001b[0m \u001b[0;34m\u001b[0m\u001b[0m\n\u001b[1;32m    601\u001b[0m     \u001b[0;32mdef\u001b[0m \u001b[0mget\u001b[0m\u001b[0;34m(\u001b[0m\u001b[0mself\u001b[0m\u001b[0;34m,\u001b[0m \u001b[0mtimeout\u001b[0m\u001b[0;34m=\u001b[0m\u001b[0;32mNone\u001b[0m\u001b[0;34m)\u001b[0m\u001b[0;34m:\u001b[0m\u001b[0;34m\u001b[0m\u001b[0m\n",
      "\u001b[0;32m/Users/kschocz/miniconda3/lib/python3.5/threading.py\u001b[0m in \u001b[0;36mwait\u001b[0;34m(self, timeout)\u001b[0m\n\u001b[1;32m    547\u001b[0m             \u001b[0msignaled\u001b[0m \u001b[0;34m=\u001b[0m \u001b[0mself\u001b[0m\u001b[0;34m.\u001b[0m\u001b[0m_flag\u001b[0m\u001b[0;34m\u001b[0m\u001b[0m\n\u001b[1;32m    548\u001b[0m             \u001b[0;32mif\u001b[0m \u001b[0;32mnot\u001b[0m \u001b[0msignaled\u001b[0m\u001b[0;34m:\u001b[0m\u001b[0;34m\u001b[0m\u001b[0m\n\u001b[0;32m--> 549\u001b[0;31m                 \u001b[0msignaled\u001b[0m \u001b[0;34m=\u001b[0m \u001b[0mself\u001b[0m\u001b[0;34m.\u001b[0m\u001b[0m_cond\u001b[0m\u001b[0;34m.\u001b[0m\u001b[0mwait\u001b[0m\u001b[0;34m(\u001b[0m\u001b[0mtimeout\u001b[0m\u001b[0;34m)\u001b[0m\u001b[0;34m\u001b[0m\u001b[0m\n\u001b[0m\u001b[1;32m    550\u001b[0m             \u001b[0;32mreturn\u001b[0m \u001b[0msignaled\u001b[0m\u001b[0;34m\u001b[0m\u001b[0m\n\u001b[1;32m    551\u001b[0m \u001b[0;34m\u001b[0m\u001b[0m\n",
      "\u001b[0;32m/Users/kschocz/miniconda3/lib/python3.5/threading.py\u001b[0m in \u001b[0;36mwait\u001b[0;34m(self, timeout)\u001b[0m\n\u001b[1;32m    291\u001b[0m         \u001b[0;32mtry\u001b[0m\u001b[0;34m:\u001b[0m    \u001b[0;31m# restore state no matter what (e.g., KeyboardInterrupt)\u001b[0m\u001b[0;34m\u001b[0m\u001b[0m\n\u001b[1;32m    292\u001b[0m             \u001b[0;32mif\u001b[0m \u001b[0mtimeout\u001b[0m \u001b[0;32mis\u001b[0m \u001b[0;32mNone\u001b[0m\u001b[0;34m:\u001b[0m\u001b[0;34m\u001b[0m\u001b[0m\n\u001b[0;32m--> 293\u001b[0;31m                 \u001b[0mwaiter\u001b[0m\u001b[0;34m.\u001b[0m\u001b[0macquire\u001b[0m\u001b[0;34m(\u001b[0m\u001b[0;34m)\u001b[0m\u001b[0;34m\u001b[0m\u001b[0m\n\u001b[0m\u001b[1;32m    294\u001b[0m                 \u001b[0mgotit\u001b[0m \u001b[0;34m=\u001b[0m \u001b[0;32mTrue\u001b[0m\u001b[0;34m\u001b[0m\u001b[0m\n\u001b[1;32m    295\u001b[0m             \u001b[0;32melse\u001b[0m\u001b[0;34m:\u001b[0m\u001b[0;34m\u001b[0m\u001b[0m\n",
      "\u001b[0;31mKeyboardInterrupt\u001b[0m: "
     ]
    }
   ],
   "source": [
    "#X, Y = get_data_feat(is_sample = True)\n",
    "\n",
    "X, Y = get_data_feat(is_sample = False)"
   ]
  },
  {
   "cell_type": "code",
   "execution_count": 34,
   "metadata": {
    "collapsed": false
   },
   "outputs": [],
   "source": [
    "#sample_fits = model_fitting(X, Y, dump_file = 'model.p')\n",
    "#pickle_model = get_pickle_model(sample_fits, dump_file = 'model.p')\n",
    "\n",
    "fitted_models = model_fitting(X, Y, dump_file = 'model.p')\n"
   ]
  },
  {
   "cell_type": "code",
   "execution_count": 37,
   "metadata": {
    "collapsed": false
   },
   "outputs": [],
   "source": [
    "import pickle\n",
    "\n",
    "def get_pickle_model2(modelz, dump_file = 'model.p'):\n",
    "    \n",
    "    # Save out only best model \n",
    "    if dump_file:\n",
    "        with open(dump_file, \"wb\") as fp:\n",
    "            #joblib.dump(modelz.best_estimator_, fp, protocol = pickle.HIGHEST_PROTOCOL, compression = 9)\n",
    "            joblib.dump(modelz.best_estimator_, 'model.p', protocol = pickle.HIGHEST_PROTOCOL)\n",
    "    return modelz.best_estimator_\n",
    "\n",
    "pickle_model = get_pickle_model2(fitted_models, dump_file = 'model.p')"
   ]
  },
  {
   "cell_type": "code",
   "execution_count": 38,
   "metadata": {
    "collapsed": false
   },
   "outputs": [
    {
     "data": {
      "text/plain": [
       "array(['1', '1', '1', ..., '50', '50', '50'], \n",
       "      dtype='<U147')"
      ]
     },
     "execution_count": 38,
     "metadata": {},
     "output_type": "execute_result"
    }
   ],
   "source": [
    "pickle_model.predict(X)"
   ]
  },
  {
   "cell_type": "code",
   "execution_count": 1,
   "metadata": {
    "collapsed": false
   },
   "outputs": [],
   "source": [
    "def get_pickle_model_comp(modelz, dump_file = 'model.p'):\n",
    "    \n",
    "    # Save out only best model \n",
    "    if dump_file:\n",
    "        with open(dump_file, \"wb\") as fp:\n",
    "            joblib.dump(modelz.best_estimator_, 'comprmodel.p', protocol = pickle.HIGHEST_PROTOCOL, compress = 9)\n",
    "            #joblib.dump(modelz.best_estimator_, 'model.p', protocol = pickle.HIGHEST_PROTOCOL)\n",
    "    return modelz.best_estimator_\n",
    "\n",
    "#pickle_model_comp = get_pickle_model_comp(fitted_models, dump_file = 'model.p')"
   ]
  },
  {
   "cell_type": "code",
   "execution_count": null,
   "metadata": {
    "collapsed": true
   },
   "outputs": [],
   "source": []
  }
 ],
 "metadata": {
  "anaconda-cloud": {},
  "kernelspec": {
   "display_name": "Python [default]",
   "language": "python",
   "name": "python3"
  },
  "language_info": {
   "codemirror_mode": {
    "name": "ipython",
    "version": 3
   },
   "file_extension": ".py",
   "mimetype": "text/x-python",
   "name": "python",
   "nbconvert_exporter": "python",
   "pygments_lexer": "ipython3",
   "version": "3.5.2"
  }
 },
 "nbformat": 4,
 "nbformat_minor": 1
}
