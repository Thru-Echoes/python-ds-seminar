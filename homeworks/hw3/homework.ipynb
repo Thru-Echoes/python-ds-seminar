{
 "cells": [
  {
   "cell_type": "markdown",
   "metadata": {},
   "source": [
    "# Interaction with the World Homework (#3)\n",
    "Python Computing for Data Science (c) J Bloom, UC Berkeley, 2016"
   ]
  },
  {
   "cell_type": "markdown",
   "metadata": {},
   "source": [
    "# 1) Monty: The Python Siri\n",
    "\n",
    "Let's make a Siri-like program with the following properties:\n",
    "   - record your voice command\n",
    "   - use a webservice to parse that sound file into text\n",
    "   - based on what the text, take three different types of actions:\n",
    "       - send an email to yourself\n",
    "       - do some math\n",
    "       - tell a joke\n",
    "\n",
    "So for example, if you say \"Monty: email me with subject hello and body goodbye\", it will email you with the appropriate subject and body. If you say \"Monty: tell me a joke\" then it will go to the web and find a joke and print it for you. If you say, \"Monty: calculate two times three\" it should response with printing the number 6.\n",
    "\n",
    "Hint: you can use speed-to-text apps like Houndify to return the text (but not do the actions). You'll need to sign up for a free API and then follow documentation instructions for using the service within Python. "
   ]
  },
  {
   "cell_type": "code",
   "execution_count": null,
   "metadata": {
    "collapsed": true
   },
   "outputs": [],
   "source": []
  },
  {
   "cell_type": "markdown",
   "metadata": {},
   "source": [
    "# 2) Write a program that identifies musical notes from sound (AIFF) files. \n",
    "\n",
    "  - Run it on the supplied sound files (12) and report your program’s results. \n",
    "  - Use the labeled sounds (4) to make sure it works correctly. The provided sound files contain 1-3 simultaneous notes from different organs.\n",
    "  - Save copies of any example plots to illustrate how your program works.\n",
    "  \n",
    "  https://piazza.com/berkeley/fall2016/ay250/resources -> hw3_sound_files.zip"
   ]
  },
  {
   "cell_type": "markdown",
   "metadata": {},
   "source": [
    "Hints: You’ll want to decompose the sound into a frequency power spectrum. Use a Fast Fourier Transform. Be care about “unpacking” the string hexcode into python data structures. The sound files use 32 bit data. Play around with what happens when you convert the string data to other integer sizes, or signed vs unsigned integers. Also, beware of harmonics."
   ]
  },
  {
   "cell_type": "code",
   "execution_count": 24,
   "metadata": {
    "collapsed": true
   },
   "outputs": [],
   "source": [
    "# Import\n",
    "from pyaudio import PyAudio\n",
    "from pyaudio import paFloat32\n",
    "from pyaudio import paContinue\n",
    "from time import sleep\n",
    "from numpy import array, random, arange, float32, float64, zeros\n",
    "import matplotlib.pyplot as plt"
   ]
  },
  {
   "cell_type": "code",
   "execution_count": 26,
   "metadata": {
    "collapsed": true
   },
   "outputs": [],
   "source": [
    "# References: \n",
    "\n",
    "# http://samcarcagno.altervista.org/blog/basic-sound-processing-python/\n",
    "\n",
    "# https://gist.github.com/endolith/255291\n",
    "\n",
    "# http://www.cs.tut.fi/sgn/arg/intro/basics.html\n",
    "\n",
    "# https://github.com/endolith/waveform-analyzer/blob/master/frequency_estimator.py"
   ]
  },
  {
   "cell_type": "code",
   "execution_count": 3,
   "metadata": {
    "collapsed": false
   },
   "outputs": [],
   "source": [
    "################################### Constants ##################################\n",
    "\n",
    "fs            = 44100   # Hz\n",
    "threshold     = 0.8     # absolute gain\n",
    "delay         = 40      # samples\n",
    "signalLength  = 1       # second\n",
    "relCoeff      = 0.9999  # release time factor\n",
    "attCoeff      = 0.9     # attack time factor\n",
    "dtype         = 'float32' # default data type\n",
    "blockLength   = 1024    # samples"
   ]
  },
  {
   "cell_type": "code",
   "execution_count": 4,
   "metadata": {
    "collapsed": false
   },
   "outputs": [
    {
     "name": "stderr",
     "output_type": "stream",
     "text": [
      "/Users/kschocz/Library/Python/3.5/lib/python/site-packages/ipykernel/__main__.py:5: VisibleDeprecationWarning: using a non-integer number instead of an integer will result in an error in the future\n",
      "/Users/kschocz/Library/Python/3.5/lib/python/site-packages/ipykernel/__main__.py:6: VisibleDeprecationWarning: using a non-integer number instead of an integer will result in an error in the future\n"
     ]
    }
   ],
   "source": [
    "\n",
    "#################### Generate quiet-loud-quiet noise signal ####################\n",
    "\n",
    "signal = array(random.rand(fs * signalLength) * 2 - 1, dtype = dtype)\n",
    "signal[:signalLength * fs / 3] *= 0.1\n",
    "signal[signalLength * fs * 2 / 3:] *= 0.1"
   ]
  },
  {
   "cell_type": "code",
   "execution_count": 5,
   "metadata": {
    "collapsed": false
   },
   "outputs": [],
   "source": [
    "class AudioLimiter(object):\n",
    "    \n",
    "    def __init__(self, attCoeff, relCoeff, delay, dtype = 'float32'):\n",
    "        self.delayIdx = 0\n",
    "        self.env = 0\n",
    "        self.gain = 1\n",
    "        self.delay = delay\n",
    "        self.delayLine = zeros(delay, dtype = dtype)\n",
    "        self.attCoeff = attCoeff\n",
    "        self.relCoeff = relCoeff\n",
    "        \n",
    "    def getLimit(self, signal, threshold):\n",
    "        for i in arange(len(signal)):\n",
    "            self.delayLine[self.delayIdx] = signal[i]\n",
    "            self.delayIdx = (self.delayIdx + 1) % self.delay\n",
    "            \n",
    "            # Calc env of signal\n",
    "            self.env *= self.relCoeff\n",
    "            self.env = max(abs(signal[i]), self.env)\n",
    "            \n",
    "            # Gain moves towards limiter gain\n",
    "            if(self.env > threshold):\n",
    "                targetGain = (1 + threshold - self.env)\n",
    "            else:\n",
    "                targetGain = 1.0\n",
    "            self.gain = (self.gain * self.attCoeff + targetGain * (1 - self.attCoeff))\n",
    "            \n",
    "            # Limit the delayed signal\n",
    "            signal[i] = self.delayLine[self.delayIdx] * self.gain"
   ]
  },
  {
   "cell_type": "code",
   "execution_count": 19,
   "metadata": {
    "collapsed": false
   },
   "outputs": [],
   "source": [
    "def callback(dIn, frameCount, timeInfo, flag):\n",
    "    if(flag):\n",
    "        print(\"Playback error: %i\" % flag)\n",
    "    global counter\n",
    "    playedFrames = counter\n",
    "    counter += frameCount\n",
    "    audioLimit.getLimit(signal[playedFrames:counter], threshold)\n",
    "    return signal[playedFrames:counter], paContinue\n",
    "\n",
    "#callback.counter = 0\n",
    "counter = 0"
   ]
  },
  {
   "cell_type": "code",
   "execution_count": 20,
   "metadata": {
    "collapsed": false
   },
   "outputs": [],
   "source": [
    "originalSignal = array(signal, copy = True, dtype = dtype)\n",
    "\n",
    "audioLimit = AudioLimiter(attCoeff, relCoeff, delay, dtype) "
   ]
  },
  {
   "cell_type": "code",
   "execution_count": 21,
   "metadata": {
    "collapsed": false
   },
   "outputs": [],
   "source": [
    "pa = PyAudio()"
   ]
  },
  {
   "cell_type": "code",
   "execution_count": 22,
   "metadata": {
    "collapsed": false
   },
   "outputs": [],
   "source": [
    "\n",
    "# Real-time audio processing\n",
    "audioStream = pa.open(format = paFloat32,\n",
    "                     channels = 1,\n",
    "                     rate = 44100,\n",
    "                     output = True,\n",
    "                     frames_per_buffer = 1024,\n",
    "                     stream_callback = callback)\n",
    "\n",
    "while audioStream.is_active():\n",
    "    sleep(0.1)\n",
    "    \n",
    "audioStream.close()\n",
    "pa.terminate()"
   ]
  },
  {
   "cell_type": "code",
   "execution_count": 23,
   "metadata": {
    "collapsed": false
   },
   "outputs": [
    {
     "data": {
      "image/png": "[encoded data removed]",
      "text/plain": [
       "<matplotlib.figure.Figure at 0x10b125e48>"
      ]
     },
     "metadata": {},
     "output_type": "display_data"
    }
   ],
   "source": [
    "plt.figure()\n",
    "plt.plot(originalSignal, color = 'grey', label = 'original signal')\n",
    "plt.plot(signal, color = 'black', label = 'limited signal')\n",
    "plt.legend()\n",
    "plt.show(block = True)"
   ]
  },
  {
   "cell_type": "code",
   "execution_count": null,
   "metadata": {
    "collapsed": true
   },
   "outputs": [],
   "source": []
  },
  {
   "cell_type": "code",
   "execution_count": null,
   "metadata": {
    "collapsed": true
   },
   "outputs": [],
   "source": [
    "### Alternative way to save plots \n",
    "\n",
    "from numpy import *\n",
    "from matplotlib.pyplot import *\n",
    "\n",
    "random.seed(0)\n",
    "noise = random.randn(5000)\n",
    "noise /= max(noise)\n",
    "envelope = zeros(5000)\n",
    "gain = ones(5000)\n",
    "\n",
    "threshold = 0.85\n",
    "\n",
    "for i in arange(len(noise)):\n",
    "    envelope[i] = max(abs(envelope[i-1]) * 0.9998, abs(noise[i]))\n",
    "    if envelope[i] > threshold:\n",
    "        target_gain = 1.0 + threshold - envelope[i]\n",
    "    else:\n",
    "        target_gain = 1.0\n",
    "    gain[i] = gain[i-1]*0.8 + target_gain*(1-0.8)\n",
    "\n",
    "figure(figsize=(5,2.5))\n",
    "plot(abs(noise), color='lightgrey', label='|noise|')\n",
    "plot(envelope, color='black', linewidth=2, label='envelope')\n",
    "xlabel('time/samples')\n",
    "xticks(())\n",
    "ylabel('gain/linear')\n",
    "yticks(())\n",
    "legend(loc='lower right')\n",
    "tight_layout()\n",
    "savefig('envelope.png')\n",
    "\n",
    "plot((0, len(noise)),(threshold,threshold), color='grey', linewidth=2)\n",
    "plot(gain-(1-threshold), color='red', linewidth=2, label='gain')\n",
    "legend(loc='lower right')\n",
    "savefig('gain.png')\n",
    "\n",
    "xlim(3000,3200)\n",
    "ylim(0.6,1.1)\n",
    "legend().set_visible(False)\n",
    "savefig('detail.png')"
   ]
  }
 ],
 "metadata": {
  "kernelspec": {
   "display_name": "Python 3",
   "language": "python",
   "name": "python3"
  },
  "language_info": {
   "codemirror_mode": {
    "name": "ipython",
    "version": 3
   },
   "file_extension": ".py",
   "mimetype": "text/x-python",
   "name": "python",
   "nbconvert_exporter": "python",
   "pygments_lexer": "ipython3",
   "version": "3.5.2"
  }
 },
 "nbformat": 4,
 "nbformat_minor": 0
}
