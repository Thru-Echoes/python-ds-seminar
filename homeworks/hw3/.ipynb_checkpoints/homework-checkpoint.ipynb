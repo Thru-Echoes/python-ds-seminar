{
 "cells": [
  {
   "cell_type": "markdown",
   "metadata": {},
   "source": [
    "# Interaction with the World Homework (#3)\n",
    "Python Computing for Data Science (c) J Bloom, UC Berkeley, 2016"
   ]
  },
  {
   "cell_type": "markdown",
   "metadata": {},
   "source": [
    "# 1) Monty: The Python Siri\n",
    "\n",
    "Let's make a Siri-like program with the following properties:\n",
    "   - record your voice command\n",
    "   - use a webservice to parse that sound file into text\n",
    "   - based on what the text, take three different types of actions:\n",
    "       - send an email to yourself\n",
    "       - do some math\n",
    "       - tell a joke\n",
    "\n",
    "So for example, if you say \"Monty: email me with subject hello and body goodbye\", it will email you with the appropriate subject and body. If you say \"Monty: tell me a joke\" then it will go to the web and find a joke and print it for you. If you say, \"Monty: calculate two times three\" it should response with printing the number 6.\n",
    "\n",
    "Hint: you can use speed-to-text apps like Houndify to return the text (but not do the actions). You'll need to sign up for a free API and then follow documentation instructions for using the service within Python. "
   ]
  },
  {
   "cell_type": "code",
   "execution_count": null,
   "metadata": {
    "collapsed": true
   },
   "outputs": [],
   "source": []
  },
  {
   "cell_type": "markdown",
   "metadata": {},
   "source": [
    "# 2) Write a program that identifies musical notes from sound (AIFF) files. \n",
    "\n",
    "  - Run it on the supplied sound files (12) and report your program’s results. \n",
    "  - Use the labeled sounds (4) to make sure it works correctly. The provided sound files contain 1-3 simultaneous notes from different organs.\n",
    "  - Save copies of any example plots to illustrate how your program works.\n",
    "  \n",
    "  https://piazza.com/berkeley/fall2016/ay250/resources -> hw3_sound_files.zip"
   ]
  },
  {
   "cell_type": "markdown",
   "metadata": {},
   "source": [
    "Hints: You’ll want to decompose the sound into a frequency power spectrum. Use a Fast Fourier Transform. Be care about “unpacking” the string hexcode into python data structures. The sound files use 32 bit data. Play around with what happens when you convert the string data to other integer sizes, or signed vs unsigned integers. Also, beware of harmonics."
   ]
  },
  {
   "cell_type": "code",
   "execution_count": 1,
   "metadata": {
    "collapsed": false
   },
   "outputs": [
    {
     "data": {
      "text/plain": [
       "['',\n",
       " '/usr/local/Cellar/python3/3.5.2_1/Frameworks/Python.framework/Versions/3.5/lib/python35.zip',\n",
       " '/usr/local/Cellar/python3/3.5.2_1/Frameworks/Python.framework/Versions/3.5/lib/python3.5',\n",
       " '/usr/local/Cellar/python3/3.5.2_1/Frameworks/Python.framework/Versions/3.5/lib/python3.5/plat-darwin',\n",
       " '/usr/local/Cellar/python3/3.5.2_1/Frameworks/Python.framework/Versions/3.5/lib/python3.5/lib-dynload',\n",
       " '/Users/echoes/Library/Python/3.5/lib/python/site-packages',\n",
       " '/usr/local/lib/python3.5/site-packages',\n",
       " '/Users/echoes/Library/Python/3.5/lib/python/site-packages/IPython/extensions',\n",
       " '/Users/echoes/.ipython']"
      ]
     },
     "execution_count": 1,
     "metadata": {},
     "output_type": "execute_result"
    }
   ],
   "source": [
    "import sys\n",
    "sys.executable\n",
    "sys.path"
   ]
  },
  {
   "cell_type": "code",
   "execution_count": 4,
   "metadata": {
    "collapsed": false
   },
   "outputs": [
    {
     "name": "stderr",
     "output_type": "stream",
     "text": [
      "/Users/echoes/Library/Python/3.5/lib/python/site-packages/matplotlib/font_manager.py:273: UserWarning: Matplotlib is building the font cache using fc-list. This may take a moment.\n",
      "  warnings.warn('Matplotlib is building the font cache using fc-list. This may take a moment.')\n",
      "/Users/echoes/Library/Python/3.5/lib/python/site-packages/matplotlib/font_manager.py:273: UserWarning: Matplotlib is building the font cache using fc-list. This may take a moment.\n",
      "  warnings.warn('Matplotlib is building the font cache using fc-list. This may take a moment.')\n"
     ]
    }
   ],
   "source": [
    "# Import\n",
    "from pyaudio import PyAudio\n",
    "from pyaudio import paFloat32\n",
    "from pyaudio import paContinue\n",
    "from time import sleep\n",
    "from numpy import array, random, arange, float32, float64, zeros\n",
    "import matplotlib.pyplot as plt"
   ]
  },
  {
   "cell_type": "code",
   "execution_count": null,
   "metadata": {
    "collapsed": true
   },
   "outputs": [],
   "source": [
    "# References: \n",
    "\n",
    "# http://samcarcagno.altervista.org/blog/basic-sound-processing-python/\n",
    "\n",
    "# https://gist.github.com/endolith/255291\n",
    "\n",
    "# http://www.cs.tut.fi/sgn/arg/intro/basics.html\n",
    "\n",
    "# https://github.com/endolith/waveform-analyzer/blob/master/frequency_estimator.py"
   ]
  },
  {
   "cell_type": "code",
   "execution_count": 5,
   "metadata": {
    "collapsed": false
   },
   "outputs": [],
   "source": [
    "################################### Constants ##################################\n",
    "\n",
    "fs            = 44100   # Hz\n",
    "threshold     = 0.8     # absolute gain\n",
    "delay         = 40      # samples\n",
    "signalLength  = 1       # second\n",
    "relCoeff      = 0.9999  # release time factor\n",
    "attCoeff      = 0.9     # attack time factor\n",
    "dtype         = 'float32' # default data type\n",
    "blockLength   = 1024    # samples"
   ]
  },
  {
   "cell_type": "code",
   "execution_count": 6,
   "metadata": {
    "collapsed": false
   },
   "outputs": [
    {
     "name": "stderr",
     "output_type": "stream",
     "text": [
      "/Users/echoes/Library/Python/3.5/lib/python/site-packages/ipykernel/__main__.py:5: VisibleDeprecationWarning: using a non-integer number instead of an integer will result in an error in the future\n",
      "/Users/echoes/Library/Python/3.5/lib/python/site-packages/ipykernel/__main__.py:6: VisibleDeprecationWarning: using a non-integer number instead of an integer will result in an error in the future\n"
     ]
    }
   ],
   "source": [
    "\n",
    "#################### Generate quiet-loud-quiet noise signal ####################\n",
    "\n",
    "signal = array(random.rand(fs * signalLength) * 2 - 1, dtype = dtype)\n",
    "signal[:signalLength * fs / 3] *= 0.1\n",
    "signal[signalLength * fs * 2 / 3:] *= 0.1"
   ]
  },
  {
   "cell_type": "code",
   "execution_count": 7,
   "metadata": {
    "collapsed": false
   },
   "outputs": [],
   "source": [
    "class AudioLimiter(object):\n",
    "    \n",
    "    def __init__(self, attCoeff, relCoeff, delay, dtype = 'float32'):\n",
    "        self.delayIdx = 0\n",
    "        self.env = 0\n",
    "        self.gain = 1\n",
    "        self.delay = delay\n",
    "        self.delayLine = zeros(delay, dtype = dtype)\n",
    "        self.attCoeff = attCoeff\n",
    "        self.relCoeff = relCoeff\n",
    "        \n",
    "    def getLimit(self, signal, threshold):\n",
    "        for i in arange(len(signal)):\n",
    "            self.delayLine[self.delayIdx] = signal[i]\n",
    "            self.delayIdx = (self.delayIdx + 1) % self.delay\n",
    "            \n",
    "            # Calc env of signal\n",
    "            self.env *= self.relCoeff\n",
    "            self.env = max(abs(signal[i]), self.env)\n",
    "            \n",
    "            # Gain moves towards limiter gain\n",
    "            if(self.env > threshold):\n",
    "                targetGain = (1 + threshold - self.env)\n",
    "            else:\n",
    "                targetGain = 1.0\n",
    "            self.gain = (self.gain * self.attCoeff + targetGain * (1 - self.attCoeff))\n",
    "            \n",
    "            # Limit the delayed signal\n",
    "            signal[i] = self.delayLine[self.delayIdx] * self.gain"
   ]
  },
  {
   "cell_type": "code",
   "execution_count": 8,
   "metadata": {
    "collapsed": false
   },
   "outputs": [],
   "source": [
    "def callback(dIn, frameCount, timeInfo, flag):\n",
    "    if(flag):\n",
    "        print(\"Playback error: %i\" % flag)\n",
    "    global counter\n",
    "    playedFrames = counter\n",
    "    counter += frameCount\n",
    "    audioLimit.getLimit(signal[playedFrames:counter], threshold)\n",
    "    return signal[playedFrames:counter], paContinue\n",
    "\n",
    "#callback.counter = 0\n",
    "counter = 0"
   ]
  },
  {
   "cell_type": "code",
   "execution_count": 9,
   "metadata": {
    "collapsed": false
   },
   "outputs": [],
   "source": [
    "originalSignal = array(signal, copy = True, dtype = dtype)\n",
    "\n",
    "audioLimit = AudioLimiter(attCoeff, relCoeff, delay, dtype) "
   ]
  },
  {
   "cell_type": "code",
   "execution_count": 10,
   "metadata": {
    "collapsed": false
   },
   "outputs": [],
   "source": [
    "pa = PyAudio()"
   ]
  },
  {
   "cell_type": "code",
   "execution_count": 11,
   "metadata": {
    "collapsed": false
   },
   "outputs": [],
   "source": [
    "\n",
    "# Real-time audio processing\n",
    "audioStream = pa.open(format = paFloat32,\n",
    "                     channels = 1,\n",
    "                     rate = 44100,\n",
    "                     output = True,\n",
    "                     frames_per_buffer = 1024,\n",
    "                     stream_callback = callback)\n",
    "\n",
    "while audioStream.is_active():\n",
    "    sleep(0.1)\n",
    "    \n",
    "audioStream.close()\n",
    "pa.terminate()"
   ]
  },
  {
   "cell_type": "code",
   "execution_count": 12,
   "metadata": {
    "collapsed": false
   },
   "outputs": [
    {
     "data": {
      "image/png": "[encoded data removed]",
      "text/plain": [
       "<matplotlib.figure.Figure at 0x10c2cc978>"
      ]
     },
     "metadata": {},
     "output_type": "display_data"
    }
   ],
   "source": [
    "plt.figure()\n",
    "plt.plot(originalSignal, color = 'grey', label = 'original signal')\n",
    "plt.plot(signal, color = 'black', label = 'limited signal')\n",
    "plt.legend()\n",
    "plt.show(block = True)"
   ]
  },
  {
   "cell_type": "code",
   "execution_count": null,
   "metadata": {
    "collapsed": true
   },
   "outputs": [],
   "source": []
  },
  {
   "cell_type": "code",
   "execution_count": null,
   "metadata": {
    "collapsed": true
   },
   "outputs": [],
   "source": [
    "### Alternative way to save plots \n",
    "\n",
    "from numpy import *\n",
    "from matplotlib.pyplot import *\n",
    "\n",
    "random.seed(0)\n",
    "noise = random.randn(5000)\n",
    "noise /= max(noise)\n",
    "envelope = zeros(5000)\n",
    "gain = ones(5000)\n",
    "\n",
    "threshold = 0.85\n",
    "\n",
    "for i in arange(len(noise)):\n",
    "    envelope[i] = max(abs(envelope[i-1]) * 0.9998, abs(noise[i]))\n",
    "    if envelope[i] > threshold:\n",
    "        target_gain = 1.0 + threshold - envelope[i]\n",
    "    else:\n",
    "        target_gain = 1.0\n",
    "    gain[i] = gain[i-1]*0.8 + target_gain*(1-0.8)\n",
    "\n",
    "figure(figsize=(5,2.5))\n",
    "plot(abs(noise), color='lightgrey', label='|noise|')\n",
    "plot(envelope, color='black', linewidth=2, label='envelope')\n",
    "xlabel('time/samples')\n",
    "xticks(())\n",
    "ylabel('gain/linear')\n",
    "yticks(())\n",
    "legend(loc='lower right')\n",
    "tight_layout()\n",
    "savefig('envelope.png')\n",
    "\n",
    "plot((0, len(noise)),(threshold,threshold), color='grey', linewidth=2)\n",
    "plot(gain-(1-threshold), color='red', linewidth=2, label='gain')\n",
    "legend(loc='lower right')\n",
    "savefig('gain.png')\n",
    "\n",
    "xlim(3000,3200)\n",
    "ylim(0.6,1.1)\n",
    "legend().set_visible(False)\n",
    "savefig('detail.png')"
   ]
  },
  {
   "cell_type": "code",
   "execution_count": null,
   "metadata": {
    "collapsed": true
   },
   "outputs": [],
   "source": []
  },
  {
   "cell_type": "code",
   "execution_count": 26,
   "metadata": {
    "collapsed": false
   },
   "outputs": [],
   "source": [
    "import scipy.io.wavfile\n",
    "import aifc\n",
    "import numpy as np\n",
    "\n",
    "#rate, dat = scipy.io.wavfile.read(\"hw3_data/sound_files/1.aif\", mmap = False)\n",
    "\n",
    "audio = aifc.open(\"hw3_data/sound_files/F3_popOrgan.aif\")\n",
    "frames = audio.getnframes()\n",
    "channels = audio.getnchannels()\n",
    "frameRate = audio.getframerate()"
   ]
  },
  {
   "cell_type": "code",
   "execution_count": 27,
   "metadata": {
    "collapsed": false
   },
   "outputs": [],
   "source": [
    "datBytes = audio.readframes(frames)"
   ]
  },
  {
   "cell_type": "code",
   "execution_count": 28,
   "metadata": {
    "collapsed": false
   },
   "outputs": [
    {
     "data": {
      "text/plain": [
       "705600"
      ]
     },
     "execution_count": 28,
     "metadata": {},
     "output_type": "execute_result"
    }
   ],
   "source": [
    "frames"
   ]
  },
  {
   "cell_type": "code",
   "execution_count": 29,
   "metadata": {
    "collapsed": false
   },
   "outputs": [],
   "source": [
    "#len(dat)"
   ]
  },
  {
   "cell_type": "code",
   "execution_count": 30,
   "metadata": {
    "collapsed": false
   },
   "outputs": [],
   "source": [
    "dat = np.fromstring(datBytes, dtype = np.int32)"
   ]
  },
  {
   "cell_type": "code",
   "execution_count": 31,
   "metadata": {
    "collapsed": false
   },
   "outputs": [
    {
     "data": {
      "text/plain": [
       "(705600,)"
      ]
     },
     "execution_count": 31,
     "metadata": {},
     "output_type": "execute_result"
    }
   ],
   "source": [
    "dat.shape"
   ]
  },
  {
   "cell_type": "code",
   "execution_count": 32,
   "metadata": {
    "collapsed": false
   },
   "outputs": [
    {
     "data": {
      "text/plain": [
       "<matplotlib.text.Text at 0x11220acf8>"
      ]
     },
     "execution_count": 32,
     "metadata": {},
     "output_type": "execute_result"
    },
    {
     "data": {
      "image/png": "[encoded data removed]",
      "text/plain": [
       "<matplotlib.figure.Figure at 0x10b88bfd0>"
      ]
     },
     "metadata": {},
     "output_type": "display_data"
    }
   ],
   "source": [
    "# Amplitude to time \n",
    "\n",
    "%matplotlib inline\n",
    "import numpy as np\n",
    "import matplotlib.pyplot as plt\n",
    "from scipy import *\n",
    "\n",
    "#integer_data = fromstring(data, dtype=np.int32)\n",
    "time = arange(size(dat)) / float(frameRate)\n",
    "plot_title = (\"Audio Analysis\")\n",
    "\n",
    "fig = plt.figure(figsize=(7, 4.5))\n",
    "ax1 = fig.add_subplot(1,1,1)\n",
    "ax1.plot(time, dat, color=\"red\", linestyle=\"-\")\n",
    "ax1.set_xlabel(\"Time [s]\")\n",
    "ax1.set_ylabel(\"Amplitude\")\n",
    "ax1.set_xlim(min(time), max(time))\n",
    "ax1.set_title(plot_title)"
   ]
  },
  {
   "cell_type": "code",
   "execution_count": null,
   "metadata": {
    "collapsed": false
   },
   "outputs": [],
   "source": []
  },
  {
   "cell_type": "code",
   "execution_count": 33,
   "metadata": {
    "collapsed": false
   },
   "outputs": [],
   "source": [
    "# Make power spectrogram \n",
    "\n",
    "from scipy import signal\n",
    "\n",
    "#f, Pxx_spec = signal.periodogram(dat, frameRate, 'flattop', scaling = 'spectrum')\n",
    "f, Pxx_dens = signal.periodogram(dat, frameRate)"
   ]
  },
  {
   "cell_type": "code",
   "execution_count": 34,
   "metadata": {
    "collapsed": false
   },
   "outputs": [
    {
     "data": {
      "text/plain": [
       "(352801,)"
      ]
     },
     "execution_count": 34,
     "metadata": {},
     "output_type": "execute_result"
    }
   ],
   "source": [
    "f.shape"
   ]
  },
  {
   "cell_type": "code",
   "execution_count": 35,
   "metadata": {
    "collapsed": false
   },
   "outputs": [
    {
     "data": {
      "text/plain": [
       "(352801,)"
      ]
     },
     "execution_count": 35,
     "metadata": {},
     "output_type": "execute_result"
    }
   ],
   "source": [
    "Pxx_dens.shape"
   ]
  },
  {
   "cell_type": "code",
   "execution_count": 36,
   "metadata": {
    "collapsed": false
   },
   "outputs": [
    {
     "data": {
      "image/png": "[encoded data removed]",
      "text/plain": [
       "<matplotlib.figure.Figure at 0x11f314ba8>"
      ]
     },
     "metadata": {},
     "output_type": "display_data"
    }
   ],
   "source": [
    "plt.semilogy(f, Pxx_dens)\n",
    "plt.xlabel('frequency [Hz]')\n",
    "plt.ylabel('PSD [V**2/Hz]')\n",
    "plt.show()"
   ]
  },
  {
   "cell_type": "code",
   "execution_count": 37,
   "metadata": {
    "collapsed": false
   },
   "outputs": [
    {
     "data": {
      "text/plain": [
       "44279259818415.5"
      ]
     },
     "execution_count": 37,
     "metadata": {},
     "output_type": "execute_result"
    }
   ],
   "source": [
    "np.mean(Pxx_dens[256:])"
   ]
  },
  {
   "cell_type": "code",
   "execution_count": 38,
   "metadata": {
    "collapsed": false
   },
   "outputs": [
    {
     "data": {
      "image/png": "[encoded data removed]",
      "text/plain": [
       "<matplotlib.figure.Figure at 0x11002a908>"
      ]
     },
     "metadata": {},
     "output_type": "display_data"
    }
   ],
   "source": [
    "f, Pxx_spec = signal.periodogram(dat, frameRate, 'flattop', scaling='spectrum')\n",
    "plt.figure()\n",
    "plt.semilogy(f, np.sqrt(Pxx_spec))\n",
    "plt.xlabel('frequency [Hz]')\n",
    "plt.ylabel('Linear spectrum [V RMS]')\n",
    "plt.show()"
   ]
  },
  {
   "cell_type": "code",
   "execution_count": null,
   "metadata": {
    "collapsed": true
   },
   "outputs": [],
   "source": []
  },
  {
   "cell_type": "code",
   "execution_count": 39,
   "metadata": {
    "collapsed": false
   },
   "outputs": [
    {
     "data": {
      "text/plain": [
       "18577811.240173616"
      ]
     },
     "execution_count": 39,
     "metadata": {},
     "output_type": "execute_result"
    }
   ],
   "source": [
    "# Peak height in power spectrum is an estimate Root Mean Square amplitude \n",
    "np.sqrt(Pxx_spec.max())"
   ]
  },
  {
   "cell_type": "code",
   "execution_count": 40,
   "metadata": {
    "collapsed": false
   },
   "outputs": [
    {
     "data": {
      "text/plain": [
       "44100"
      ]
     },
     "execution_count": 40,
     "metadata": {},
     "output_type": "execute_result"
    }
   ],
   "source": [
    "frameRate"
   ]
  },
  {
   "cell_type": "code",
   "execution_count": 42,
   "metadata": {
    "collapsed": false
   },
   "outputs": [],
   "source": [
    "#audioFFT.shape"
   ]
  },
  {
   "cell_type": "code",
   "execution_count": 43,
   "metadata": {
    "collapsed": false
   },
   "outputs": [],
   "source": [
    "# Approach with numpy \n",
    "\n",
    "#p = 20 * np.log10(np.abs(np.fft.rfft(dat)))\n",
    "\n",
    "\n",
    "# Phase spectrum \n",
    "audioData = dat\n",
    "audioFFT = np.fft.rfft(audioData)\n",
    "audioAmp = np.abs(audioFFT)\n",
    "audioPower = np.abs(audioFFT)**2\n",
    "audioPhase = np.angle(audioFFT)\n",
    "\n",
    "# fftfreq(n, d), d = inverse of sampling rate \n",
    "audioFreqs = np.fft.fftfreq(audioFFT.size, 1 / frameRate)\n",
    "audioIdx = np.argsort(audioFreqs)\n",
    "\n",
    "# Take log10 of Amp to get in dB (decibels)\n",
    "\n",
    "f = np.linspace(0, frameRate / 2, len(audioFFT))"
   ]
  },
  {
   "cell_type": "code",
   "execution_count": 44,
   "metadata": {
    "collapsed": false
   },
   "outputs": [
    {
     "data": {
      "text/plain": [
       "352801"
      ]
     },
     "execution_count": 44,
     "metadata": {},
     "output_type": "execute_result"
    }
   ],
   "source": [
    "audioIdx.size\n"
   ]
  },
  {
   "cell_type": "code",
   "execution_count": 104,
   "metadata": {
    "collapsed": false
   },
   "outputs": [
    {
     "data": {
      "text/plain": [
       "[<matplotlib.lines.Line2D at 0x113bb0048>]"
      ]
     },
     "execution_count": 104,
     "metadata": {},
     "output_type": "execute_result"
    },
    {
     "data": {
      "image/png": "[encoded data removed]",
      "text/plain": [
       "<matplotlib.figure.Figure at 0x113bb0518>"
      ]
     },
     "metadata": {},
     "output_type": "display_data"
    }
   ],
   "source": [
    "audioFreqsIdx = audioFreqs[audioIdx]\n",
    "audioPowerIdx = audioPower[audioIdx]\n",
    "\n",
    "plt.xlim(0, 6000)\n",
    "#plt.plot(audioFreqs[audioIdx], audioPower[audioIdx])\n",
    "plt.plot(audioFreqsIdx, audioPowerIdx)"
   ]
  },
  {
   "cell_type": "code",
   "execution_count": 105,
   "metadata": {
    "collapsed": false
   },
   "outputs": [],
   "source": [
    "audioPowerMax = audioPowerIdx.max()\n",
    "audioPowerMaxIdx = audioPowerIdx.argmax()\n",
    "powerMaxIdx = audioPowerIdx.argsort()\n",
    "#audioFreqs.index(max(audioPower[audioIdx]))\n",
    "#idx(audioPower[audioIdx])"
   ]
  },
  {
   "cell_type": "code",
   "execution_count": 108,
   "metadata": {
    "collapsed": false
   },
   "outputs": [
    {
     "data": {
      "text/plain": [
       "50.696831749046268"
      ]
     },
     "execution_count": 108,
     "metadata": {},
     "output_type": "execute_result"
    }
   ],
   "source": [
    "np.log10(np.abs(audioPowerMax)**2)"
   ]
  },
  {
   "cell_type": "code",
   "execution_count": 107,
   "metadata": {
    "collapsed": false
   },
   "outputs": [
    {
     "data": {
      "text/plain": [
       "(352801,)"
      ]
     },
     "execution_count": 107,
     "metadata": {},
     "output_type": "execute_result"
    }
   ],
   "source": [
    "audioFreqsIdx.shape"
   ]
  },
  {
   "cell_type": "code",
   "execution_count": 49,
   "metadata": {
    "collapsed": true
   },
   "outputs": [],
   "source": [
    "#audioPowerIdx[powerMaxIdx[-1]]"
   ]
  },
  {
   "cell_type": "code",
   "execution_count": 54,
   "metadata": {
    "collapsed": false
   },
   "outputs": [
    {
     "data": {
      "text/plain": [
       "array([  1.01921214e+25,   1.02162355e+25,   1.02887408e+25,\n",
       "         1.04295309e+25,   1.04939237e+25,   1.05144310e+25,\n",
       "         1.06327120e+25,   1.08074304e+25,   1.09795336e+25,\n",
       "         1.14546602e+25,   1.16406302e+25,   1.16507527e+25,\n",
       "         1.16912875e+25,   1.17088827e+25,   1.19797608e+25,\n",
       "         1.24705266e+25,   1.26474942e+25,   1.28701606e+25,\n",
       "         1.29104691e+25,   1.33757812e+25,   1.34117312e+25,\n",
       "         1.38946275e+25,   1.39861988e+25,   1.40028492e+25,\n",
       "         1.46400599e+25,   1.47702554e+25,   1.48704540e+25,\n",
       "         1.64559727e+25,   1.67358523e+25,   2.23057009e+25])"
      ]
     },
     "execution_count": 54,
     "metadata": {},
     "output_type": "execute_result"
    }
   ],
   "source": [
    "#np.where(audioPowerIdx == audioPowerIdx.max())\n",
    "\n",
    "audioPowerIdx[powerMaxIdx[-30:], ]"
   ]
  },
  {
   "cell_type": "code",
   "execution_count": 100,
   "metadata": {
    "collapsed": false
   },
   "outputs": [
    {
     "data": {
      "text/plain": [
       "(100,)"
      ]
     },
     "execution_count": 100,
     "metadata": {},
     "output_type": "execute_result"
    }
   ],
   "source": [
    "audioFreqs100 = audioFreqsIdx[powerMaxIdx[-100:], ]\n",
    "audioFreqs100.shape"
   ]
  },
  {
   "cell_type": "code",
   "execution_count": 93,
   "metadata": {
    "collapsed": false
   },
   "outputs": [],
   "source": [
    "audioFreqsNonneg = audioFreqs100"
   ]
  },
  {
   "cell_type": "code",
   "execution_count": 96,
   "metadata": {
    "collapsed": false
   },
   "outputs": [
    {
     "name": "stderr",
     "output_type": "stream",
     "text": [
      "/Users/echoes/Library/Python/3.5/lib/python/site-packages/ipykernel/__main__.py:1: RuntimeWarning: invalid value encountered in greater\n",
      "  if __name__ == '__main__':\n"
     ]
    }
   ],
   "source": [
    " nonnegFreqs100 = audioFreqs100[audioFreqs100 > 0]"
   ]
  },
  {
   "cell_type": "code",
   "execution_count": 102,
   "metadata": {
    "collapsed": false
   },
   "outputs": [
    {
     "data": {
      "text/plain": [
       "697.24802367340226"
      ]
     },
     "execution_count": 102,
     "metadata": {},
     "output_type": "execute_result"
    }
   ],
   "source": [
    "nonnegFreqs100.min()"
   ]
  },
  {
   "cell_type": "code",
   "execution_count": 103,
   "metadata": {
    "collapsed": false
   },
   "outputs": [
    {
     "data": {
      "text/plain": [
       "<matplotlib.collections.PathCollection at 0x113b94198>"
      ]
     },
     "execution_count": 103,
     "metadata": {},
     "output_type": "execute_result"
    },
    {
     "data": {
      "image/png": "[encoded data removed]",
      "text/plain": [
       "<matplotlib.figure.Figure at 0x113828d30>"
      ]
     },
     "metadata": {},
     "output_type": "display_data"
    }
   ],
   "source": [
    "plt.xlim(0, 5580)\n",
    "#plt.ylim(220600, 221300)\n",
    "plt.scatter(audioFreqsIdx[powerMaxIdx[-100:], ], powerMaxIdx[-100:])"
   ]
  },
  {
   "cell_type": "code",
   "execution_count": null,
   "metadata": {
    "collapsed": false
   },
   "outputs": [],
   "source": []
  },
  {
   "cell_type": "code",
   "execution_count": null,
   "metadata": {
    "collapsed": false
   },
   "outputs": [],
   "source": []
  },
  {
   "cell_type": "code",
   "execution_count": null,
   "metadata": {
    "collapsed": true
   },
   "outputs": [],
   "source": []
  },
  {
   "cell_type": "code",
   "execution_count": null,
   "metadata": {
    "collapsed": true
   },
   "outputs": [],
   "source": [
    "# Make spectrogram \n",
    "\n",
    "#x = s1 + s2 + nse  # the signal\n",
    "#NFFT = 1024       # tzhe length of the windowing segments\n",
    "#Fs = int(1.0/dt)  # the sampling frequency\n",
    "\n",
    "# Pxx is the segments x freqs array of instantaneous power, freqs is\n",
    "# the frequency vector, bins are the centers of the time bins in which\n",
    "# the power is computed, and im is the matplotlib.image.AxesImage\n",
    "# instance\n",
    "\n",
    "#ax1 = plt.subplot(211)\n",
    "#plt.plot(t, x)\n",
    "#plt.subplot(212, sharex=ax1)\n",
    "#Pxx, freqs, bins, im = plt.specgram(x, NFFT=NFFT, Fs=Fs, noverlap=900,\n",
    "#                                cmap=plt.cm.gist_heat)\n",
    "#plt.show()\n",
    "\n",
    "\n",
    "%matplotlib inline\n",
    "import numpy as np\n",
    "import seaborn as sns\n",
    "import matplotlib.pyplot as plt\n",
    "sns.set(style=\"white\", context=\"poster\")\n",
    "\n",
    "Pxx, freqs, bins, im = plt.specgram(dat, NFFT = 2048 * 2, Fs = rate, noverlap = 512,\n",
    "                                cmap = plt.cm.viridis)\n",
    "plt.ylim(1,18000)\n",
    "plt.xlabel(\"Time [sec]\")\n",
    "plt.ylabel(\"Frequency [Hz]\")"
   ]
  },
  {
   "cell_type": "code",
   "execution_count": null,
   "metadata": {
    "collapsed": true
   },
   "outputs": [],
   "source": []
  }
 ],
 "metadata": {
  "kernelspec": {
   "display_name": "Python 3",
   "language": "python",
   "name": "python3"
  },
  "language_info": {
   "codemirror_mode": {
    "name": "ipython",
    "version": 3
   },
   "file_extension": ".py",
   "mimetype": "text/x-python",
   "name": "python",
   "nbconvert_exporter": "python",
   "pygments_lexer": "ipython3",
   "version": "3.5.2"
  }
 },
 "nbformat": 4,
 "nbformat_minor": 0
}
