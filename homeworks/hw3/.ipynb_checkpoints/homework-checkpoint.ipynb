{
 "cells": [
  {
   "cell_type": "markdown",
   "metadata": {},
   "source": [
    "## By: Oliver Muellerklein "
   ]
  },
  {
   "cell_type": "markdown",
   "metadata": {},
   "source": [
    "# Interaction with the World Homework (#3)\n",
    "Python Computing for Data Science (c) J Bloom, UC Berkeley, 2016"
   ]
  },
  {
   "cell_type": "markdown",
   "metadata": {},
   "source": [
    "# 1) Monty: The Python Siri\n",
    "\n",
    "Let's make a Siri-like program with the following properties:\n",
    "   - record your voice command\n",
    "   - use a webservice to parse that sound file into text\n",
    "   - based on what the text, take three different types of actions:\n",
    "       - send an email to yourself\n",
    "       - do some math\n",
    "       - tell a joke\n",
    "\n",
    "So for example, if you say \"Monty: email me with subject hello and body goodbye\", it will email you with the appropriate subject and body. If you say \"Monty: tell me a joke\" then it will go to the web and find a joke and print it for you. If you say, \"Monty: calculate two times three\" it should response with printing the number 6.\n",
    "\n",
    "Hint: you can use speed-to-text apps like Houndify to return the text (but not do the actions). You'll need to sign up for a free API and then follow documentation instructions for using the service within Python. "
   ]
  },
  {
   "cell_type": "code",
   "execution_count": 1,
   "metadata": {
    "collapsed": true
   },
   "outputs": [],
   "source": [
    "import sys\n",
    "import time\n",
    "import numpy as np\n",
    "from ipywidgets import widgets as wdg\n",
    "from ipywidgets import interact\n",
    "from IPython.display import display \n",
    "\n",
    "# Step 1: record voice command \n",
    "\n",
    "def getAudio(getURL):\n",
    "    \n",
    "    extTmp = os.path.splitext(getURL)\n",
    "    extFull = extTmp[1].replace(\".\", \"\")\n",
    "    extLower = extFull.lower()\n",
    "    \n",
    "    # Get proper extension\n",
    "    if (extLower == \"mp3\"):\n",
    "        extt = \"mpeg\"\n",
    "    else:\n",
    "        extt = extLower\n",
    "    \n",
    "    # Need MIME types for permission through browsers\n",
    "    thisMime = \"audio/\" + extt\n",
    "    \n",
    "    # Write to DOM / HTML - similar to JS; jQuery etc. \n",
    "    toDOM = \"\"\"<h4>{getURL}</h4>\n",
    "                <audio controls>\n",
    "                    <source src = 'files/{getURL}' type = '{thisMime}'>\n",
    "                    Error in browser playback. Alt player:\n",
    "                    <a href = 'files/{getURL}'>play this.</a>\n",
    "                </audio>\"\"\"\n",
    "    \n",
    "    display(HTML(toDOM.format(**locals())))\n"
   ]
  },
  {
   "cell_type": "code",
   "execution_count": 2,
   "metadata": {
    "collapsed": false
   },
   "outputs": [],
   "source": [
    "import wave\n",
    "import pyaudio\n",
    "from pyaudio import paInt16 as py16\n",
    "\n",
    "class AudioWriteBack:\n",
    "    \n",
    "    def __init__(self, audioWAV):\n",
    "        self.audioWAV = audioWAV\n",
    "    \n",
    "    def writeFramesBack(self, audioData, audioFrames, audioTime, audioStatus):\n",
    "        self.audioWAV.writeframes(audioData)\n",
    "        return audioData, pyaudio.paContinue\n",
    "\n",
    "class AudioRecorder:\n",
    "    \n",
    "    def __init__(self, audioFile = \"fooBar.wav\", audioMode = \"wb\"):\n",
    "        \n",
    "        self.audioFile = audioFile\n",
    "        self.audioMode = audioMode\n",
    "        self.audioChn = None\n",
    "        self.audioRt = None\n",
    "        self.audioChunk = None   # aka Frames per buffer\n",
    "        self.audioWAV = None\n",
    "        self.pypyAudio = pyaudio.PyAudio()\n",
    "        #self.audioCallback = callback\n",
    "        self.readyRecord = True\n",
    "        \n",
    "    def setReadyState(self):\n",
    "        if (self.readyRecord == True):\n",
    "            self.readyRecord = False\n",
    "        elif (self.readyRecord == False):\n",
    "            self.readyRecord = True\n",
    "        \n",
    "    def setParams(self):\n",
    "        self.audioChn = 1\n",
    "        self.audioRt = 16000\n",
    "        self.audioChunk = 1024\n",
    "        \n",
    "    def estAudio(self):\n",
    "        self.audioWAV = wave.open(self.audioFile, self.audioMode)\n",
    "        self.audioWAV.setnchannels(self.audioChn)\n",
    "        self.audioWAV.setsampwidth(self.pypyAudio.get_sample_size(py16))\n",
    "        self.audioWAV.setframerate(self.audioRt)\n",
    "        \n",
    "    # Need start recording \n",
    "    def initRec(self):\n",
    "        self.stream = self.pypyAudio.open(format = py16,\n",
    "                                         channels = self.audioChn,\n",
    "                                         rate = self.audioRt,\n",
    "                                         input = True,\n",
    "                                         frames_per_buffer = self.audioChunk,\n",
    "                                         input_device_index = 0,\n",
    "                                         stream_callback = self.writeFramesBack())\n",
    "    \n",
    "    # Need stop recording \n",
    "    def abortRec(self):\n",
    "        self.stream.stop_stream()\n",
    "    \n",
    "    # Need callback to do start and stop\n",
    "    def writeFramesBack(self):\n",
    "        def audioCallback(audioData, audioFrames, audioTime, audioStatus):\n",
    "            self.audioWAV.writeframes(audioData)\n",
    "            return audioData, pyaudio.paContinue\n",
    "        return audioCallback\n",
    "    \n",
    "    # Close out and exit\n",
    "    def getClose(self):\n",
    "        self.stream.close()\n",
    "        self.pypyAudio.terminate()\n",
    "        self.audioWAV.close()"
   ]
  },
  {
   "cell_type": "code",
   "execution_count": 3,
   "metadata": {
    "collapsed": false
   },
   "outputs": [],
   "source": [
    "# Initialize recorder class and write\n",
    "\n",
    "## Initially tried with split class for callback (want to revisit later)\n",
    "#audioCB = AudioWriteBack()\n",
    "#setAudio = AudioRecorder(audioCB.writeFramesBack)\n",
    "\n",
    "setAudio = AudioRecorder()\n",
    "setAudio.setParams()\n",
    "setAudio.estAudio()\n",
    "#setAudio.initRec()\n",
    "#setAudio.abortRec()"
   ]
  },
  {
   "cell_type": "code",
   "execution_count": 4,
   "metadata": {
    "collapsed": false
   },
   "outputs": [
    {
     "name": "stdout",
     "output_type": "stream",
     "text": [
      "\n",
      "Initialize recording - GO GO GO!\n",
      "\n",
      "Finished recording!\n"
     ]
    }
   ],
   "source": [
    "from ipywidgets import widgets as wiggie\n",
    "from ipywidgets import interact\n",
    "from IPython.display import display as showw\n",
    "\n",
    "# Recording time:\n",
    "\n",
    "def setRecord(wiggieBtn):\n",
    "    \n",
    "    if (setAudio.readyRecord):\n",
    "        print(\"\\nInitialize recording - GO GO GO!\")\n",
    "        setAudio.initRec()\n",
    "    else:\n",
    "        print(\"\\nFinished recording!\")\n",
    "        setAudio.abortRec()\n",
    "        setAudio.getClose()\n",
    "        \n",
    "    setAudio.setReadyState() \n",
    "    \n",
    "    return \n",
    "\n",
    "wHTML = wiggie.Button(description = \"Start recording!\")\n",
    "wHTML.on_click(setRecord)\n",
    "showw(wHTML)"
   ]
  },
  {
   "cell_type": "code",
   "execution_count": null,
   "metadata": {
    "collapsed": true
   },
   "outputs": [],
   "source": [
    "# Step 2: interact with webservice and parse sound file to text \n",
    "\n",
    "import houndify\n",
    "\n",
    "BUFFER_SIZE = 512\n",
    "CLIENT_ID = \"nJKD11KrJoXe9MkmNGLNsQ==\"\n",
    "CLIENT_KEY = \"SWZIkIISulQpMI6Zir5QJ2leBN_XlOALHs_KJpaDtKJxYTOTm2h6ifLuYCFss-RzQye9NCBlWlwZhE_LMEWkow==\"\n",
    "\n",
    "def getVoiceTxt(wVoice):\n",
    "    \n",
    "    class VoiceListener(houndify.HoundListener):\n",
    "        def onPartialTranscript(self, transcript):\n",
    "            nonlocal result\n",
    "            result = transcript\n",
    "            \n",
    "    houndClient = houndify.StreamingHoundClient(CLIENT_ID, CLIENT_KEY, \"fooBarUser\")\n",
    "    houndAudio = wave.open(wVoice)\n",
    "    houndFR = houndAudio.getframerate()\n",
    "    houndClient.setSampleRate(houndFR)\n",
    "    houndFrames = houndAudio.readframes(BUFFER_SIZE)\n",
    "    finishedd = False\n",
    "    \n",
    "    # Open connection to Houndify API via class callbacks \n",
    "    # Note: much help from classmates on how to construct this\n",
    "    houndClient.start(VoiceListener())\n",
    "    while not finishedd:\n",
    "        finished = houndClient.fill(houndFrames)\n",
    "        houndFrames = houndAudio.readframes(BUFFER_SIZE)\n",
    "        if len(houndFrames) == 0:\n",
    "            finishedd = True\n",
    "            break\n",
    "    houndClient.finish()\n",
    "    return True\n",
    "\n",
    "\n",
    "houndTalk = getVoiceTxt(\"fooBar.wav\")\n",
    "print(\"Your Houndify transcript: \", houndTalk)"
   ]
  },
  {
   "cell_type": "code",
   "execution_count": 216,
   "metadata": {
    "collapsed": false
   },
   "outputs": [
    {
     "name": "stdout",
     "output_type": "stream",
     "text": [
      "\n",
      "--------\n",
      "\n",
      "--------\n",
      "^__^\n",
      "\n",
      "\n",
      "--------\n",
      "Scotty in Star Trek often says &quot;Ye cannae change the laws of physics.&quot; This is untrue. Chuck Norris can change the laws of physics. With his fists.\n"
     ]
    }
   ],
   "source": [
    "import json\n",
    "import smtplib\n",
    "from urllib.request import urlopen\n",
    "from email.mime.multipart import MIMEMultipart\n",
    "from email.mime.base import MIMEBase\n",
    "from email.mime.text import MIMEText\n",
    "from email import encoders\n",
    "from email.utils import COMMASPACE, formatdate\n",
    "\n",
    "# Step 3: based on text take 1 of 3 actions - send email, do math, tell joke \n",
    "\n",
    "# For ii) math - basic math, add, subtract, divide, multiply  \n",
    "    \n",
    "class AudioToAction:\n",
    "    \n",
    "    def __init__(self, getTxt):\n",
    "        \n",
    "        self.getTxt = getTxt\n",
    "        self.stripTxt = np.array(self.getTxt.split(\" \"))\n",
    "        self.modTxtArr = None\n",
    "        self.lowrTxt = None\n",
    "        self.toEmailArr = np.array([\"email\", \"send\", \"contact\", \"contacts\"])\n",
    "        self.toMathArr = np.array([\"calculate\", \"math\", \"sum\", \"add\", \"plus\", \"subtract\", \"minus\", \"take\", \"divide\", \"multiply\"])\n",
    "        self.toJokeArr = np.array([\"joke\", \"funny\", \"laugh\", \"haha\", \"comedy\"])\n",
    "        self.specialEmail = np.array([\"to\", \"from\", \"subject\", \"body\"])\n",
    "        \n",
    "        self.numss = {\"zero\":0, \"one\":1, \"two\":2, \"three\":3, \"four\":4, \"five\":5, \n",
    "                      \"six\":6, \"seven\":7, \"eight\":8, \"nine\":9}\n",
    "        self.tenss = {\"ten\":10, \"eleven\":11, \"twelve\":12, \"thirteen\":13, \"fourteen\":14, \"fifteen\":15, \n",
    "                      \"sixteen\":16, \"seventeen\":17, \"eighteen\":18, \"nineteen\":19}\n",
    "        self.hunss = {\"hundred\":100, \"thousand\":1000}\n",
    "        \n",
    "        self.inEmailIdx = None\n",
    "        self.inMathIdx = None\n",
    "        self.inJokeIdx = None\n",
    "        self.mathResult = None\n",
    "        \n",
    "    def getFormattr(self):\n",
    "        \n",
    "        print(\"\\n--------\");\n",
    "        return True\n",
    "        \n",
    "    def getStripTxt(self, doPrint = False):\n",
    "        \n",
    "        if (doPrint):\n",
    "        \n",
    "            self.getFormattr()\n",
    "            print(\"\\nOriginal Text:\")\n",
    "            print(\"_\", self.getTxt)\n",
    "            self.getFormattr()\n",
    "            print(\"\\n\\nStripped Text:\")\n",
    "            print(\"_\", self.stripTxt)\n",
    "        \n",
    "        # 1) dropout commas & 2) to lowercase\n",
    "        tmpTxt = self.stripTxt\n",
    "        self.modTxtArr = np.array([iRepl.replace(\",\", \" \") for iRepl in tmpTxt])\n",
    "        self.lowrTxt = np.array([i.lower() for i in self.modTxtArr])\n",
    "        \n",
    "    def listenTxt(self):\n",
    "        # Decide which action to take \n",
    "        \n",
    "        self.getFormattr()\n",
    "        inEmail = np.any(self.toEmailArr[:, np.newaxis] == self.lowrTxt, axis = 1)\n",
    "        inMath = np.any(self.toMathArr[:, np.newaxis] == self.lowrTxt, axis = 1)\n",
    "        inJoke = np.any(self.toJokeArr[:, np.newaxis] == self.lowrTxt, axis = 1)\n",
    "        \n",
    "        self.inEmailIdx = inEmail\n",
    "        self.inMathIdx = inMath\n",
    "        self.inJokeIdx = inJoke\n",
    "        \n",
    "        isInEmail = np.where(inEmail)\n",
    "        isInMath = np.where(inMath)\n",
    "        isInJoke = np.where(inJoke)\n",
    "        \n",
    "        if (isInEmail[0].size >= 1):\n",
    "            \n",
    "            print(\"Attempting to send an email...\")\n",
    "            self.setEmail()\n",
    "            \n",
    "        elif (isInMath[0].size >= 1):\n",
    "            \n",
    "            print(\"Attemting to calculate...\")\n",
    "            self.setCalc()\n",
    "            \n",
    "        elif (isInJoke[0].size >= 1):\n",
    "            \n",
    "            self.getFormattr()\n",
    "            print(\"^__^\\n\")\n",
    "            self.setJoke()\n",
    "            \n",
    "        else:\n",
    "            \n",
    "            print(\"No information found from text.\")\n",
    "            self.getFormattr()\n",
    "            \n",
    "         \n",
    "        \n",
    "    def setEmail(self):\n",
    "\n",
    "        spEmailIdx = np.any(self.specialEmail[:, np.newaxis] == self.lowrTxt, axis = 1)        \n",
    "        subbjIdx = (self.lowrTxt == \"subject\")\n",
    "        boddyIdx = (self.lowrTxt == \"body\") \n",
    "        subbjWhere = np.where(subbjIdx == True)\n",
    "        boddyWhere = np.where(boddyIdx == True)\n",
    "        \n",
    "        allSubbj = []\n",
    "        allBoddy = []\n",
    "        for i in range(self.lowrTxt.size):\n",
    "            if (i > subbjWhere[0]):\n",
    "                \n",
    "                if (i >= boddyWhere[0]):\n",
    "                    if (i != boddyWhere[0]): \n",
    "                        allBoddy.append(self.lowrTxt[i])\n",
    "                else:\n",
    "                    allSubbj.append(self.lowrTxt[i])\n",
    "           \n",
    "        self.subbj = \" \".join(allSubbj)\n",
    "        self.texxt = \" \".join(allBoddy)\n",
    "        \n",
    "        self.getEmail() \n",
    "    \n",
    "    def setCalc(self):\n",
    "        # Setup doing calculations\n",
    "        \n",
    "        allNums = []\n",
    "        allActions = []\n",
    "        for i in range(self.inMathIdx.size):\n",
    "            if (self.inMathIdx[i]):\n",
    "                tmpAction = self.lowrTxt[self.lowrTxt == self.toMathArr[i]]\n",
    "                #tmpAction = self.lowrTxt[i]\n",
    "                allActions.append(tmpAction[0])\n",
    "\n",
    "        for item in self.numss.items():\n",
    "            if (item[0] in self.lowrTxt):\n",
    "                allNums.append(item[1])\n",
    "        \n",
    "        self.getCalc(allNums, allActions)\n",
    "    \n",
    "    def setJoke(self):\n",
    "        # Setup telling joke\n",
    "        \n",
    "        rawJSONN = urlopen(\"http://api.icndb.com/jokes/random\").read()\n",
    "        decJSONN = rawJSONN.decode('UTF-8')\n",
    "        dictJSONN = eval(decJSONN)\n",
    "        self.getFormattr()\n",
    "        print(dictJSONN['value']['joke'])\n",
    "        \n",
    "    def getCalc(self, allNums, allActions):\n",
    "        \n",
    "        if (allActions[0] == (\"plus\" or \"add\" or \"sum\")):\n",
    "        \n",
    "            self.mathResult = allNums[1] + allNums[0]\n",
    "            \n",
    "        elif (allActions[0] == (\"minus\" or \"subtract\" or \"take\")):\n",
    "            \n",
    "            self.mathResult = allNums[1] - allNums[0]\n",
    "\n",
    "        elif (allActions[0] == \"divide\"):\n",
    "            \n",
    "            self.mathResult = allNums[0] / allNums[1]\n",
    "            \n",
    "        elif (allActions[0] == \"multiply\"):\n",
    "            \n",
    "            self.mathResult = allNums[1] * allNums[0]\n",
    "            \n",
    "        else: \n",
    "            \n",
    "            self.mathResult = \"Nothing to show!\"\n",
    "            \n",
    "        print(\"\\nAnd the math result: \", self.mathResult)\n",
    "        self.getFormattr()\n",
    "    \n",
    "    def getEmail(self, fromm = \"omuellerklein@berkeley.edu\", \n",
    "                 passwrdd = \"foobarpassword\", toWhom = \"omuellerklein@berkeley.edu\"):\n",
    "        \n",
    "        msg = MIMEMultipart()\n",
    "        msg[\"Date\"] = formatdate(localtime = True)\n",
    "        msg[\"From\"] = fromm\n",
    "        msg[\"To\"] = toWhom\n",
    "        msg[\"Subject\"] = self.subbj\n",
    "        msg.attach(MIMEText(self.texxt))\n",
    "        \n",
    "        mailServer = smtplib.SMTP(\"smtp.gmail.com\", 587)\n",
    "        mailServer.starttls()\n",
    "        mailServer.login(fromm, passwrdd)\n",
    "        mailServer.sendmail(fromm, toWhom, msg.as_string())\n",
    "        mailServer.close() \n",
    "\n",
    "    \n",
    "#exMath = AudioToAction(\"woWW, ok do two divide eight\")\n",
    "#exMath.getStripTxt()\n",
    "#exMath.listenTxt()\n",
    "\n",
    "#exEmail = AudioToAction(\"hello, please email with subject hello body how are you\")\n",
    "#exEmail.getStripTxt()\n",
    "#exEmail.listenTxt()\n",
    "\n",
    "exJoke = AudioToAction(\"please tell me a joke\")\n",
    "exJoke.getStripTxt()\n",
    "exJoke.listenTxt()"
   ]
  },
  {
   "cell_type": "code",
   "execution_count": null,
   "metadata": {
    "collapsed": true
   },
   "outputs": [],
   "source": []
  },
  {
   "cell_type": "markdown",
   "metadata": {},
   "source": [
    "# 2) Write a program that identifies musical notes from sound (AIFF) files. \n",
    "\n",
    "  - Run it on the supplied sound files (12) and report your program’s results. \n",
    "  - Use the labeled sounds (4) to make sure it works correctly. The provided sound files contain 1-3 simultaneous notes from different organs.\n",
    "  - Save copies of any example plots to illustrate how your program works.\n",
    "  \n",
    "  https://piazza.com/berkeley/fall2016/ay250/resources -> hw3_sound_files.zip"
   ]
  },
  {
   "cell_type": "markdown",
   "metadata": {},
   "source": [
    "Hints: You’ll want to decompose the sound into a frequency power spectrum. Use a Fast Fourier Transform. Be care about “unpacking” the string hexcode into python data structures. The sound files use 32 bit data. Play around with what happens when you convert the string data to other integer sizes, or signed vs unsigned integers. Also, beware of harmonics."
   ]
  },
  {
   "cell_type": "code",
   "execution_count": 507,
   "metadata": {
    "collapsed": false
   },
   "outputs": [],
   "source": [
    "import sys\n",
    "#sys.executable\n",
    "#sys.path"
   ]
  },
  {
   "cell_type": "code",
   "execution_count": 509,
   "metadata": {
    "collapsed": true
   },
   "outputs": [],
   "source": [
    "# References: \n",
    "\n",
    "# http://samcarcagno.altervista.org/blog/basic-sound-processing-python/\n",
    "\n",
    "# https://gist.github.com/endolith/255291\n",
    "\n",
    "# http://www.cs.tut.fi/sgn/arg/intro/basics.html\n",
    "\n",
    "# https://github.com/endolith/waveform-analyzer/blob/master/frequency_estimator.py"
   ]
  },
  {
   "cell_type": "code",
   "execution_count": 510,
   "metadata": {
    "collapsed": false
   },
   "outputs": [
    {
     "data": {
      "text/plain": [
       "'\\nSteps to homework: \\n\\n1. Read in AIF to get audio files as bytes to numeric (conversion) \\n2. Plot amp vs time \\n3. Perform real-FFT on time-series (amp vs time), get power spectrum and others\\n4. Plot power spectrum \\n5. Find indices of top n powerful frequencies \\n6. Perform kmeans clustering or distance analyses ... to get dominate tones (DomTones) \\n7. With DomTones divide them by standard notes (12 notes in standard music scale) \\n\\n* C = 16.35 Hz\\n* C# = 17.32 Hz\\n* D = 18.35 Hz\\n* D# = 19.45 Hz\\n* E = 20.60 Hz\\n* F = 21.83 Hz\\n* F# = 23.12 Hz\\n* G = 24.50 Hz\\n* G# = 25.96 Hz\\n* A = 27.50 Hz\\n* A# = 29.14 Hz\\n* B = 30.87 Hz\\n\\n'"
      ]
     },
     "execution_count": 510,
     "metadata": {},
     "output_type": "execute_result"
    }
   ],
   "source": [
    "\"\"\"\n",
    "Steps to homework: \n",
    "\n",
    "1. Read in AIF to get audio files as bytes to numeric (conversion) \n",
    "2. Plot amp vs time \n",
    "3. Perform real-FFT on time-series (amp vs time), get power spectrum and others\n",
    "4. Plot power spectrum \n",
    "5. Find indices of top n powerful frequencies \n",
    "6. Perform kmeans clustering or distance analyses ... to get dominate tones (DomTones) \n",
    "7. With DomTones divide them by standard notes (12 notes in standard music scale) \n",
    "\n",
    "* C = 16.35 Hz\n",
    "* C# = 17.32 Hz\n",
    "* D = 18.35 Hz\n",
    "* D# = 19.45 Hz\n",
    "* E = 20.60 Hz\n",
    "* F = 21.83 Hz\n",
    "* F# = 23.12 Hz\n",
    "* G = 24.50 Hz\n",
    "* G# = 25.96 Hz\n",
    "* A = 27.50 Hz\n",
    "* A# = 29.14 Hz\n",
    "* B = 30.87 Hz\n",
    "\n",
    "\"\"\""
   ]
  },
  {
   "cell_type": "code",
   "execution_count": 511,
   "metadata": {
    "collapsed": false
   },
   "outputs": [],
   "source": [
    "# Note: 200 - 6000 Hz is range + buffer around most sensitive human hearing "
   ]
  },
  {
   "cell_type": "code",
   "execution_count": 572,
   "metadata": {
    "collapsed": false
   },
   "outputs": [],
   "source": [
    "import scipy.io.wavfile\n",
    "import aifc\n",
    "import numpy as np\n",
    "\n",
    "class AudioPlats(object):\n",
    "    \n",
    "    def __init__(self, ffile):\n",
    "        self.allChunks = []\n",
    "        self.lowChunks = []\n",
    "        self.hiChunks = []\n",
    "        self.allSlopes = []\n",
    "        self.deltax = []\n",
    "        self.deltay = []\n",
    "        self.ffile = ffile\n",
    "        \n",
    "        self.fr = None\n",
    "        self.ampDat = None\n",
    "        self.data = None\n",
    "        self.audioData = None\n",
    "        self.audioFFT = None\n",
    "        self.audioAmp = None\n",
    "        self.audioPower = None\n",
    "        self.audioPhase = None\n",
    "        self.audioFreqs = None\n",
    "        self.audioIdx = None\n",
    "        self.blankAxis = None\n",
    "        self.powerMax = None\n",
    "        self.freqMax = None\n",
    "        self.powerMaxArr = None\n",
    "        self.audioFreqsArr = None\n",
    "        self.nFreqsK = None\n",
    "        \n",
    "        # Kmeans on dominate frequencies \n",
    "        self.k1 = None\n",
    "        self.k2 = None\n",
    "        self.k3 = None\n",
    "        self.domFreqA = None\n",
    "        self.domFreqB = None\n",
    "        \n",
    "    def readData(self):\n",
    "        \n",
    "        #audio = aifc.open(\"hw3_data/sound_files/F3_popOrgan.aif\")\n",
    "        #audio = aifc.open(\"hw3_data/sound_files/1.aif\")\n",
    "        audio = aifc.open(\"hw3_data/sound_files/%s\" % self.ffile)\n",
    "        frames = audio.getnframes()\n",
    "        channels = audio.getnchannels()\n",
    "        frameRate = audio.getframerate()\n",
    "        self.fr = frameRate\n",
    "        datBytes = audio.readframes(frames)\n",
    "        dat = np.fromstring(datBytes, dtype = np.int32)\n",
    "        self.ampDat = dat\n",
    "        self.getPhase(dat, frameRate)\n",
    "        \n",
    "    def getPhase(self, dat, frameRate):\n",
    "        \n",
    "        # Get basic audio properties \n",
    "        \n",
    "        self.audioData = dat\n",
    "        self.audioFFT = np.fft.rfft(self.audioData)\n",
    "        self.audioAmp = np.abs(self.audioFFT)\n",
    "        self.audioPower = np.abs(self.audioFFT)**2\n",
    "        self.audioPhase = np.angle(self.audioFFT)\n",
    "        self.audioFreqs = np.fft.fftfreq(self.audioFFT.size, 1 / frameRate)\n",
    "        self.blankAxis = np.linspace(0, frameRate / 2, len(self.audioFFT))\n",
    "        self.audioIdx = np.argsort(self.audioFreqs)\n",
    "        \n",
    "    def kFreqs(self, k):\n",
    "        \n",
    "        # Get k-largest (top k power) frequencies\n",
    "        \n",
    "        TaudioFreqsIdx = audioFreqs[self.audioIdx]\n",
    "        audioPowerIdx = audioPower[self.audioIdx]\n",
    "        self.powerMax = audioPowerIdx.max()\n",
    "        self.freqMax = TaudioFreqsIdx.max()\n",
    "        audioPowerMaxIdx = audioPowerIdx.argmax()\n",
    "        TpowerMaxIdx = audioPowerIdx.argsort()\n",
    "        \n",
    "        self.powerMaxArr = TpowerMaxIdx\n",
    "        self.audioFreqsArr = TaudioFreqsIdx\n",
    "        audioFreqsK = self.audioFreqsArr[self.powerMaxArr[-k:], ]\n",
    "        nonnegFreqsK = audioFreqsK[audioFreqsK > 0]\n",
    "        self.nFreqsK = nonnegFreqsK[::-1]\n",
    "        self.data = np.sort(self.nFreqsK)\n",
    "        \n",
    "    def zeroSlope(self, chunksize = 10, maxSlope = .001):\n",
    "        \n",
    "        dat = np.asarray(self.data)\n",
    "        midIdx = chunksize / 2\n",
    "        quartIdx = np.around(midIdx / 2).astype(int32)\n",
    "        #maxFreq = np.max(dat)\n",
    "        maxFreq = self.freqMax\n",
    "        \n",
    "        for i in range(np.size(dat) - chunksize):\n",
    "            chunk = dat[i : (i + chunkSize)]\n",
    "            dy = chunk[-1] - chunk[0]\n",
    "            dx = chunksize\n",
    "            \n",
    "            self.deltay.append(dy)\n",
    "            self.deltax.append(dx)\n",
    "        \n",
    "            #if (0 <= ((dy / dx) / maxFreq) < maxSlope):\n",
    "            if ((dy / dx) >= maxSlope):\n",
    "                self.allChunks.append(chunk[midIdx])\n",
    "                self.lowChunks.append(chunk[midIdx - quartIdx])\n",
    "                self.hiChunks.append(chunk[midIdx + quartIdx])\n",
    "                self.allSlopes.append((dy / dx))\n",
    "                \n",
    "    def getDomFreqs(self):\n",
    "        \n",
    "        # Perform kmeans to get dominate frequencies   \n",
    "        \n",
    "        kClus = kmeans(self.allChunks, 2)\n",
    "        self.k1 = kClus[0][0]\n",
    "        self.k2 = kClus[0][1]\n",
    "        #self.k3 = kClus[0][2]\n",
    "        \n",
    "        k1k2Diff = np.abs(self.k1 - self.k2)\n",
    "        #k1k3Diff = np.abs(self.k1 - self.k3)\n",
    "        #k2k3Diff = np.abs(self.k2 - self.k3)\n",
    "        \n",
    "        k1k2Combo = None\n",
    "        #k1k3Combo = None\n",
    "        #k2k3Combo = None\n",
    "        \n",
    "        if (k1k2Diff < 50):\n",
    "            k1k2Combo = np.mean(self.k1 + self.k2)\n",
    "            self.domFreqA = k1k2Combo\n",
    "            self.domFreqB = None\n",
    "        else:\n",
    "            self.domFreqA = self.k1\n",
    "            self.domFreqB = self.k2\n",
    "                \n",
    "        #if (k1k3Diff < 50):\n",
    "        #    k1k3Combo = np.mean(self.k1 + self.k3)\n",
    "        #    \n",
    "        #if (k2k3Diff < 50):\n",
    "        #    k2k3Combo = np.mean(self.k2 + self.k3)\n",
    "            \n",
    "        \n",
    "    def plotAmpTime(self):\n",
    "        \n",
    "        dat = self.ampDat\n",
    "        time = arange(size(dat)) / float(self.fr)\n",
    "        plotTitle = (\"Audio Analysis\")\n",
    "\n",
    "        fig = plt.figure(figsize = (7, 4.5))\n",
    "        ax1 = fig.add_subplot(1, 1, 1)\n",
    "        ax1.plot(time, dat, color = \"red\", linestyle = \"-\")\n",
    "        ax1.set_xlabel(\"Time [s]\")\n",
    "        ax1.set_ylabel(\"Amplitude\")\n",
    "        ax1.set_xlim(min(time), max(time))\n",
    "        ax1.set_title(plotTitle)\n",
    "        \n",
    "    def plotStepFreqs(self):\n",
    "        plt.plot(self.data)\n",
    "        "
   ]
  },
  {
   "cell_type": "code",
   "execution_count": 580,
   "metadata": {
    "collapsed": false
   },
   "outputs": [
    {
     "data": {
      "image/png": "[encoded data removed]",
      "text/plain": [
       "<matplotlib.figure.Figure at 0x1121cfcf8>"
      ]
     },
     "metadata": {},
     "output_type": "display_data"
    }
   ],
   "source": [
    "thisAudio = AudioPlats(\"1.aif\")\n",
    "thisAudio.readData()\n",
    "thisAudio.kFreqs(20)\n",
    "\n",
    "%matplotlib inline\n",
    "\n",
    "thisAudio.plotAmpTime()"
   ]
  },
  {
   "cell_type": "code",
   "execution_count": 574,
   "metadata": {
    "collapsed": false
   },
   "outputs": [
    {
     "data": {
      "image/png": "[encoded data removed]",
      "text/plain": [
       "<matplotlib.figure.Figure at 0x115619e10>"
      ]
     },
     "metadata": {},
     "output_type": "display_data"
    }
   ],
   "source": [
    "%matplotlib inline\n",
    "\n",
    "thisAudio.plotStepFreqs()"
   ]
  },
  {
   "cell_type": "code",
   "execution_count": 575,
   "metadata": {
    "collapsed": false
   },
   "outputs": [
    {
     "name": "stderr",
     "output_type": "stream",
     "text": [
      "/Users/kschocz/Library/Python/3.5/lib/python/site-packages/ipykernel/__main__.py:103: VisibleDeprecationWarning: using a non-integer number instead of an integer will result in an error in the future\n",
      "/Users/kschocz/Library/Python/3.5/lib/python/site-packages/ipykernel/__main__.py:104: VisibleDeprecationWarning: using a non-integer number instead of an integer will result in an error in the future\n",
      "/Users/kschocz/Library/Python/3.5/lib/python/site-packages/ipykernel/__main__.py:105: VisibleDeprecationWarning: using a non-integer number instead of an integer will result in an error in the future\n"
     ]
    }
   ],
   "source": [
    "#thisAudio.zeroSlope(chunksize = 2, maxSlope = 0.015)\n",
    "thisAudio.zeroSlope(chunksize = 2, maxSlope = 100)\n",
    "thisAudio.getDomFreqs()"
   ]
  },
  {
   "cell_type": "code",
   "execution_count": 576,
   "metadata": {
    "collapsed": false
   },
   "outputs": [
    {
     "data": {
      "text/plain": [
       "521.26637963044323"
      ]
     },
     "execution_count": 576,
     "metadata": {},
     "output_type": "execute_result"
    }
   ],
   "source": [
    "# I decide to subset the top 20 most powerful frequencies (from Power Spectrum)\n",
    "# and show the top two dominate frequencies as the main frequencies \n",
    "# of this soundfile. \n",
    "# Note: domFreqA and domFreqB are not ordered. \n",
    "\n",
    "thisAudio.domFreqA"
   ]
  },
  {
   "cell_type": "code",
   "execution_count": 577,
   "metadata": {
    "collapsed": false
   },
   "outputs": [
    {
     "data": {
      "text/plain": [
       "781.08869512068486"
      ]
     },
     "execution_count": 577,
     "metadata": {},
     "output_type": "execute_result"
    }
   ],
   "source": [
    "thisAudio.domFreqB"
   ]
  },
  {
   "cell_type": "code",
   "execution_count": 578,
   "metadata": {
    "collapsed": false
   },
   "outputs": [
    {
     "data": {
      "text/plain": [
       "18.955141077470664"
      ]
     },
     "execution_count": 578,
     "metadata": {},
     "output_type": "execute_result"
    }
   ],
   "source": [
    "# If desired, these frequencies can be divided / floored by the standard musical scale \n",
    "# to find what notes these are octaves of. \n",
    "\n",
    "# E.g. For \"1.aif\" either domFreqA or domFreqB hit almost no remainder \n",
    "#    with (A) 27.50 Hz division\n",
    "\n",
    "# allNotes[9] = A \n",
    "# C = 16.35 Hz\n",
    "# C# = 17.32 Hz\n",
    "# D = 18.35 Hz\n",
    "# D# = 19.45 Hz\n",
    "# E = 20.60 Hz\n",
    "# F = 21.83 Hz\n",
    "# F# = 23.12 Hz\n",
    "# G = 24.50 Hz\n",
    "# G# = 25.96 Hz\n",
    "# A = 27.50 Hz\n",
    "# A# = 29.14 Hz\n",
    "# B = 30.87 Hz\n",
    "\n",
    "allNotes = [16.35, 17.32, 18.35, 19.45, 20.60, 21.83, 23.12, 24.50, 25.96, 27.50, 29.14, 30.87]\n",
    "\n",
    "thisAudio.domFreqA / allNotes[9]"
   ]
  },
  {
   "cell_type": "code",
   "execution_count": 579,
   "metadata": {
    "collapsed": false
   },
   "outputs": [
    {
     "data": {
      "text/plain": [
       "28.403225277115812"
      ]
     },
     "execution_count": 579,
     "metadata": {},
     "output_type": "execute_result"
    }
   ],
   "source": [
    "thisAudio.domFreqB / allNotes[9]"
   ]
  },
  {
   "cell_type": "code",
   "execution_count": null,
   "metadata": {
    "collapsed": true
   },
   "outputs": [],
   "source": []
  }
 ],
 "metadata": {
  "kernelspec": {
   "display_name": "Python 3",
   "language": "python",
   "name": "python3"
  },
  "language_info": {
   "codemirror_mode": {
    "name": "ipython",
    "version": 3
   },
   "file_extension": ".py",
   "mimetype": "text/x-python",
   "name": "python",
   "nbconvert_exporter": "python",
   "pygments_lexer": "ipython3",
   "version": "3.5.2"
  },
  "widgets": {
   "state": {
    "16de511aec814001895bc7e3a803a812": {
     "views": [
      {
       "cell_index": 6
      }
     ]
    }
   },
   "version": "1.2.0"
  }
 },
 "nbformat": 4,
 "nbformat_minor": 0
}
