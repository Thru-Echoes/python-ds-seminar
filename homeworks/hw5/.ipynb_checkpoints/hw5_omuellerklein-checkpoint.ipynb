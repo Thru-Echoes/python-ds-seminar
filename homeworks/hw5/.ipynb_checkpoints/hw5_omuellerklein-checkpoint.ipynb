{
 "cells": [
  {
   "cell_type": "markdown",
   "metadata": {},
   "source": [
    "# Homework 5: Oliver Muellerklein\n",
    "\n",
    "Collaboration with Jacob Bukoski and Zhongqi Miao."
   ]
  },
  {
   "cell_type": "code",
   "execution_count": 4,
   "metadata": {
    "collapsed": false
   },
   "outputs": [],
   "source": [
    "import sys\n",
    "\n",
    "#sys.path.append('/usr/local/lib/python3.5/site-packages')\n",
    "#sys.path"
   ]
  },
  {
   "cell_type": "markdown",
   "metadata": {
    "collapsed": true
   },
   "source": [
    "### Title Here:\n",
    "\n",
    "Some description:\n",
    "\n",
    "* dfdf..."
   ]
  },
  {
   "cell_type": "code",
   "execution_count": 5,
   "metadata": {
    "collapsed": false
   },
   "outputs": [],
   "source": [
    "import pandas as pd\n",
    "import numpy as np\n",
    "import matplotlib.pyplot as plt\n",
    "%matplotlib inline\n",
    "\n",
    "def amdahl(s, p):\n",
    "    return 1.0 / (s + (1.0 - s) / p)\n",
    "\n",
    "p = np.logspace(0, 16, 9, base = 2)\n",
    "#ax = plt.subplot(111)\n",
    "\n",
    "for s in [0.5, 0.25, 0.1, 0.05]:\n",
    "    sp = amdahl(s, p)\n",
    "    #ax.semilogx(p, sp, '-o', label = 's = %.2f' % s, basex = 2.0)\n",
    "\n",
    "#ax.set_xlabel('Processors')\n",
    "#ax.set_ylabel('Speedup')\n",
    "#ax.set_title('Speedup as a function of serial fraction')\n",
    "#ax.legend()\n",
    "#ax.grid()\n",
    "#plt.show()"
   ]
  },
  {
   "cell_type": "markdown",
   "metadata": {
    "collapsed": true
   },
   "source": [
    "Words here..."
   ]
  },
  {
   "cell_type": "code",
   "execution_count": 1,
   "metadata": {
    "collapsed": false
   },
   "outputs": [],
   "source": [
    "try:\n",
    "    # For Python 3.0 and later\n",
    "    from urllib.request import urlopen\n",
    "except ImportError:\n",
    "    # Fall back to Python 2's urllib2\n",
    "    from urllib2 import urlopen\n",
    "    \n",
    "response = urlopen(\"http://words.bighugelabs.com/\")\n",
    "html = response.read()\n",
    "response.close()\n",
    "\n",
    "# pip install beautifulsoup4\n",
    "from bs4 import BeautifulSoup\n",
    "soup = BeautifulSoup(html, \"html5lib\")\n",
    "forms = soup.findAll(\"form\")\n",
    "#forms"
   ]
  },
  {
   "cell_type": "code",
   "execution_count": 51,
   "metadata": {
    "collapsed": true
   },
   "outputs": [],
   "source": [
    "response08 = urlopen(\"https://www.wunderground.com/history/airport/%s/%s/1/1/CustomHistory.html?dayend=31&monthend=12&yearend=%s\" \\\n",
    "                   % ('KATL', '2008', '2008'))\n",
    "html08 = response08.read()\n",
    "response08.close()\n",
    "soup08 = BeautifulSoup(html08, \"html5lib\")\n",
    "\n",
    "#tbody = soup.find('table', id = 'obsTable', class_ = 'responsive obs-table daily').find_all('tbody')"
   ]
  },
  {
   "cell_type": "code",
   "execution_count": 12,
   "metadata": {
    "collapsed": false
   },
   "outputs": [],
   "source": [
    "#tBody = soup.find(\"table\", id = \"obsTable\", class_ = \"reponsive obs-table daily\").find_all(\"tbody\")\n",
    "\n",
    "tbody08 = soup08.find('table', id = 'obsTable', class_ = 'responsive obs-table daily').find_all('tbody')"
   ]
  },
  {
   "cell_type": "code",
   "execution_count": 48,
   "metadata": {
    "collapsed": false
   },
   "outputs": [],
   "source": [
    "monthIndx = []\n",
    "\n",
    "#feb_td08 = tbody08[32].find_all('td')\n",
    "\n",
    "def mapSwitcher(argument):\n",
    "    \n",
    "    switchh = {\n",
    "        'Jan' : True,\n",
    "        'Feb' : True\n",
    "    }\n",
    "    \n",
    "    return switchh.get(argument, 'nothing')\n",
    "\n",
    "global counterr\n",
    "counterr = 0\n",
    "\n",
    "#jan_td08 = tbody08[counterr].find_all('td')[0].string\n"
   ]
  },
  {
   "cell_type": "code",
   "execution_count": 49,
   "metadata": {
    "collapsed": false
   },
   "outputs": [
    {
     "name": "stderr",
     "output_type": "stream",
     "text": [
      "<ipython-input-49-fc5dc867ce16>:8: SyntaxWarning: name 'counterr' is used prior to global declaration\n",
      "  global counterr\n",
      "<ipython-input-49-fc5dc867ce16>:14: SyntaxWarning: name 'counterr' is assigned to before global declaration\n",
      "  global counterr\n"
     ]
    }
   ],
   "source": [
    "\n",
    "def trySwitcher(tryTd):\n",
    "\n",
    "    #if (mapSwitcher(jan_td08)):\n",
    "    if (mapSwitcher(tryTd)):\n",
    "        # Get index from tbody \n",
    "        monthIndx.append(counterr)\n",
    "        global counterr\n",
    "        counterr += 32\n",
    "        return False\n",
    "\n",
    "    else:\n",
    "        # Try again \n",
    "        global counterr\n",
    "        counterr += 1\n",
    "        return True\n",
    "    \n",
    "        #jan_td08 = tbody08[counterr].find_all('td')[0].string\n",
    "        #\n",
    "        #if (mapSwitcher(jan_td08)):\n",
    "        ## Get index from tbody \n",
    "        #monthIndx.append(counterr)\n",
    "        #counterr += 32\n",
    "        \n",
    "jan_td08 = tbody08[counterr].find_all('td')[0].string\n",
    "tryIt = trySwitcher(jan_td08)\n",
    "        \n",
    "if (tryIt):\n",
    "    jan_td08 = tbody08[counterr].find_all('td')[0].string\n",
    "    tryIt = trySwitcher(jan_td08)"
   ]
  },
  {
   "cell_type": "code",
   "execution_count": 50,
   "metadata": {
    "collapsed": false
   },
   "outputs": [
    {
     "data": {
      "text/plain": [
       "32"
      ]
     },
     "execution_count": 50,
     "metadata": {},
     "output_type": "execute_result"
    }
   ],
   "source": [
    "counterr"
   ]
  },
  {
   "cell_type": "markdown",
   "metadata": {},
   "source": [
    "Words here..."
   ]
  },
  {
   "cell_type": "code",
   "execution_count": null,
   "metadata": {
    "collapsed": true
   },
   "outputs": [],
   "source": []
  }
 ],
 "metadata": {
  "anaconda-cloud": {},
  "kernelspec": {
   "display_name": "Python [default]",
   "language": "python",
   "name": "python3"
  },
  "language_info": {
   "codemirror_mode": {
    "name": "ipython",
    "version": 3
   },
   "file_extension": ".py",
   "mimetype": "text/x-python",
   "name": "python",
   "nbconvert_exporter": "python",
   "pygments_lexer": "ipython3",
   "version": "3.5.2"
  }
 },
 "nbformat": 4,
 "nbformat_minor": 0
}
