{
 "cells": [
  {
   "cell_type": "markdown",
   "metadata": {},
   "source": [
    "# Homework 5: Oliver Muellerklein\n",
    "\n",
    "Collaboration with Jacob Bukoski and Zhongqi Miao."
   ]
  },
  {
   "cell_type": "code",
   "execution_count": 4,
   "metadata": {
    "collapsed": false
   },
   "outputs": [],
   "source": [
    "import sys\n",
    "\n",
    "#sys.path.append('/usr/local/lib/python3.5/site-packages')\n",
    "#sys.path"
   ]
  },
  {
   "cell_type": "markdown",
   "metadata": {
    "collapsed": true
   },
   "source": [
    "### Title Here:\n",
    "\n",
    "Some description:\n",
    "\n",
    "* dfdf..."
   ]
  },
  {
   "cell_type": "code",
   "execution_count": 14,
   "metadata": {
    "collapsed": false
   },
   "outputs": [],
   "source": [
    "import pandas as pd\n",
    "import numpy as np\n",
    "import matplotlib.pyplot as plt\n",
    "%matplotlib inline\n",
    "\n",
    "def amdahl(s, p):\n",
    "    return 1.0 / (s + (1.0 - s) / p)\n",
    "\n",
    "p = np.logspace(0, 16, 9, base = 2)\n",
    "#ax = plt.subplot(111)\n",
    "\n",
    "for s in [0.5, 0.25, 0.1, 0.05]:\n",
    "    sp = amdahl(s, p)\n",
    "    #ax.semilogx(p, sp, '-o', label = 's = %.2f' % s, basex = 2.0)\n",
    "\n",
    "#ax.set_xlabel('Processors')\n",
    "#ax.set_ylabel('Speedup')\n",
    "#ax.set_title('Speedup as a function of serial fraction')\n",
    "#ax.legend()\n",
    "#ax.grid()\n",
    "#plt.show()"
   ]
  },
  {
   "cell_type": "code",
   "execution_count": 17,
   "metadata": {
    "collapsed": true
   },
   "outputs": [],
   "source": [
    "import pandas as pd\n",
    "import numpy as np\n",
    "import sqlite3\n",
    "from bs4 import BeautifulSoup\n",
    "from urllib.request import urlopen\n",
    "from datetime import datetime\n",
    "\n",
    "# Helper utility class for SQL\n",
    "\n",
    "class sql_utl:\n",
    "    \n",
    "    def __init__(self):\n",
    "        self.db = None\n",
    "        self.connection = None\n",
    "        self.cursor = None\n",
    "        \n",
    "    def connect(self, database):\n",
    "        self.db = database\n",
    "        self.connection = sqlite3.connect(self.db)\n",
    "        self.cursor = self.connection.cursor()\n",
    "        \n",
    "    def table_list(self):\n",
    "        sql_cmd = \"select * from sqlite_master where type = 'table';\"\n",
    "        self.cursor.execute(sql_cmd)\n",
    "        db_info = self.cursor.fetchall()\n",
    "        for entry in db_info: \n",
    "            print(entry)\n",
    "            \n",
    "    def drop(self, table):\n",
    "        sql_cmd = \"drop table %s\" % (table)\n",
    "        self.cursor.execute(sql_cmd)\n",
    "            \n",
    "    def close (self):\n",
    "        self.connection.commit()\n",
    "        self.connection.close()"
   ]
  },
  {
   "cell_type": "code",
   "execution_count": 21,
   "metadata": {
    "collapsed": true
   },
   "outputs": [],
   "source": [
    "# Connect to table\n",
    "sql = sql_utl()\n",
    "sql.connect('HW5.db')\n",
    "\n",
    "#sql.drop('Weather')\n",
    "#sql.table_list()\n",
    "\n",
    "# Read in data from CSV\n",
    "top_data = pd.read_csv('hw_5_data/top_airports.csv')\n",
    "icao = pd.read_csv('hw_5_data/ICAO_airports.csv')\n",
    "icao = icao.rename(columns={'iata_code': 'IATA'})\n",
    "merge_data = pd.merge(top_data, icao, on=['IATA'])\n",
    "top_modified = merge_data[['ICAO', 'Airport', 'City', 'latitude_deg', 'longitude_deg', 'elevation_ft']]"
   ]
  },
  {
   "cell_type": "code",
   "execution_count": 44,
   "metadata": {
    "collapsed": false
   },
   "outputs": [
    {
     "data": {
      "text/plain": [
       "<sqlite3.Cursor at 0x1154d4a40>"
      ]
     },
     "execution_count": 44,
     "metadata": {},
     "output_type": "execute_result"
    }
   ],
   "source": [
    "# Run SQL commands \n",
    "\n",
    "sql_cmd = \"\"\"CREATE TABLE Top_Airport (ICAO TEXT, Airport TEXT,\n",
    "            City TEXT, Latitude REAL, Longitude REAL, Elevation REAL,\n",
    "            PRIMARY KEY (ICAO))\"\"\"\n",
    "#sql.cursor.execute(sql_cmd)\n",
    "\n",
    "#for i in range(len(top_modified)):\n",
    "#    sql_cmd = (\"INSERT INTO Top_Airport (ICAO, Airport, City, Latitude, Longitude, Elevation) VALUES \" \n",
    "#               + str(tuple(top_modified.ix[i])))\n",
    "#    sql.cursor.execute(sql_cmd)\n",
    "\n",
    "sql_cmd = 'select * from Top_Airport'\n",
    "\n",
    "sql.cursor.execute(sql_cmd)\n",
    "\n",
    "# Show data table (SQL table)\n",
    "\n",
    "#sql.cursor.fetchall()"
   ]
  },
  {
   "cell_type": "code",
   "execution_count": null,
   "metadata": {
    "collapsed": true
   },
   "outputs": [],
   "source": [
    "# Figure out how to write out a correlation coefficient command here...\n",
    "\n",
    "# sql_corrcoeff = \"\"\"DO MATH corrcoeff FROM *\"\"\"\n",
    "\n",
    "#sql.cursor.execute(sql_corrcoeff)\n",
    "#sql.cursor.fetchall()"
   ]
  },
  {
   "cell_type": "markdown",
   "metadata": {
    "collapsed": true
   },
   "source": [
    "Words here..."
   ]
  },
  {
   "cell_type": "code",
   "execution_count": 4,
   "metadata": {
    "collapsed": false
   },
   "outputs": [],
   "source": [
    "try:\n",
    "    # For Python 3.0 and later\n",
    "    from urllib.request import urlopen\n",
    "except ImportError:\n",
    "    # Fall back to Python 2's urllib2\n",
    "    from urllib2 import urlopen\n",
    "    \n",
    "#response = urlopen(\"http://words.bighugelabs.com/\")\n",
    "#html = response.read()\n",
    "#response.close()\n",
    "# pip install beautifulsoup4\n",
    "from bs4 import BeautifulSoup\n",
    "#soup = BeautifulSoup(html, \"html5lib\")\n",
    "#forms = soup.findAll(\"form\")\n",
    "#forms"
   ]
  },
  {
   "cell_type": "code",
   "execution_count": 5,
   "metadata": {
    "collapsed": false
   },
   "outputs": [],
   "source": [
    "response08 = urlopen(\"https://www.wunderground.com/history/airport/%s/%s/1/1/CustomHistory.html?dayend=31&monthend=12&yearend=%s\" \\\n",
    "                   % ('KATL', '2008', '2008'))\n",
    "html08 = response08.read()\n",
    "response08.close()\n",
    "soup08 = BeautifulSoup(html08, \"html5lib\")\n",
    "\n",
    "#tbody = soup.find('table', id = 'obsTable', class_ = 'responsive obs-table daily').find_all('tbody')\n",
    "tbody08 = soup08.find('table', id = 'obsTable', class_ = 'responsive obs-table daily').find_all('tbody')"
   ]
  },
  {
   "cell_type": "code",
   "execution_count": 12,
   "metadata": {
    "collapsed": false
   },
   "outputs": [
    {
     "name": "stderr",
     "output_type": "stream",
     "text": [
      "<ipython-input-12-da42587d540f>:36: SyntaxWarning: name 'counterr' is used prior to global declaration\n",
      "  global counterr\n",
      "<ipython-input-12-da42587d540f>:44: SyntaxWarning: name 'counterr' is assigned to before global declaration\n",
      "  global counterr\n"
     ]
    }
   ],
   "source": [
    "\n",
    "# Here is a snippet of my logic - \n",
    "# this code needs to be placed in a class for callbacks\n",
    "# also, have map for counterr increase: \n",
    "# e.g. getNumDayIncrease['Jan'] ... will give \"+32\" for counterr\n",
    "#         ...but getNumDayIncrease['Feb'] ... will give \"+28\" or \"+29\" for counterr\n",
    "\n",
    "monthIndx = []\n",
    "\n",
    "#feb_td08 = tbody08[32].find_all('td')\n",
    "\n",
    "def mapSwitcher(argument):\n",
    "    \n",
    "    switchh = {\n",
    "        'Jan' : True,\n",
    "        'Feb' : True\n",
    "    }\n",
    "    \n",
    "    return switchh.get(argument, 'nothing')\n",
    "\n",
    "global counterr\n",
    "counterr = 0\n",
    "\n",
    "#jan_td08 = tbody08[counterr].find_all('td')[0].string\n",
    "\n",
    "getNumDayIncrease = {\n",
    "    'Jan' : 32,\n",
    "    'Feb' : 28\n",
    "}\n",
    "\n",
    "\n",
    "def trySwitcher(tryTd):\n",
    "    if (mapSwitcher(tryTd)):\n",
    "        # Get index from tbody \n",
    "        monthIndx.append(counterr)\n",
    "        global counterr\n",
    "        # Add +32 because is Jan - this can be mapped \n",
    "        #counterr += 32\n",
    "        counterr += getNumDayIncrease[tryTd]\n",
    "        return False\n",
    "\n",
    "    else:\n",
    "        # Try again \n",
    "        global counterr\n",
    "        counterr += 1\n",
    "        return True\n",
    "    \n",
    "        #jan_td08 = tbody08[counterr].find_all('td')[0].string\n",
    "        #\n",
    "        #if (mapSwitcher(jan_td08)):\n",
    "        ## Get index from tbody \n",
    "        #monthIndx.append(counterr)\n",
    "        #counterr += 32\n",
    "        \n",
    "jan_td08 = tbody08[counterr].find_all('td')[0].string\n",
    "tryIt = trySwitcher(jan_td08)\n",
    "        \n",
    "if (tryIt):\n",
    "    jan_td08 = tbody08[counterr].find_all('td')[0].string\n",
    "    tryIt = trySwitcher(jan_td08)"
   ]
  },
  {
   "cell_type": "code",
   "execution_count": 13,
   "metadata": {
    "collapsed": false
   },
   "outputs": [
    {
     "data": {
      "text/plain": [
       "32"
      ]
     },
     "execution_count": 13,
     "metadata": {},
     "output_type": "execute_result"
    }
   ],
   "source": [
    "counterr"
   ]
  },
  {
   "cell_type": "markdown",
   "metadata": {},
   "source": [
    "Words here..."
   ]
  },
  {
   "cell_type": "code",
   "execution_count": null,
   "metadata": {
    "collapsed": true
   },
   "outputs": [],
   "source": []
  }
 ],
 "metadata": {
  "anaconda-cloud": {},
  "kernelspec": {
   "display_name": "Python [default]",
   "language": "python",
   "name": "python3"
  },
  "language_info": {
   "codemirror_mode": {
    "name": "ipython",
    "version": 3
   },
   "file_extension": ".py",
   "mimetype": "text/x-python",
   "name": "python",
   "nbconvert_exporter": "python",
   "pygments_lexer": "ipython3",
   "version": "3.5.2"
  }
 },
 "nbformat": 4,
 "nbformat_minor": 0
}
