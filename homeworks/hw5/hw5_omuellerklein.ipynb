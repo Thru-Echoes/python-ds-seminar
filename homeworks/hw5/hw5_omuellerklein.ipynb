{
 "cells": [
  {
   "cell_type": "markdown",
   "metadata": {},
   "source": [
    "# Homework 5: Oliver Muellerklein\n",
    "\n",
    "Collaboration with Jacob Bukoski and Zhongqi Miao."
   ]
  },
  {
   "cell_type": "code",
   "execution_count": 1,
   "metadata": {
    "collapsed": false
   },
   "outputs": [],
   "source": [
    "import sys\n",
    "\n",
    "#sys.path.append('/usr/local/lib/python3.5/site-packages')\n",
    "#sys.path"
   ]
  },
  {
   "cell_type": "markdown",
   "metadata": {},
   "source": [
    "This homework requires a few steps for database work with SQL tables, building a template with CSV files, and then populating the SQL tables with data pulled from the web with *BeautifulSoup*. Using a utility SQL class and *SQLite3*, I do the initial steps with building the table framework from a blank SQL table and the CSV inferred guidelines. "
   ]
  },
  {
   "cell_type": "markdown",
   "metadata": {
    "collapsed": true
   },
   "source": [
    "## SQL x Weather Underground\n",
    "\n",
    "The first steps are to import some packages for later and create a helper / utility class for SQLite.\n"
   ]
  },
  {
   "cell_type": "code",
   "execution_count": 410,
   "metadata": {
    "collapsed": false
   },
   "outputs": [],
   "source": [
    "import pandas as pd\n",
    "import numpy as np\n",
    "import sqlite3\n",
    "from bs4 import BeautifulSoup\n",
    "from urllib.request import urlopen\n",
    "from datetime import datetime\n",
    "import matplotlib.pyplot as plt\n",
    "#%matplotlib inline\n",
    "\n",
    "class UtilSQL:\n",
    "    \"\"\"\n",
    "        Helper utility class for SQL:\n",
    "\n",
    "            * connect(..., database)\n",
    "\n",
    "            * table_list(...)\n",
    "\n",
    "            * drop(..., table)\n",
    "\n",
    "            * close(...)\n",
    "    \"\"\"\n",
    "    \n",
    "    def __init__(self):\n",
    "        self.db = None\n",
    "        self.connection = None\n",
    "        self.cursor = None\n",
    "        \n",
    "    def connect(self, database):\n",
    "        self.db = database\n",
    "        self.connection = sqlite3.connect(self.db)\n",
    "        self.cursor = self.connection.cursor()\n",
    "        \n",
    "    def tableList(self):\n",
    "        sqlCMD = \"select * from sqlite_master where type = 'table';\"\n",
    "        self.cursor.execute(sqlCMD)\n",
    "        dbMeta = self.cursor.fetchall()\n",
    "        for entry in dbMeta: \n",
    "            print(entry)\n",
    "            \n",
    "    def drop(self, table):\n",
    "        sqlCMD = \"drop table %s\" % (table)\n",
    "        self.cursor.execute(sqlCMD)\n",
    "            \n",
    "    def close(self):\n",
    "        self.connection.commit()\n",
    "        self.connection.close()\n"
   ]
  },
  {
   "cell_type": "markdown",
   "metadata": {},
   "source": [
    "\n",
    "### Extract clean dataframe from CSV\n",
    "\n",
    "Next we want to use the given CSVs and extract a cleaner table / data structure for later use.\n"
   ]
  },
  {
   "cell_type": "code",
   "execution_count": 3,
   "metadata": {
    "collapsed": true
   },
   "outputs": [],
   "source": [
    "# Read in data from CSV\n",
    "dataHead = pd.read_csv('hw_5_data/top_airports.csv')\n",
    "icao = pd.read_csv('hw_5_data/ICAO_airports.csv')\n",
    "icao = icao.rename(columns = {'iata_code' : 'IATA'})\n",
    "dataMerge = pd.merge(dataHead, icao, on = ['IATA'])\n",
    "dataFin = dataMerge[['ICAO', 'Airport', 'City', 'latitude_deg', 'longitude_deg', 'elevation_ft']]"
   ]
  },
  {
   "cell_type": "markdown",
   "metadata": {},
   "source": [
    "### Initialize connection to SQL and begin!\n",
    "\n",
    "Now we can begin to fill in our tables with a connection to our SQL database through our utility class. More below..."
   ]
  },
  {
   "cell_type": "code",
   "execution_count": 4,
   "metadata": {
    "collapsed": false
   },
   "outputs": [
    {
     "data": {
      "text/plain": [
       "<sqlite3.Cursor at 0x11168fab0>"
      ]
     },
     "execution_count": 4,
     "metadata": {},
     "output_type": "execute_result"
    }
   ],
   "source": [
    "# Connect to SQL table\n",
    "sql = UtilSQL()\n",
    "sql.connect('HW5.db')\n",
    "\n",
    "# Run SQL commands \n",
    "\n",
    "sqlCMD = \"\"\"CREATE TABLE Top_Airport (ICAO TEXT, Airport TEXT,\n",
    "            City TEXT, Latitude REAL, Longitude REAL, Elevation REAL,\n",
    "            PRIMARY KEY (ICAO))\"\"\"\n",
    "#sql.cursor.execute(sqlCMD)\n",
    "\n",
    "#for i in range(len(dataFin)):\n",
    "#    sqlCMD = (\"INSERT INTO Top_Airport (ICAO, Airport, City, Latitude, Longitude, Elevation) VALUES \" \n",
    "#               + str(tuple(dataFin.ix[i])))\n",
    "#    sql.cursor.execute(sqlCMD)\n",
    "\n",
    "sqlCMD = 'select * from Top_Airport'\n",
    "\n",
    "sql.cursor.execute(sqlCMD)\n",
    "\n",
    "# Show data table (SQL table)\n",
    "#sql.cursor.fetchall()"
   ]
  },
  {
   "cell_type": "markdown",
   "metadata": {
    "collapsed": true
   },
   "source": [
    "### Exploratory steps with BeautifulSoup"
   ]
  },
  {
   "cell_type": "code",
   "execution_count": 5,
   "metadata": {
    "collapsed": false
   },
   "outputs": [],
   "source": [
    "try:\n",
    "    # For Python 3.0 and later\n",
    "    from urllib.request import urlopen\n",
    "except ImportError:\n",
    "    # Fall back to Python 2's urllib2\n",
    "    from urllib2 import urlopen\n",
    "    \n",
    "#response = urlopen(\"http://words.bighugelabs.com/\")\n",
    "#html = response.read()\n",
    "#response.close()\n",
    "# pip install beautifulsoup4\n",
    "from bs4 import BeautifulSoup\n",
    "#soup = BeautifulSoup(html, \"html5lib\")\n",
    "#forms = soup.findAll(\"form\")\n",
    "#forms"
   ]
  },
  {
   "cell_type": "markdown",
   "metadata": {
    "collapsed": true
   },
   "source": [
    "\n",
    "We can begin with an example of how to scrape the **Weather Underground** data for a specific year (2008) using *BeautifulSoup*.\n"
   ]
  },
  {
   "cell_type": "code",
   "execution_count": 6,
   "metadata": {
    "collapsed": true
   },
   "outputs": [],
   "source": [
    "#response08 = urlopen(\"https://www.wunderground.com/history/airport/%s/%s/1/1/CustomHistory.html?dayend=31&monthend=12&yearend=%s\" \\\n",
    "#                   % ('KATL', '2008', '2008'))\n",
    "#html08 = response08.read()\n",
    "#response08.close()\n",
    "#soup08 = BeautifulSoup(html08, \"html5lib\")\n",
    "\n",
    "# Try to pull a single year\n",
    "#tbody08 = soup08.find('table', id = 'obsTable', class_ = 'responsive obs-table daily').find_all('tbody')"
   ]
  },
  {
   "cell_type": "markdown",
   "metadata": {},
   "source": [
    "## A Class approach to generating weather data"
   ]
  },
  {
   "cell_type": "markdown",
   "metadata": {},
   "source": [
    "There are multiple ways that the database could be connected and integrated with the web scraping of Weather Underground. The following class contains a few different methods and components that allow the data to be built either: \n",
    "\n",
    "**A)** outside of the class by connecting to the SQL data externally, i.e. no data is stored within an instance of this class \n",
    "\n",
    "or \n",
    "\n",
    "**B)** within the class through a mapping to the specific years, i.e. data is stored within an instance of the class \n",
    "\n",
    "I am providing the code here as references to all functionality but the actual data used in the remaining questions imports *hw5.db* - which is a result of using the class without any instance-specific data storage, i.e. option **A**.  "
   ]
  },
  {
   "cell_type": "code",
   "execution_count": 7,
   "metadata": {
    "collapsed": false
   },
   "outputs": [],
   "source": [
    "class Weather:\n",
    "    \n",
    "    def __init__(self):\n",
    "        self.begin = None\n",
    "        self.end = None\n",
    "        self.icao = None\n",
    "        self.tbody = None\n",
    "        self.yearr = None\n",
    "        self.monthh = None\n",
    "        self.dayy = None\n",
    "        self.icao = None\n",
    "        \n",
    "        self.counterr = 0\n",
    "        self.monthIndx = []\n",
    "        self.tryTd = None\n",
    "        self.tbody08 = None\n",
    "        self.tbody09 = None\n",
    "        self.tbody10 = None\n",
    "        self.tbody11 = None\n",
    "        self.tbody12 = None\n",
    "        self.tbody13 = None\n",
    "        self.tbody14 = None\n",
    "        self.tbody15 = None\n",
    "        self.tbody16 = None\n",
    "        self.yyear = None\n",
    "        \n",
    "        # Bunch of maps \n",
    "        self.getNumDayIncrease = {\n",
    "            'Jan' : 32,\n",
    "            'Feb' : 28\n",
    "        }\n",
    "        \n",
    "        self.getTbody = {\n",
    "            2008 : self.tbody08,\n",
    "            2009 : self.tbody09,\n",
    "            2010 : self.tbody10,\n",
    "            2011 : self.tbody11,\n",
    "            2012 : self.tbody12,\n",
    "            2013 : self.tbody13,\n",
    "            2014 : self.tbody14,\n",
    "            2015 : self.tbody15,\n",
    "            2016 : self.tbody16\n",
    "        }\n",
    "\n",
    "    global sql\n",
    "    \n",
    "    def setTbody(self):\n",
    "        \n",
    "        self.tbody = self.getTbody[self.yyear]\n",
    "    \n",
    "    def setTryTD(self):\n",
    "        self.tryTd = self.tbody[self.counterr].find_all('td')[0].string\n",
    "        tryIt = self.trySwitcher()\n",
    "\n",
    "        if (tryIt):\n",
    "            self.tryTd = self.tbody[self.counterr].find_all('td')[0].string\n",
    "            tryIt = self.trySwitcher()\n",
    "      \n",
    "    \n",
    "    def mapSwitcher(self, argument):\n",
    "    \n",
    "        switchh = {\n",
    "            'Jan' : True,\n",
    "            'Feb' : True\n",
    "        }\n",
    "\n",
    "        return switchh.get(argument, 'nothing')\n",
    "\n",
    "    \n",
    "    def trySwitcher(self):\n",
    "        \n",
    "        if (self.mapSwitcher(self.tryTd)):\n",
    "            \n",
    "            # Get index from tbody \n",
    "            self.monthIndx.append(self.counterr)\n",
    "            self.counterr += self.getNumDayIncrease[self.tryTd]\n",
    "            return False\n",
    "\n",
    "        else:\n",
    "            # Try again \n",
    "            self.counterr += 1\n",
    "            return True\n",
    "        \n",
    "    def setYearData(self, icao, yyear):\n",
    "        \n",
    "        self.yyear = yyear\n",
    "        self.getTbody[yyear] = self.fetch(icao, yyear)\n",
    "    \n",
    "    def fetch (self, icao, date):\n",
    "        \"\"\"\n",
    "            Function from Miao: pull specific year stepwise. \n",
    "            Only connections, no internal class storage of tables.\n",
    "            \n",
    "            return: all tbody tags from HTML document (DOM)\n",
    "        \"\"\"\n",
    "\n",
    "        response = urlopen(\"https://www.wunderground.com/history/airport/%s/%s/1/1/CustomHistory.html?dayend=31&monthend=12&yearend=%s\" \\\n",
    "                           % (icao, date, date))\n",
    "        html = response.read()\n",
    "        response.close()\n",
    "        soup = BeautifulSoup(html,\"html5lib\")\n",
    "        tbody = soup.find('table', id = 'obsTable', class_ = 'responsive obs-table daily').find_all('tbody')\n",
    "        return tbody\n",
    "    \n",
    "    def callback (self, row):\n",
    "        \"\"\"\n",
    "            Function from Miao: Callback for iterative year HTML pull of data.\n",
    "        \"\"\"\n",
    "    \n",
    "        if 'avg' in row.text:\n",
    "            self.monthh += 1\n",
    "            self.dayy = 0\n",
    "\n",
    "        #print(self.y, self.m, self.d)\n",
    "\n",
    "        if self.dayy != 0:\n",
    "            td = row.find_all('td')\n",
    "\n",
    "            MaxT = td[2].text.strip()\n",
    "            MeanT = td[1].text.strip()\n",
    "            MinT = td[3].text.strip()\n",
    "            MaxH = td[8].text.strip()\n",
    "            MeanH = td[7].text.strip()\n",
    "            MinH = td[9].text.strip()\n",
    "            Prep = td[-2].text.strip()\n",
    "            Date = datetime(self.yearr, self.monthh, self.dayy).date()\n",
    "            \n",
    "            sql.cursor.execute(\"\"\"INSERT INTO Weather (ICAO, Date, MaxT, MeanT,\n",
    "                            MinT, MaxH, MeanH, MinH, Prep) VALUES (?, ?, ?, ?, ?, ?, ?, ?, ?)\"\"\",\n",
    "                                  (self.icao, Date, MaxT, MeanT, MinT, MaxH, MeanH, MinH, Prep))\n",
    "\n",
    "        self.dayy += 1\n",
    "    \n",
    "    def popData (self, begin, end, icao):\n",
    "        \"\"\"\n",
    "            Function from Miao: populate SQL table externally.\n",
    "            Steps through each year of data and increments / counts \n",
    "            months and days - accounts for leap years etc. \n",
    "        \"\"\"\n",
    "    \n",
    "        self.icao = icao\n",
    "        \n",
    "        for i in range(begin, end + 1):\n",
    "\n",
    "            tbody = self.fetch(icao, i)\n",
    "            self.yearr = i\n",
    "            self.monthh = 0\n",
    "            self.dayy = 0\n",
    "            a = list(map(self.callback, tbody))"
   ]
  },
  {
   "cell_type": "markdown",
   "metadata": {},
   "source": [
    "Below is a beginning example of using the **Weather** class to manually step through the years and months, iterively augmenting the data to the data map. *Note: the complete code for not incorporating the data into the class (which is the method we used to directly create the database file) is included below in the comments.*"
   ]
  },
  {
   "cell_type": "code",
   "execution_count": 8,
   "metadata": {
    "collapsed": true
   },
   "outputs": [],
   "source": [
    "weatherInst = Weather()\n",
    "weatherInst.setYearData('KATL', 2008)\n",
    "weatherInst.setTbody()\n",
    "len(weatherInst.getTbody[2008])\n",
    "weatherInst.setTryTD()\n",
    "\n",
    "# Counterr is used to count through number of days per month \n",
    "#weatherInst.counterr"
   ]
  },
  {
   "cell_type": "markdown",
   "metadata": {
    "collapsed": true
   },
   "source": [
    "And here is the code for looping through and populating the SQL table directly, *i.e. this is the method that connects to and populates the SQL table externally without storing the data internally (in the class instance).*  "
   ]
  },
  {
   "cell_type": "code",
   "execution_count": 9,
   "metadata": {
    "collapsed": false
   },
   "outputs": [
    {
     "name": "stdout",
     "output_type": "stream",
     "text": [
      "i:  KATL\n",
      "i:  KORD\n",
      "i:  KLAX\n",
      "i:  KDFW\n",
      "i:  KDEN\n",
      "i:  KJFK\n",
      "i:  KSFO\n",
      "i:  KIAH\n",
      "i:  KLAS\n",
      "i:  KPHX\n",
      "i:  KCLT\n",
      "i:  KMIA\n",
      "i:  KMCO\n",
      "i:  KEWR\n",
      "i:  KDTW\n",
      "i:  KMSP\n",
      "i:  KSEA\n",
      "i:  KPHL\n",
      "i:  KBOS\n",
      "i:  KLGA\n",
      "i:  KIAD\n",
      "i:  KBWI\n",
      "i:  KFLL\n",
      "i:  KSLC\n",
      "i:  PHNL\n",
      "i:  KDCA\n",
      "i:  KMDW\n",
      "i:  KSAN\n",
      "i:  KTPA\n",
      "i:  KPDX\n",
      "i:  KSTL\n",
      "i:  KMCI\n",
      "i:  KMEM\n",
      "i:  KCLE\n",
      "i:  KOAK\n",
      "i:  TJSJ\n",
      "i:  KRDU\n",
      "i:  KBNA\n",
      "i:  KSMF\n",
      "i:  KHOU\n",
      "i:  KSNA\n",
      "i:  KAUS\n",
      "i:  KSJC\n",
      "i:  KMSY\n",
      "i:  KPIT\n",
      "i:  KSAT\n",
      "i:  KCVG\n",
      "i:  KMKE\n",
      "i:  KDAL\n",
      "i:  KIND\n"
     ]
    }
   ],
   "source": [
    "weatherInst = Weather()\n",
    "for i in dataFin[\"ICAO\"]:\n",
    "    \n",
    "    # i = the top 50 airports\n",
    "    \n",
    "    print(\"i: \", i)\n",
    "    #weatherInst.popData(2008, 2016, i)"
   ]
  },
  {
   "cell_type": "markdown",
   "metadata": {},
   "source": [
    "### Calculate correlation coefficient directly on SQL table\n",
    "\n",
    "The next major step is calculating the correlation coefficient across all of the data. This could be performed after extracting the data into standard *Python* data structures / code, *i.e. Numpy arrays and use of numpy.corrcoeff()*. However, for greater optimization and learning purposes, the correlation coefficients are calculated directly on the SQL table.  "
   ]
  },
  {
   "cell_type": "markdown",
   "metadata": {},
   "source": [
    "*Note table attributes:*\n",
    "\n",
    "```\n",
    "    Date\n",
    "    MaxT = max daily temp\n",
    "    MeanT = mean daily temp\n",
    "    MinT = min daily temp\n",
    "    MaxH = max daily humidity \n",
    "    MeanH = mean daily humidity\n",
    "    MinH = min daily humidity\n",
    "    Prep = precipitation\n",
    "```\n"
   ]
  },
  {
   "cell_type": "code",
   "execution_count": 285,
   "metadata": {
    "collapsed": false
   },
   "outputs": [],
   "source": [
    "# Connect to SQL table\n",
    "sql = UtilSQL()\n",
    "sql.connect('HW5.db')\n",
    "\n",
    "sqlCMD = \"\"\"select w1.icao, w1.date, w1.MeanT, w1.MinT, w1.MaxT, w1.MeanH, w1.MinH, w1.MaxH, w1.Prep, w2.icao, w2.date, w2.MeanT, w2.MinT, w2.MaxT, w2.MeanH, w2.MinT, w2.MaxT, w2.Prep, julianday(w1.date)\n",
    "             from Weather w1, Weather w2 \n",
    "             where strftime('%Y', w1.date) = strftime('%Y', w2.date)\n",
    "             and strftime('%m', w1.date) = strftime('%m', w2.date)\n",
    "             and strftime('%d', w1.date) = strftime('%d', w2.date)\n",
    "             and w1.icao = 'KATL' \n",
    "             and w2.icao = 'KPHX'\n",
    "             and typeof(w1.MeanT) = 'real'\n",
    "             and typeof(w1.MinT) = 'real'\n",
    "             and typeof(w1.MaxT) = 'real'\n",
    "             and typeof(w1.MeanH) = 'real'\n",
    "             and typeof(w1.MinH) = 'real'\n",
    "             and typeof(w1.MaxH) = 'real'\n",
    "             and typeof(w1.Prep) = 'real'\n",
    "             and typeof(w2.MeanT) = 'real'\n",
    "             and typeof(w2.MinT) = 'real'\n",
    "             and typeof(w2.MaxT) = 'real'\n",
    "             and typeof(w2.MeanH) = 'real'\n",
    "             and typeof(w2.MinH) = 'real'\n",
    "             and typeof(w2.MaxH) = 'real'\n",
    "             and typeof(w2.Prep) = 'real';\"\"\"\n",
    "\n",
    "sql.cursor.execute(sqlCMD)\n",
    "allTableData = sql.cursor.fetchall()\n",
    "# len(allTableData)"
   ]
  },
  {
   "cell_type": "markdown",
   "metadata": {},
   "source": [
    "Now we have created a Python data structure that contains the results of an SQL query on all matching data between **ATL** and **PHX** airports. The data structure has the following structure:\n",
    "    \n",
    "\n",
    "    * allTableData[i][0] = 'KATL' for day i\n",
    "    * allTableData[i][1] = '...date...' for day i\n",
    "    * allTableData[i][2] = mean temperature of ATL for day i\n",
    "    * allTableData[i][3] = min temperature of ATL ...\n",
    "    * allTableData[i][4] = max temperature of ATL ...\n",
    "    * allTableData[i][5] = mean humidity of ATL ...\n",
    "    * allTableData[i][6] = min humidity of ATL ...\n",
    "    * allTableData[i][7] = max humidity of ATL ...\n",
    "    * allTableData[i][8] = precipitation of ATL ...\n",
    "    * allTableData[i][9] = 'KPHX' ...\n",
    "    * allTableData[i][10] = '...date...' ...\n",
    "    * allTableData[i][11] = mean temperature of PHX ...\n",
    "    * allTableData[i][12] = min temperature of PHX ...\n",
    "    * allTableData[i][13] = max temperature of PHX ...\n",
    "    * allTableData[i][14] = mean humidity of PHX ...\n",
    "    * allTableData[i][15] = min humidity of PHX ...\n",
    "    * allTableData[i][16] = max humidity of PHX ...\n",
    "    * allTableData[i][17] = precipitation of PHX ...\n",
    "    * allTableData[i][18] = Julian day (for easier calculation of delta t or precip)"
   ]
  },
  {
   "cell_type": "code",
   "execution_count": 320,
   "metadata": {
    "collapsed": false
   },
   "outputs": [],
   "source": [
    "\n",
    "# Data in nested array \n",
    "rawDataStruct = []\n",
    "rawTemp = []\n",
    "rawHumid = []\n",
    "rawPrecip = []\n",
    "rawDTemp = []\n",
    "rawDHumid = []\n",
    "rawJDate = []\n",
    "\n",
    "for i in allTableData:\n",
    "    \n",
    "    dtATL = i[4] - i[3]\n",
    "    dhATL = i[7] - i[6]\n",
    "    dtPHX = i[13] - i[12]\n",
    "    dhPHX = i[16] - i[15] \n",
    "    \n",
    "    rawDataStruct.append({'Date' : i[1], 'jDate' : i[18], \n",
    "                          'tATL' : i[2], 'dtATL' : dtATL, 'hATL' : i[5], 'dhATL' : dhATL, 'pATL' : i[8],\n",
    "                         'tPHX' : i[11], 'dtPHX' : dtPHX, 'hPHX' : i[14], 'dhPHX' : dhPHX, 'pPHX' : i[17]})\n",
    "    rawTemp.append({'date' : i[1], 'jDate' : i[18], 'tATL' : i[2], 'tPHX' : i[11]})  \n",
    "    rawHumid.append({'date' : i[1], 'jDate' : i[18], 'hATL' : i[5], 'hPHX' : i[14]})\n",
    "    rawPrecip.append({'date' : i[1], 'jDate' : i[18], 'pATL' : i[8], 'pPHX' : i[17]})\n",
    "    rawDTemp.append({'date' : i[1], 'jDate' : i[18], 'dtATL' : dtATL, 'dtPHX' : dtPHX})\n",
    "    rawDHumid.append({'date' : i[1], 'jDate' : i[18], 'dhATL' : dhATL, 'dhPHX' : dhPHX})\n",
    "    rawJDate.append({'jDate' : i[18]})\n",
    "    \n",
    "pdAll = pd.DataFrame(rawDataStruct)\n",
    "pdTemp = pd.DataFrame(rawTemp)\n",
    "pdHumid = pd.DataFrame(rawHumid)\n",
    "pdPrecip = pd.DataFrame(rawPrecip)\n",
    "pdDTemp = pd.DataFrame(rawDTemp)\n",
    "pdDHumid = pd.DataFrame(rawDHumid)\n",
    "pdJDate = pd.DataFrame(rawJDate)\n"
   ]
  },
  {
   "cell_type": "code",
   "execution_count": 321,
   "metadata": {
    "collapsed": false
   },
   "outputs": [
    {
     "data": {
      "text/html": [
       "<div>\n",
       "<table border=\"1\" class=\"dataframe\">\n",
       "  <thead>\n",
       "    <tr style=\"text-align: right;\">\n",
       "      <th></th>\n",
       "      <th>Date</th>\n",
       "      <th>dhATL</th>\n",
       "      <th>dhPHX</th>\n",
       "      <th>dtATL</th>\n",
       "      <th>dtPHX</th>\n",
       "      <th>hATL</th>\n",
       "      <th>hPHX</th>\n",
       "      <th>jDate</th>\n",
       "      <th>pATL</th>\n",
       "      <th>pPHX</th>\n",
       "      <th>tATL</th>\n",
       "      <th>tPHX</th>\n",
       "    </tr>\n",
       "  </thead>\n",
       "  <tbody>\n",
       "    <tr>\n",
       "      <th>0</th>\n",
       "      <td>2008-01-03</td>\n",
       "      <td>27.0</td>\n",
       "      <td>9.0</td>\n",
       "      <td>13.0</td>\n",
       "      <td>9.0</td>\n",
       "      <td>73.0</td>\n",
       "      <td>27.0</td>\n",
       "      <td>2454468.5</td>\n",
       "      <td>0.0</td>\n",
       "      <td>0.00</td>\n",
       "      <td>40.0</td>\n",
       "      <td>71.0</td>\n",
       "    </tr>\n",
       "    <tr>\n",
       "      <th>1</th>\n",
       "      <td>2008-01-04</td>\n",
       "      <td>21.0</td>\n",
       "      <td>11.0</td>\n",
       "      <td>11.0</td>\n",
       "      <td>11.0</td>\n",
       "      <td>60.0</td>\n",
       "      <td>54.0</td>\n",
       "      <td>2454469.5</td>\n",
       "      <td>0.0</td>\n",
       "      <td>0.00</td>\n",
       "      <td>47.0</td>\n",
       "      <td>73.0</td>\n",
       "    </tr>\n",
       "    <tr>\n",
       "      <th>2</th>\n",
       "      <td>2008-01-05</td>\n",
       "      <td>19.0</td>\n",
       "      <td>6.0</td>\n",
       "      <td>12.0</td>\n",
       "      <td>6.0</td>\n",
       "      <td>71.0</td>\n",
       "      <td>59.0</td>\n",
       "      <td>2454470.5</td>\n",
       "      <td>0.0</td>\n",
       "      <td>0.03</td>\n",
       "      <td>55.0</td>\n",
       "      <td>67.0</td>\n",
       "    </tr>\n",
       "    <tr>\n",
       "      <th>3</th>\n",
       "      <td>2008-01-06</td>\n",
       "      <td>15.0</td>\n",
       "      <td>3.0</td>\n",
       "      <td>13.0</td>\n",
       "      <td>3.0</td>\n",
       "      <td>82.0</td>\n",
       "      <td>93.0</td>\n",
       "      <td>2454471.5</td>\n",
       "      <td>0.0</td>\n",
       "      <td>0.02</td>\n",
       "      <td>67.0</td>\n",
       "      <td>62.0</td>\n",
       "    </tr>\n",
       "    <tr>\n",
       "      <th>4</th>\n",
       "      <td>2008-01-07</td>\n",
       "      <td>25.0</td>\n",
       "      <td>5.0</td>\n",
       "      <td>14.0</td>\n",
       "      <td>5.0</td>\n",
       "      <td>100.0</td>\n",
       "      <td>96.0</td>\n",
       "      <td>2454472.5</td>\n",
       "      <td>0.0</td>\n",
       "      <td>0.51</td>\n",
       "      <td>71.0</td>\n",
       "      <td>59.0</td>\n",
       "    </tr>\n",
       "  </tbody>\n",
       "</table>\n",
       "</div>"
      ],
      "text/plain": [
       "         Date  dhATL  dhPHX  dtATL  dtPHX   hATL  hPHX      jDate  pATL  pPHX  \\\n",
       "0  2008-01-03   27.0    9.0   13.0    9.0   73.0  27.0  2454468.5   0.0  0.00   \n",
       "1  2008-01-04   21.0   11.0   11.0   11.0   60.0  54.0  2454469.5   0.0  0.00   \n",
       "2  2008-01-05   19.0    6.0   12.0    6.0   71.0  59.0  2454470.5   0.0  0.03   \n",
       "3  2008-01-06   15.0    3.0   13.0    3.0   82.0  93.0  2454471.5   0.0  0.02   \n",
       "4  2008-01-07   25.0    5.0   14.0    5.0  100.0  96.0  2454472.5   0.0  0.51   \n",
       "\n",
       "   tATL  tPHX  \n",
       "0  40.0  71.0  \n",
       "1  47.0  73.0  \n",
       "2  55.0  67.0  \n",
       "3  67.0  62.0  \n",
       "4  71.0  59.0  "
      ]
     },
     "execution_count": 321,
     "metadata": {},
     "output_type": "execute_result"
    }
   ],
   "source": [
    "pdAll.head()"
   ]
  },
  {
   "cell_type": "code",
   "execution_count": 322,
   "metadata": {
    "collapsed": false
   },
   "outputs": [],
   "source": [
    "# Stack Pandas DataFrame and then sort to get top Z values in matrix\n",
    "\n",
    "#pdAllStack = pdAll.stack()\n",
    "#pdAllStack.sort(ascending = False)\n",
    "#pdAllStack.head()"
   ]
  },
  {
   "cell_type": "markdown",
   "metadata": {},
   "source": [
    "In other words, the top raw values within the data table are found at row **2559** and column **tPHX** with a value of **118.0**. This means the maximum raw value in the data table is the mean temperature for some day in PHX. "
   ]
  },
  {
   "cell_type": "code",
   "execution_count": 323,
   "metadata": {
    "collapsed": false
   },
   "outputs": [
    {
     "data": {
      "text/html": [
       "<div>\n",
       "<table border=\"1\" class=\"dataframe\">\n",
       "  <thead>\n",
       "    <tr style=\"text-align: right;\">\n",
       "      <th></th>\n",
       "      <th>date</th>\n",
       "      <th>jDate</th>\n",
       "      <th>tATL</th>\n",
       "      <th>tPHX</th>\n",
       "    </tr>\n",
       "  </thead>\n",
       "  <tbody>\n",
       "    <tr>\n",
       "      <th>0</th>\n",
       "      <td>2008-01-03</td>\n",
       "      <td>2454468.5</td>\n",
       "      <td>40.0</td>\n",
       "      <td>71.0</td>\n",
       "    </tr>\n",
       "    <tr>\n",
       "      <th>1</th>\n",
       "      <td>2008-01-04</td>\n",
       "      <td>2454469.5</td>\n",
       "      <td>47.0</td>\n",
       "      <td>73.0</td>\n",
       "    </tr>\n",
       "    <tr>\n",
       "      <th>2</th>\n",
       "      <td>2008-01-05</td>\n",
       "      <td>2454470.5</td>\n",
       "      <td>55.0</td>\n",
       "      <td>67.0</td>\n",
       "    </tr>\n",
       "    <tr>\n",
       "      <th>3</th>\n",
       "      <td>2008-01-06</td>\n",
       "      <td>2454471.5</td>\n",
       "      <td>67.0</td>\n",
       "      <td>62.0</td>\n",
       "    </tr>\n",
       "    <tr>\n",
       "      <th>4</th>\n",
       "      <td>2008-01-07</td>\n",
       "      <td>2454472.5</td>\n",
       "      <td>71.0</td>\n",
       "      <td>59.0</td>\n",
       "    </tr>\n",
       "  </tbody>\n",
       "</table>\n",
       "</div>"
      ],
      "text/plain": [
       "         date      jDate  tATL  tPHX\n",
       "0  2008-01-03  2454468.5  40.0  71.0\n",
       "1  2008-01-04  2454469.5  47.0  73.0\n",
       "2  2008-01-05  2454470.5  55.0  67.0\n",
       "3  2008-01-06  2454471.5  67.0  62.0\n",
       "4  2008-01-07  2454472.5  71.0  59.0"
      ]
     },
     "execution_count": 323,
     "metadata": {},
     "output_type": "execute_result"
    }
   ],
   "source": [
    "pdTemp.head()"
   ]
  },
  {
   "cell_type": "code",
   "execution_count": 324,
   "metadata": {
    "collapsed": false
   },
   "outputs": [
    {
     "data": {
      "text/html": [
       "<div>\n",
       "<table border=\"1\" class=\"dataframe\">\n",
       "  <thead>\n",
       "    <tr style=\"text-align: right;\">\n",
       "      <th></th>\n",
       "      <th>date</th>\n",
       "      <th>dtATL</th>\n",
       "      <th>dtPHX</th>\n",
       "      <th>jDate</th>\n",
       "    </tr>\n",
       "  </thead>\n",
       "  <tbody>\n",
       "    <tr>\n",
       "      <th>0</th>\n",
       "      <td>2008-01-03</td>\n",
       "      <td>13.0</td>\n",
       "      <td>9.0</td>\n",
       "      <td>2454468.5</td>\n",
       "    </tr>\n",
       "    <tr>\n",
       "      <th>1</th>\n",
       "      <td>2008-01-04</td>\n",
       "      <td>11.0</td>\n",
       "      <td>11.0</td>\n",
       "      <td>2454469.5</td>\n",
       "    </tr>\n",
       "    <tr>\n",
       "      <th>2</th>\n",
       "      <td>2008-01-05</td>\n",
       "      <td>12.0</td>\n",
       "      <td>6.0</td>\n",
       "      <td>2454470.5</td>\n",
       "    </tr>\n",
       "    <tr>\n",
       "      <th>3</th>\n",
       "      <td>2008-01-06</td>\n",
       "      <td>13.0</td>\n",
       "      <td>3.0</td>\n",
       "      <td>2454471.5</td>\n",
       "    </tr>\n",
       "    <tr>\n",
       "      <th>4</th>\n",
       "      <td>2008-01-07</td>\n",
       "      <td>14.0</td>\n",
       "      <td>5.0</td>\n",
       "      <td>2454472.5</td>\n",
       "    </tr>\n",
       "  </tbody>\n",
       "</table>\n",
       "</div>"
      ],
      "text/plain": [
       "         date  dtATL  dtPHX      jDate\n",
       "0  2008-01-03   13.0    9.0  2454468.5\n",
       "1  2008-01-04   11.0   11.0  2454469.5\n",
       "2  2008-01-05   12.0    6.0  2454470.5\n",
       "3  2008-01-06   13.0    3.0  2454471.5\n",
       "4  2008-01-07   14.0    5.0  2454472.5"
      ]
     },
     "execution_count": 324,
     "metadata": {},
     "output_type": "execute_result"
    }
   ],
   "source": [
    "pdDTemp.head()"
   ]
  },
  {
   "cell_type": "markdown",
   "metadata": {},
   "source": [
    "Here we show an alternative method for extracting SQL table attributes (query SQL table) to build a Python data structure in a stepwise pattern."
   ]
  },
  {
   "cell_type": "code",
   "execution_count": 325,
   "metadata": {
    "collapsed": true
   },
   "outputs": [],
   "source": [
    "# Get features from specific observation \n",
    "\n",
    "def getTableFeatures(icao):\n",
    "\n",
    "    global sql\n",
    "    \n",
    "    sqlCMD = \"\"\"select w1.Prep\n",
    "                 from Weather w1 \n",
    "                 where w1.icao = '%s' \n",
    "                 and typeof(w1.Prep) = 'real';\"\"\" % (icao)\n",
    "    sql.cursor.execute(sqlCMD)\n",
    "    result = sql.cursor.fetchall()\n",
    "    return result\n",
    "\n",
    "# pATL = prep predictor for ATL\n",
    "pATL = getTableFeatures('KATL')\n",
    "\n",
    "# pPHX = prep predictor for PHX\n",
    "pPHX = getTableFeatures('KPHX')"
   ]
  },
  {
   "cell_type": "markdown",
   "metadata": {},
   "source": [
    "#### A note about covariance matrices \n",
    "\n",
    "We will be using the **numpy** function *np.corrcoeff* to calculate a normalized covariance measurement of our database. The normalized covariance returns the coefficients (per *n*, observations, i.e. per airport) from the covariance matrix. The covariance matrix is calculated with the following:\n",
    "\n",
    "```\n",
    "    * n = number of observations \n",
    "    * p = number of predictors \n",
    "    * n x p = dimensions of the data \n",
    "    * N = [n_1, n_2, ... , n_z]**T - all observations transposed\n",
    "    * C_ij = covariance of n_i and n_j\n",
    "    * C_ii = variance of n_i\n",
    "    * R_ij = C_ij / sqrt(C_ii * C_jj)\n",
    "```\n",
    "\n",
    "The covariance is calculated using N (the observations transposed) and produces a **n x n** matrix with the following values: \n",
    "\n",
    "```\n",
    "    If the value of C_ij is close to 1: \n",
    "        near perfect positive linear relationship / correlation between n_i and n_j\n",
    "    If the value of C_ij is close to -1:\n",
    "        near perfect negative linear relationship / correlation between n_i and n_j\n",
    "    If the value of C_ij is 0:\n",
    "        no relationship between n_i and n_j\n",
    "```"
   ]
  },
  {
   "cell_type": "code",
   "execution_count": 326,
   "metadata": {
    "collapsed": true
   },
   "outputs": [],
   "source": [
    "# Speed up the calculation of the covariance \n",
    "def speedUpCov(Ni, Nj):\n",
    "    Nim = np.reshape(np.mean(Ni, axis = 1), (Ni.shape[0], 1))\n",
    "    Njm = np.mean(Nj)\n",
    "    Cij = np.sum((Ni - Nim) * (Nj - Njm), axis = 1)\n",
    "    Ciijj = np.sqrt(np.sum((Ni - Nim)**2, axis = 1) * np.sum((Nj - Njm)**2))\n",
    "    Rij = Cij / Ciijj\n",
    "    return Rij\n"
   ]
  },
  {
   "cell_type": "markdown",
   "metadata": {},
   "source": [
    "We can generate the covariance matrices for each pair of data, *i.e. a feature from airport X and the same feature from airport Y*. \n",
    "\n",
    "The **correlation coefficients** - per *n* (i.e. airport) - can be calculated from normalizing the covariance matrix. We can compute the pairwise correlations of columns using the *Pearson correlation coefficient* test from the Pandas function **pd.corr()**.  "
   ]
  },
  {
   "cell_type": "code",
   "execution_count": 327,
   "metadata": {
    "collapsed": false
   },
   "outputs": [],
   "source": [
    "tCorr = pdTemp.corr()\n",
    "hCorr = pdHumid.corr()\n",
    "pCorr = pdPrecip.corr()\n",
    "dtCorr = pdDTemp.corr()\n",
    "dhCorr = pdDHumid.corr()\n",
    "\n",
    "tCorrValue = tCorr.ix['tATL']['tPHX']\n",
    "hCorrValue = hCorr.ix['hATL']['hPHX']\n",
    "pCorrValue = pCorr.ix['pATL']['pPHX']\n",
    "dtCorrValue = dtCorr.ix['dtATL']['dtPHX']\n",
    "dhCorrValue = dhCorr.ix['dhATL']['dhPHX']\n",
    "\n",
    "corrValues = {\n",
    "    \"tMean\" : tCorrValue,\n",
    "    \"hMean\" : hCorrValue, \n",
    "    \"precip\" : pCorrValue, \n",
    "    \"dTemp\" : dtCorrValue, \n",
    "    \"dHumid\" : dhCorrValue\n",
    "}"
   ]
  },
  {
   "cell_type": "code",
   "execution_count": 328,
   "metadata": {
    "collapsed": false
   },
   "outputs": [
    {
     "data": {
      "text/plain": [
       "{'dHumid': 0.046232260357963219,\n",
       " 'dTemp': 0.0012335313652307798,\n",
       " 'hMean': 0.015329177189899422,\n",
       " 'precip': -0.0032019456056078636,\n",
       " 'tMean': 0.74126728749423831}"
      ]
     },
     "execution_count": 328,
     "metadata": {},
     "output_type": "execute_result"
    }
   ],
   "source": [
    "corrValues"
   ]
  },
  {
   "cell_type": "code",
   "execution_count": 329,
   "metadata": {
    "collapsed": false
   },
   "outputs": [],
   "source": [
    "ttATL = np.array(pdTemp[['tATL']]).transpose()\n",
    "ttPHX = np.array(pdTemp[['tPHX']]).transpose()"
   ]
  },
  {
   "cell_type": "code",
   "execution_count": 330,
   "metadata": {
    "collapsed": false
   },
   "outputs": [
    {
     "data": {
      "text/plain": [
       "array([[ 1.        ,  0.74126729],\n",
       "       [ 0.74126729,  1.        ]])"
      ]
     },
     "execution_count": 330,
     "metadata": {},
     "output_type": "execute_result"
    }
   ],
   "source": [
    "np.corrcoef(ttATL, ttPHX)"
   ]
  },
  {
   "cell_type": "markdown",
   "metadata": {},
   "source": [
    "The newly created array (list) of correlation coefficients between **ATL and PHX** using:\n",
    "\n",
    "* corrValues['tMean'] = mean temperature\n",
    "* corrValues['hMean'] = mean humidity \n",
    "* corrValues['precip'] = precipitation\n",
    "* corrValues['dTemp'] = daily delta temperature \n",
    "* corrValues['dHumid'] = daily delta humidity\n",
    "\n",
    "\n",
    "### So what features are correlated? \n",
    "\n",
    "We can pull out whatever the highest correlation is between the two locations, *i.e. ATL and PHX*. With a high correlation we can expect that a linear regression between the two airports using that feature will produce a predictive measurement. \n",
    "\n",
    "However, these correlations are all based on the Pearson correlation coefficient test, which assumes the data is normally distributed. We can examine this 'truth' through manually checking the data distributions and then involving the **Scipy function scipy.pearsonr()** - the *p-value* returned is from a two-tail probability test."
   ]
  },
  {
   "cell_type": "code",
   "execution_count": 331,
   "metadata": {
    "collapsed": false
   },
   "outputs": [],
   "source": [
    "# Sort matrix and pull out the top Z greatest values (from descending data structure)\n",
    "\n",
    "#pdAllStack = pdAll.stack()\n",
    "#pdAllStack.sort(ascending = False)\n",
    "#pdAllStack.head()"
   ]
  },
  {
   "cell_type": "code",
   "execution_count": 332,
   "metadata": {
    "collapsed": false
   },
   "outputs": [
    {
     "data": {
      "image/png": "[encoded data removed]",
      "text/plain": [
       "<matplotlib.figure.Figure at 0x10eabb780>"
      ]
     },
     "metadata": {},
     "output_type": "display_data"
    }
   ],
   "source": [
    "from scipy import stats\n",
    "import matplotlib.pyplot as plt\n",
    "%matplotlib inline\n",
    "\n",
    "tATL = np.array(pdTemp[['tATL']])\n",
    "tATLsort = np.sort(tATL)\n",
    "tATLfit = stats.norm.pdf(tATLsort, np.mean(tATLsort), np.std(tATLsort))\n",
    "\n",
    "plt.plot(tATLsort, tATLfit, '-o')\n",
    "plt.hist(tATLsort, normed = True)\n",
    "plt.suptitle(\"Mean temperature of ATL\")\n",
    "plt.show()"
   ]
  },
  {
   "cell_type": "code",
   "execution_count": 333,
   "metadata": {
    "collapsed": false
   },
   "outputs": [
    {
     "data": {
      "image/png": "[encoded data removed]",
      "text/plain": [
       "<matplotlib.figure.Figure at 0x1862a5780>"
      ]
     },
     "metadata": {},
     "output_type": "display_data"
    }
   ],
   "source": [
    "%matplotlib inline\n",
    "\n",
    "tPHX = np.array(pdTemp[['tPHX']])\n",
    "tPHXsort = np.sort(tPHX)\n",
    "tPHXfit = stats.norm.pdf(tPHXsort, np.mean(tPHXsort), np.std(tPHXsort))\n",
    "\n",
    "plt.plot(tPHXsort, tPHXfit, '-o')\n",
    "plt.hist(tPHXsort, normed = True)\n",
    "plt.suptitle(\"Mean temperature of PHX\")\n",
    "plt.show()"
   ]
  },
  {
   "cell_type": "code",
   "execution_count": 334,
   "metadata": {
    "collapsed": false
   },
   "outputs": [
    {
     "data": {
      "image/png": "[encoded data removed]",
      "text/plain": [
       "<matplotlib.figure.Figure at 0x183a73b38>"
      ]
     },
     "metadata": {},
     "output_type": "display_data"
    }
   ],
   "source": [
    "%matplotlib inline\n",
    "\n",
    "pATL = np.array(pdPrecip[['pATL']])\n",
    "pATLsort = np.sort(pATL)\n",
    "pATLfit = stats.norm.pdf(pATLsort, np.mean(pATLsort), np.std(pATLsort))\n",
    "\n",
    "plt.plot(pATLsort, pATLfit, '-o')\n",
    "plt.hist(pATLsort, normed = True)\n",
    "plt.suptitle(\"Precipitation of ATL\")\n",
    "plt.show()"
   ]
  },
  {
   "cell_type": "code",
   "execution_count": 335,
   "metadata": {
    "collapsed": false
   },
   "outputs": [
    {
     "data": {
      "image/png": "[encoded data removed]",
      "text/plain": [
       "<matplotlib.figure.Figure at 0x17eafcdd8>"
      ]
     },
     "metadata": {},
     "output_type": "display_data"
    }
   ],
   "source": [
    "%matplotlib inline\n",
    "\n",
    "pPHX = np.array(pdPrecip[['pPHX']])\n",
    "pPHXsort = np.sort(pPHX)\n",
    "pPHXfit = stats.norm.pdf(pPHXsort, np.mean(pPHXsort), np.std(pPHXsort))\n",
    "\n",
    "plt.plot(pPHXsort, pPHXfit, '-o')\n",
    "plt.hist(pPHXsort, normed = True)\n",
    "plt.suptitle(\"Precipitation of PHX\")\n",
    "plt.show()"
   ]
  },
  {
   "cell_type": "code",
   "execution_count": 336,
   "metadata": {
    "collapsed": false
   },
   "outputs": [
    {
     "data": {
      "text/plain": [
       "array([ 0.74126729])"
      ]
     },
     "execution_count": 336,
     "metadata": {},
     "output_type": "execute_result"
    }
   ],
   "source": [
    "# And now Pearson test\n",
    "\n",
    "stats.pearsonr(colATL, colPHX)[0]"
   ]
  },
  {
   "cell_type": "code",
   "execution_count": 337,
   "metadata": {
    "collapsed": false
   },
   "outputs": [
    {
     "data": {
      "text/plain": [
       "array([[ 1.        ,  0.74126729],\n",
       "       [ 0.74126729,  1.        ]])"
      ]
     },
     "execution_count": 337,
     "metadata": {},
     "output_type": "execute_result"
    }
   ],
   "source": [
    "# And numpy correlation coefficient \n",
    "\n",
    "np.corrcoef(ttATL, ttPHX)"
   ]
  },
  {
   "cell_type": "markdown",
   "metadata": {},
   "source": [
    "It seems that the precipitation data for either **ATL** nor **PHX** do not follow a normal distribution, though the mean temperatures look passing. Next we will use the change in temperatures and precipitation based on **1, 3, and 7 day advances** to find the correlations between these two airports. This is one method to calculate the correlations between changes over a fixed number of days at one airport to another airport, allowing predictions to occur for either temperature or precipitation. \n",
    "\n",
    "### Sliding delta t or h windows \n",
    "\n",
    "Slide over rows of data to calculate the change of (*i.e. delta*) temperature and precipitation based on windows of **1 day, 3 days, or 7 days**. \n"
   ]
  },
  {
   "cell_type": "code",
   "execution_count": 390,
   "metadata": {
    "collapsed": false
   },
   "outputs": [
    {
     "data": {
      "text/plain": [
       "2454468"
      ]
     },
     "execution_count": 390,
     "metadata": {},
     "output_type": "execute_result"
    }
   ],
   "source": [
    "import math\n",
    "\n",
    "# Get number of days total \n",
    "numDays = pdJDate.max() - pdJDate.min()\n",
    "\n",
    "# Get number of steps in data \n",
    "numSteps = pdTemp.shape[0]\n",
    "\n",
    "# Get number of missing days \n",
    "numMissing = numDays - numSteps \n",
    "\n",
    "# Get first day for Julian Dates \n",
    "jFirst = math.floor(pdJDate.min())\n",
    "\n",
    "# Get last day for Julian Dates\n",
    "jLast = math.floor(pdJDate.max())\n",
    "jFirst"
   ]
  },
  {
   "cell_type": "code",
   "execution_count": 392,
   "metadata": {
    "collapsed": false
   },
   "outputs": [
    {
     "data": {
      "text/plain": [
       "2457667"
      ]
     },
     "execution_count": 392,
     "metadata": {},
     "output_type": "execute_result"
    }
   ],
   "source": [
    "jLast"
   ]
  },
  {
   "cell_type": "code",
   "execution_count": 384,
   "metadata": {
    "collapsed": false
   },
   "outputs": [],
   "source": [
    "# Need to find how many 1, 3, and 7s go into the number of steps \n",
    "\n",
    "oneSteps = math.floor(numDays / 1)\n",
    "oneRemain = numDays % 1\n",
    "\n",
    "threeSteps = math.floor(numDays / 3)\n",
    "threeRemain = numDays % 3\n",
    "\n",
    "sevenSteps = math.floor(numDays / 7)\n",
    "sevenRemain = numDays % 7"
   ]
  },
  {
   "cell_type": "code",
   "execution_count": 393,
   "metadata": {
    "collapsed": true
   },
   "outputs": [],
   "source": [
    "# Create 1, 3, and 7 step dates starting from jFirst \n",
    "\n",
    "threeDates = []\n",
    "\n",
    "for i in range(0, threeSteps + 1):\n",
    "        threeDates.append({'jDate' : jFirst + (i * 3)})\n",
    "    \n",
    "pdThreeDates = pd.DataFrame(threeDates)"
   ]
  },
  {
   "cell_type": "code",
   "execution_count": 396,
   "metadata": {
    "collapsed": false
   },
   "outputs": [
    {
     "data": {
      "text/html": [
       "<div>\n",
       "<table border=\"1\" class=\"dataframe\">\n",
       "  <thead>\n",
       "    <tr style=\"text-align: right;\">\n",
       "      <th></th>\n",
       "      <th>jDate</th>\n",
       "    </tr>\n",
       "  </thead>\n",
       "  <tbody>\n",
       "    <tr>\n",
       "      <th>0</th>\n",
       "      <td>2454468</td>\n",
       "    </tr>\n",
       "    <tr>\n",
       "      <th>1</th>\n",
       "      <td>2454471</td>\n",
       "    </tr>\n",
       "    <tr>\n",
       "      <th>2</th>\n",
       "      <td>2454474</td>\n",
       "    </tr>\n",
       "    <tr>\n",
       "      <th>3</th>\n",
       "      <td>2454477</td>\n",
       "    </tr>\n",
       "    <tr>\n",
       "      <th>4</th>\n",
       "      <td>2454480</td>\n",
       "    </tr>\n",
       "  </tbody>\n",
       "</table>\n",
       "</div>"
      ],
      "text/plain": [
       "     jDate\n",
       "0  2454468\n",
       "1  2454471\n",
       "2  2454474\n",
       "3  2454477\n",
       "4  2454480"
      ]
     },
     "execution_count": 396,
     "metadata": {},
     "output_type": "execute_result"
    }
   ],
   "source": [
    "pdThreeDates.head()"
   ]
  },
  {
   "cell_type": "code",
   "execution_count": 408,
   "metadata": {
    "collapsed": true
   },
   "outputs": [],
   "source": [
    "# ... rest of the step dates\n",
    "\n",
    "oneDates = []\n",
    "\n",
    "for i in range(0, oneSteps + 1):\n",
    "        oneDates.append({'jDate' : jFirst + i})        \n",
    "pdOneDates = pd.DataFrame(oneDates)\n",
    "\n",
    "sevenDates = []\n",
    "\n",
    "for i in range(0, sevenSteps + 1):\n",
    "        sevenDates.append({'jDate' : jFirst + (i * 7)})\n",
    "pdSevenDates = pd.DataFrame(sevenDates)\n"
   ]
  },
  {
   "cell_type": "code",
   "execution_count": 409,
   "metadata": {
    "collapsed": false
   },
   "outputs": [
    {
     "data": {
      "text/html": [
       "<div>\n",
       "<table border=\"1\" class=\"dataframe\">\n",
       "  <thead>\n",
       "    <tr style=\"text-align: right;\">\n",
       "      <th></th>\n",
       "      <th>jDate</th>\n",
       "    </tr>\n",
       "  </thead>\n",
       "  <tbody>\n",
       "    <tr>\n",
       "      <th>0</th>\n",
       "      <td>2454468</td>\n",
       "    </tr>\n",
       "    <tr>\n",
       "      <th>1</th>\n",
       "      <td>2454475</td>\n",
       "    </tr>\n",
       "    <tr>\n",
       "      <th>2</th>\n",
       "      <td>2454482</td>\n",
       "    </tr>\n",
       "    <tr>\n",
       "      <th>3</th>\n",
       "      <td>2454489</td>\n",
       "    </tr>\n",
       "    <tr>\n",
       "      <th>4</th>\n",
       "      <td>2454496</td>\n",
       "    </tr>\n",
       "  </tbody>\n",
       "</table>\n",
       "</div>"
      ],
      "text/plain": [
       "     jDate\n",
       "0  2454468\n",
       "1  2454475\n",
       "2  2454482\n",
       "3  2454489\n",
       "4  2454496"
      ]
     },
     "execution_count": 409,
     "metadata": {},
     "output_type": "execute_result"
    }
   ],
   "source": [
    "pdSevenDates.head()"
   ]
  },
  {
   "cell_type": "markdown",
   "metadata": {},
   "source": [
    "### Extract features for projected days\n",
    "\n",
    "Now that we have the projected 1, 3, and 7 day dates across all of the years, we can pull the temperature and humidity values for the corresponding dates from the data table."
   ]
  },
  {
   "cell_type": "code",
   "execution_count": null,
   "metadata": {
    "collapsed": true
   },
   "outputs": [],
   "source": []
  },
  {
   "cell_type": "code",
   "execution_count": null,
   "metadata": {
    "collapsed": true
   },
   "outputs": [],
   "source": []
  },
  {
   "cell_type": "code",
   "execution_count": null,
   "metadata": {
    "collapsed": true
   },
   "outputs": [],
   "source": []
  },
  {
   "cell_type": "markdown",
   "metadata": {},
   "source": [
    "### Get top 10 airport pairs \n",
    "\n",
    "Finally, we can use a combination of techniques and methods described above to obtain the top 10 pairs of airports based on various windows of days\n",
    "\n",
    "*Note: I purposefully used a different sliding day window technique here to challenge myself and show another way to approach these problems.*"
   ]
  },
  {
   "cell_type": "code",
   "execution_count": 412,
   "metadata": {
    "collapsed": false
   },
   "outputs": [],
   "source": [
    "import itertools\n",
    "\n",
    "def getPairData(airr_i, airr_j, featt, dayWindow):\n",
    "    \"\"\"\n",
    "        Function from Miao: query SQL database for sliding day window around some feature.\n",
    "        \n",
    "        airr_i: airport i \n",
    "        airr_j: airport j\n",
    "        featt: the feature to pivot around \n",
    "        dayWindow: the size of the day window (from Julian date)\n",
    "    \"\"\"\n",
    "\n",
    "    sqlCMD = \"\"\"select w1.%s, w2.%s\n",
    "                 from Weather w1, Weather w2 \n",
    "                 where julianday(w2.date) - julianday(w1.date) = %s\n",
    "                 and w1.icao = '%s' \n",
    "                 and w2.icao = '%s'\n",
    "                 and typeof(w1.%s) = 'real'\n",
    "                 and typeof(w2.%s) = 'real';\"\"\" % (featt, featt, dayWindow, airr_i, airr_j, featt, featt)\n",
    "\n",
    "    sql.cursor.execute(sqlCMD)\n",
    "    return sql.cursor.fetchall()\n",
    "\n",
    "def getTopCorr(featt, dayWindow, numTop):\n",
    "    \"\"\"\n",
    "        Get the top N pairs based on the feature P in the window size K:\n",
    "        \n",
    "        numTop (N): the number of top observations to pull\n",
    "        featt (P): the feature to pivot and sort on\n",
    "        dayWindow (K): size of the sliding day window \n",
    "    \"\"\"\n",
    "\n",
    "    rawCorrs = []\n",
    "\n",
    "    # n choose k, n = number of airports, k = 2 (i.e. all pair combos)\n",
    "    for i in list(itertools.combinations(dataFin['ICAO'], 2)):\n",
    "\n",
    "        arr_ij = np.array(list(map(lambda row : [row[0], row[1]], getPairData(i[0], i[1], featt, dayWindow)))).transpose()\n",
    "        corr_ij = np.corrcoef(arr_ij)[0, 1]\n",
    "        rawCorrs.append([i, corr_ij])\n",
    "\n",
    "    topCorrs = sorted(rawCorrs, key = lambda element: element[1])[:numTop]\n",
    "\n",
    "    return topCorrs\n"
   ]
  },
  {
   "cell_type": "code",
   "execution_count": null,
   "metadata": {
    "collapsed": true
   },
   "outputs": [],
   "source": [
    "# Revolve around one feature, window size, and number of top airports to pull\n",
    "#temp_top10_1day = getTopCorr('MeanT', 1, 10)\n",
    "#temp_top10_3day = getTopCorr('MeanT', 3, 10)\n",
    "temp_top10_7day = getTopCorr('MeanT', 7, 10)"
   ]
  },
  {
   "cell_type": "code",
   "execution_count": null,
   "metadata": {
    "collapsed": true
   },
   "outputs": [],
   "source": [
    "#precip_top10_1day = getTopCorr('Prep', 1, 10)\n",
    "#precip_top10_3day = getTopCorr('Prep', 3, 10)\n",
    "precip_top10_7day = getTopCorr('Prep', 7, 10)"
   ]
  },
  {
   "cell_type": "markdown",
   "metadata": {},
   "source": [
    "Now we have the top 10 airport pairs for temperature and precipitation based on **1, 3, and 7 days** - seperately between sliding day windows as well as between features. Next we need to find the distances between those top pairs and plot the values of the correlations as functions of the distance to see if there is a linear or otherwise interesting relationship between these predictive measures and the geographical (i.e. lat and long) distances.  "
   ]
  },
  {
   "cell_type": "code",
   "execution_count": null,
   "metadata": {
    "collapsed": true
   },
   "outputs": [],
   "source": []
  },
  {
   "cell_type": "code",
   "execution_count": null,
   "metadata": {
    "collapsed": true
   },
   "outputs": [],
   "source": []
  },
  {
   "cell_type": "code",
   "execution_count": null,
   "metadata": {
    "collapsed": true
   },
   "outputs": [],
   "source": []
  },
  {
   "cell_type": "code",
   "execution_count": null,
   "metadata": {
    "collapsed": true
   },
   "outputs": [],
   "source": []
  }
 ],
 "metadata": {
  "anaconda-cloud": {},
  "kernelspec": {
   "display_name": "Python [default]",
   "language": "python",
   "name": "python3"
  },
  "language_info": {
   "codemirror_mode": {
    "name": "ipython",
    "version": 3
   },
   "file_extension": ".py",
   "mimetype": "text/x-python",
   "name": "python",
   "nbconvert_exporter": "python",
   "pygments_lexer": "ipython3",
   "version": "3.5.2"
  }
 },
 "nbformat": 4,
 "nbformat_minor": 0
}
