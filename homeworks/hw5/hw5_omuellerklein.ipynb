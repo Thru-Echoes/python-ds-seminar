{
 "cells": [
  {
   "cell_type": "markdown",
   "metadata": {},
   "source": [
    "# Homework 5: Oliver Muellerklein\n",
    "\n",
    "Collaboration with Jacob Bukoski and Zhongqi Miao."
   ]
  },
  {
   "cell_type": "code",
   "execution_count": 4,
   "metadata": {
    "collapsed": false
   },
   "outputs": [],
   "source": [
    "import sys\n",
    "\n",
    "#sys.path.append('/usr/local/lib/python3.5/site-packages')\n",
    "#sys.path"
   ]
  },
  {
   "cell_type": "markdown",
   "metadata": {
    "collapsed": true
   },
   "source": [
    "## SQL x Weather Underground\n",
    "\n",
    "The first steps are to import some packages for later and create a helper / utility class for SQLite.\n"
   ]
  },
  {
   "cell_type": "code",
   "execution_count": 112,
   "metadata": {
    "collapsed": false
   },
   "outputs": [],
   "source": [
    "import pandas as pd\n",
    "import numpy as np\n",
    "import sqlite3\n",
    "from bs4 import BeautifulSoup\n",
    "from urllib.request import urlopen\n",
    "from datetime import datetime\n",
    "import matplotlib.pyplot as plt\n",
    "#%matplotlib inline\n",
    "\n",
    "\"\"\"Helper utility class for SQL:\n",
    "\n",
    "    * connect(..., database)\n",
    "    \n",
    "    * table_list(...)\n",
    "    \n",
    "    * drop(..., table)\n",
    "    \n",
    "    * close(...)\n",
    "\"\"\"\n",
    "class UtilSQL:\n",
    "    \n",
    "    def __init__(self):\n",
    "        self.db = None\n",
    "        self.connection = None\n",
    "        self.cursor = None\n",
    "        \n",
    "    def connect(self, database):\n",
    "        self.db = database\n",
    "        self.connection = sqlite3.connect(self.db)\n",
    "        self.cursor = self.connection.cursor()\n",
    "        \n",
    "    def tableList(self):\n",
    "        sqlCMD = \"select * from sqlite_master where type = 'table';\"\n",
    "        self.cursor.execute(sqlCMD)\n",
    "        dbMeta = self.cursor.fetchall()\n",
    "        for entry in dbMeta: \n",
    "            print(entry)\n",
    "            \n",
    "    def drop(self, table):\n",
    "        sqlCMD = \"drop table %s\" % (table)\n",
    "        self.cursor.execute(sqlCMD)\n",
    "            \n",
    "    def close(self):\n",
    "        self.connection.commit()\n",
    "        self.connection.close()\n"
   ]
  },
  {
   "cell_type": "markdown",
   "metadata": {},
   "source": [
    "\n",
    "### Extract clean dataframe from CSV\n",
    "\n",
    "Next we want to use the given CSVs and extract a cleaner table / data structure for later use.\n"
   ]
  },
  {
   "cell_type": "code",
   "execution_count": 117,
   "metadata": {
    "collapsed": true
   },
   "outputs": [],
   "source": [
    "# Read in data from CSV\n",
    "dataHead = pd.read_csv('hw_5_data/top_airports.csv')\n",
    "icao = pd.read_csv('hw_5_data/ICAO_airports.csv')\n",
    "icao = icao.rename(columns = {'iata_code' : 'IATA'})\n",
    "dataMerge = pd.merge(dataHead, icao, on = ['IATA'])\n",
    "dataFin = dataMerge[['ICAO', 'Airport', 'City', 'latitude_deg', 'longitude_deg', 'elevation_ft']]"
   ]
  },
  {
   "cell_type": "markdown",
   "metadata": {},
   "source": [
    "### Initialize connection to SQL and begin!\n",
    "\n",
    "Now we can begin to fill in our tables with a connection to our SQL database through our utility class. More below..."
   ]
  },
  {
   "cell_type": "code",
   "execution_count": 118,
   "metadata": {
    "collapsed": false
   },
   "outputs": [
    {
     "data": {
      "text/plain": [
       "<sqlite3.Cursor at 0x11b0d8420>"
      ]
     },
     "execution_count": 118,
     "metadata": {},
     "output_type": "execute_result"
    }
   ],
   "source": [
    "# Connect to SQL table\n",
    "sql = UtilSQL()\n",
    "sql.connect('HW5.db')\n",
    "\n",
    "# Run SQL commands \n",
    "\n",
    "sqlCMD = \"\"\"CREATE TABLE Top_Airport (ICAO TEXT, Airport TEXT,\n",
    "            City TEXT, Latitude REAL, Longitude REAL, Elevation REAL,\n",
    "            PRIMARY KEY (ICAO))\"\"\"\n",
    "#sql.cursor.execute(sqlCMD)\n",
    "\n",
    "#for i in range(len(dataFin)):\n",
    "#    sqlCMD = (\"INSERT INTO Top_Airport (ICAO, Airport, City, Latitude, Longitude, Elevation) VALUES \" \n",
    "#               + str(tuple(dataFin.ix[i])))\n",
    "#    sql.cursor.execute(sqlCMD)\n",
    "\n",
    "sqlCMD = 'select * from Top_Airport'\n",
    "\n",
    "sql.cursor.execute(sqlCMD)\n",
    "\n",
    "# Show data table (SQL table)\n",
    "#sql.cursor.fetchall()"
   ]
  },
  {
   "cell_type": "markdown",
   "metadata": {
    "collapsed": true
   },
   "source": [
    "### Exploratory steps with BeautifulSoup"
   ]
  },
  {
   "cell_type": "code",
   "execution_count": 119,
   "metadata": {
    "collapsed": false
   },
   "outputs": [],
   "source": [
    "try:\n",
    "    # For Python 3.0 and later\n",
    "    from urllib.request import urlopen\n",
    "except ImportError:\n",
    "    # Fall back to Python 2's urllib2\n",
    "    from urllib2 import urlopen\n",
    "    \n",
    "#response = urlopen(\"http://words.bighugelabs.com/\")\n",
    "#html = response.read()\n",
    "#response.close()\n",
    "# pip install beautifulsoup4\n",
    "from bs4 import BeautifulSoup\n",
    "#soup = BeautifulSoup(html, \"html5lib\")\n",
    "#forms = soup.findAll(\"form\")\n",
    "#forms"
   ]
  },
  {
   "cell_type": "markdown",
   "metadata": {
    "collapsed": true
   },
   "source": [
    "\n",
    "We can begin with an example of how to scrape the **Weather Underground** data for a specific year (2008) using *BeautifulSoup*.\n"
   ]
  },
  {
   "cell_type": "code",
   "execution_count": 120,
   "metadata": {
    "collapsed": true
   },
   "outputs": [],
   "source": [
    "#response08 = urlopen(\"https://www.wunderground.com/history/airport/%s/%s/1/1/CustomHistory.html?dayend=31&monthend=12&yearend=%s\" \\\n",
    "#                   % ('KATL', '2008', '2008'))\n",
    "#html08 = response08.read()\n",
    "#response08.close()\n",
    "#soup08 = BeautifulSoup(html08, \"html5lib\")\n",
    "\n",
    "# Try to pull a single year\n",
    "#tbody08 = soup08.find('table', id = 'obsTable', class_ = 'responsive obs-table daily').find_all('tbody')"
   ]
  },
  {
   "cell_type": "markdown",
   "metadata": {},
   "source": [
    "## A Class approach to generating weather data"
   ]
  },
  {
   "cell_type": "markdown",
   "metadata": {},
   "source": [
    "There are multiple ways that the database could be connected and integrated with the web scraping of Weather Underground. The following class contains a few different methods and components that allow the data to be built either: \n",
    "\n",
    "**A)** outside of the class by connecting to the SQL data externally, i.e. no data is stored within an instance of this class \n",
    "\n",
    "or \n",
    "\n",
    "**B)** within the class through a mapping to the specific years, i.e. data is stored within an instance of the class \n",
    "\n",
    "I am providing the code here as references to all functionality but the actual data used in the remaining questions imports *hw5.db* - which is a result of using the class without any instance-specific data storage, i.e. option **A**.  "
   ]
  },
  {
   "cell_type": "code",
   "execution_count": 122,
   "metadata": {
    "collapsed": false
   },
   "outputs": [],
   "source": [
    "class Weather:\n",
    "    \n",
    "    def __init__(self):\n",
    "        self.begin = None\n",
    "        self.end = None\n",
    "        self.icao = None\n",
    "        self.tbody = None\n",
    "        self.y = None\n",
    "        self.m = None\n",
    "        self.d = None\n",
    "        self.icao = None\n",
    "        \n",
    "        self.counterr = 0\n",
    "        self.monthIndx = []\n",
    "        self.tryTd = None\n",
    "        self.tbody08 = None\n",
    "        self.tbody09 = None\n",
    "        self.tbody10 = None\n",
    "        self.tbody11 = None\n",
    "        self.tbody12 = None\n",
    "        self.tbody13 = None\n",
    "        self.tbody14 = None\n",
    "        self.tbody15 = None\n",
    "        self.tbody16 = None\n",
    "        self.yyear = None\n",
    "        \n",
    "        # Bunch of maps \n",
    "        self.getNumDayIncrease = {\n",
    "            'Jan' : 32,\n",
    "            'Feb' : 28\n",
    "        }\n",
    "        \n",
    "        self.getTbody = {\n",
    "            2008 : self.tbody08,\n",
    "            2009 : self.tbody09,\n",
    "            2010 : self.tbody10,\n",
    "            2011 : self.tbody11,\n",
    "            2012 : self.tbody12,\n",
    "            2013 : self.tbody13,\n",
    "            2014 : self.tbody14,\n",
    "            2015 : self.tbody15,\n",
    "            2016 : self.tbody16\n",
    "        }\n",
    "\n",
    "    global sql\n",
    "    \n",
    "    def setTbody(self):\n",
    "        \n",
    "        self.tbody = self.getTbody[self.yyear]\n",
    "    \n",
    "    def setTryTD(self):\n",
    "        self.tryTd = self.tbody[self.counterr].find_all('td')[0].string\n",
    "        tryIt = self.trySwitcher()\n",
    "\n",
    "        if (tryIt):\n",
    "            self.tryTd = self.tbody[self.counterr].find_all('td')[0].string\n",
    "            tryIt = self.trySwitcher()\n",
    "      \n",
    "    \n",
    "    def mapSwitcher(self, argument):\n",
    "    \n",
    "        switchh = {\n",
    "            'Jan' : True,\n",
    "            'Feb' : True\n",
    "        }\n",
    "\n",
    "        return switchh.get(argument, 'nothing')\n",
    "\n",
    "    \n",
    "    def trySwitcher(self):\n",
    "        \n",
    "        if (self.mapSwitcher(self.tryTd)):\n",
    "            \n",
    "            # Get index from tbody \n",
    "            self.monthIndx.append(self.counterr)\n",
    "            self.counterr += self.getNumDayIncrease[self.tryTd]\n",
    "            return False\n",
    "\n",
    "        else:\n",
    "            # Try again \n",
    "            self.counterr += 1\n",
    "            return True\n",
    "        \n",
    "    def setYearData(self, icao, yyear):\n",
    "        \n",
    "        self.yyear = yyear\n",
    "        self.getTbody[yyear] = self.fetch(icao, yyear)\n",
    "    \n",
    "    def fetch (self, icao, date):\n",
    "        \"\"\"\n",
    "            Function from Miao: pull specific year stepwise. \n",
    "            Only connections, no internal class storage of tables.\n",
    "            \n",
    "            return: all tbody tags from HTML document (DOM)\n",
    "        \"\"\"\n",
    "\n",
    "        response = urlopen(\"https://www.wunderground.com/history/airport/%s/%s/1/1/CustomHistory.html?dayend=31&monthend=12&yearend=%s\" \\\n",
    "                           % (icao, date, date))\n",
    "        html = response.read()\n",
    "        response.close()\n",
    "        soup = BeautifulSoup(html,\"html5lib\")\n",
    "        tbody = soup.find('table', id = 'obsTable', class_ = 'responsive obs-table daily').find_all('tbody')\n",
    "        return tbody\n",
    "    \n",
    "    def callback (self, row):\n",
    "        \"\"\"\n",
    "            Function from Miao: Callback for iterative year HTML pull of data.\n",
    "        \"\"\"\n",
    "    \n",
    "        if 'avg' in row.text:\n",
    "            self.m += 1\n",
    "            self.d = 0\n",
    "\n",
    "        #print(self.y, self.m, self.d)\n",
    "\n",
    "        if self.d != 0:\n",
    "            td = row.find_all('td')\n",
    "\n",
    "            MaxT = td[2].text.strip()\n",
    "            MeanT = td[1].text.strip()\n",
    "            MinT = td[3].text.strip()\n",
    "            MaxH = td[8].text.strip()\n",
    "            MeanH = td[7].text.strip()\n",
    "            MinH = td[9].text.strip()\n",
    "            Prep = td[-2].text.strip()\n",
    "            Date = datetime(self.y, self.m, self.d)\n",
    "            \n",
    "            sql.cursor.execute(\"\"\"INSERT INTO Weather (ICAO, Date, MaxT, MeanT,\n",
    "                            MinT, MaxH, MeanH, MinH, Prep) VALUES (?, ?, ?, ?, ?, ?, ?, ?, ?)\"\"\",\n",
    "                                  (self.icao, Date, MaxT, MeanT, MinT, MaxH, MeanH, MinH, Prep))\n",
    "\n",
    "        self.d += 1\n",
    "\n",
    "        \n",
    "    \n",
    "    def popData (self, begin, end, icao):\n",
    "        \"\"\"\n",
    "            Function from Miao: populate SQL table externally.\n",
    "            Steps through each year of data and increments / counts \n",
    "            months and days - accounts for leap years etc. \n",
    "        \"\"\"\n",
    "    \n",
    "        self.icao = icao\n",
    "        \n",
    "        for i in range(begin, end + 1):\n",
    "\n",
    "            tbody = self.fetch(icao, i)\n",
    "            self.y = i\n",
    "            self.m = 0\n",
    "            self.d = 0\n",
    "            a = list(map(self.callback, tbody))"
   ]
  },
  {
   "cell_type": "markdown",
   "metadata": {},
   "source": [
    "Below is a beginning example of using the **Weather** class to manually step through the years and months, iterively augmenting the data to the data map. *Note: the complete code for not incorporating the data into the class (which is the method we used to directly create the database file) is included below in the comments.*"
   ]
  },
  {
   "cell_type": "code",
   "execution_count": 123,
   "metadata": {
    "collapsed": true
   },
   "outputs": [],
   "source": [
    "weatherInst = Weather()\n",
    "weatherInst.setYearData('KATL', 2008)\n",
    "weatherInst.setTbody()\n",
    "len(weatherInst.getTbody[2008])\n",
    "weatherInst.setTryTD()\n",
    "\n",
    "# Counterr is used to count through number of days per month \n",
    "#weatherInst.counterr"
   ]
  },
  {
   "cell_type": "code",
   "execution_count": null,
   "metadata": {
    "collapsed": true
   },
   "outputs": [],
   "source": []
  },
  {
   "cell_type": "code",
   "execution_count": null,
   "metadata": {
    "collapsed": true
   },
   "outputs": [],
   "source": []
  },
  {
   "cell_type": "markdown",
   "metadata": {},
   "source": [
    "### Calculate correlation coefficient directly on SQL table\n",
    "\n",
    "The next major step is calculating the correlation coefficient across all of the data. This could be performed after extracting the data into standard *Python* data structures / code, *i.e. Numpy arrays and use of numpy.corrcoeff()*. However, for greater optimization and learning purposes, the correlation coefficients are calculated directly on the SQL table.  "
   ]
  },
  {
   "cell_type": "code",
   "execution_count": 124,
   "metadata": {
    "collapsed": true
   },
   "outputs": [],
   "source": [
    "# Figure out how to write out a correlation coefficient command here...\n",
    "\n",
    "# sql_corrcoeff = \"\"\"DO MATH corrcoeff FROM *\"\"\"\n",
    "\n",
    "#sql.cursor.execute(sql_corrcoeff)\n",
    "#sql.cursor.fetchall()"
   ]
  },
  {
   "cell_type": "code",
   "execution_count": null,
   "metadata": {
    "collapsed": true
   },
   "outputs": [],
   "source": []
  }
 ],
 "metadata": {
  "anaconda-cloud": {},
  "kernelspec": {
   "display_name": "Python [default]",
   "language": "python",
   "name": "python3"
  },
  "language_info": {
   "codemirror_mode": {
    "name": "ipython",
    "version": 3
   },
   "file_extension": ".py",
   "mimetype": "text/x-python",
   "name": "python",
   "nbconvert_exporter": "python",
   "pygments_lexer": "ipython3",
   "version": "3.5.2"
  }
 },
 "nbformat": 4,
 "nbformat_minor": 0
}
