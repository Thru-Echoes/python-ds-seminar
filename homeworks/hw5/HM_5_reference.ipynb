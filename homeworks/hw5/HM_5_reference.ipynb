{
 "cells": [
  {
   "cell_type": "markdown",
   "metadata": {},
   "source": [
    "## Homework 5 \n",
    "\n",
    "## Zhongqi Miao\n",
    "### In collaboration with Jacob Bukoski and Oliver Muellerklein"
   ]
  },
  {
   "cell_type": "code",
   "execution_count": 1,
   "metadata": {
    "collapsed": true
   },
   "outputs": [],
   "source": [
    "import pandas as pd\n",
    "import numpy as np\n",
    "import sqlite3\n",
    "from bs4 import BeautifulSoup\n",
    "from urllib.request import urlopen\n",
    "from datetime import datetime\n",
    "import itertools"
   ]
  },
  {
   "cell_type": "code",
   "execution_count": 2,
   "metadata": {
    "collapsed": true
   },
   "outputs": [],
   "source": [
    "# First, create a class for some basic sql utilities\n",
    "\n",
    "class sql_utl:\n",
    "    \n",
    "    def __init__(self):\n",
    "        self.db = None\n",
    "        self.connection = None\n",
    "        self.cursor = None\n",
    "         \n",
    "    def connect(self, database):\n",
    "        \"\"\"sql database connection\"\"\"\n",
    "        self.db = database\n",
    "        self.connection = sqlite3.connect(self.db)\n",
    "        self.cursor = self.connection.cursor()\n",
    "        \n",
    "    def table_list(self):\n",
    "        \"\"\"show table list of current database\"\"\"\n",
    "        sql_cmd = \"select * from sqlite_master where type = 'table';\"\n",
    "        self.cursor.execute(sql_cmd)\n",
    "        db_info = self.cursor.fetchall()\n",
    "        for entry in db_info: \n",
    "            print(entry)\n",
    "            \n",
    "    def drop(self, table):\n",
    "        \"\"\"drop selected table from database\"\"\"\n",
    "        sql_cmd = \"drop table %s\" % (table)\n",
    "        self.cursor.execute(sql_cmd)\n",
    "            \n",
    "    def close (self):\n",
    "        \"\"\"commit changes to the database and close the connection\"\"\"\n",
    "        self.connection.commit()\n",
    "        self.connection.close()"
   ]
  },
  {
   "cell_type": "code",
   "execution_count": 3,
   "metadata": {
    "collapsed": false,
    "scrolled": true
   },
   "outputs": [],
   "source": [
    "# First, connect to the data base created for this homework\n",
    "sql = sql_utl()\n",
    "sql.connect('HW5.db')"
   ]
  },
  {
   "cell_type": "code",
   "execution_count": 19,
   "metadata": {
    "collapsed": false
   },
   "outputs": [
    {
     "name": "stdout",
     "output_type": "stream",
     "text": [
      "('table', 'sqlite_sequence', 'sqlite_sequence', 3, 'CREATE TABLE sqlite_sequence(name,seq)')\n",
      "('table', 'Top_Airport', 'Top_Airport', 2, 'CREATE TABLE Top_Airport (ICAO TEXT, Airport TEXT,\\n            City TEXT, Latitude REAL, Longitude REAL, Elevation REAL,\\n            PRIMARY KEY (ICAO))')\n",
      "('table', 'Weather', 'Weather', 4, 'CREATE TABLE Weather (ICAO TEXT, Date DATE,\\n            MeanT REAL, MaxT REAL, MinT REAL, MeanH REAL, MaxH REAL, MinH REAL, Prep REAL,\\n            FOREIGN KEY(ICAO) REFERENCES Top_Airport(ICAO))')\n"
     ]
    }
   ],
   "source": [
    "# Show the table list of current database\n",
    "#sql.drop('Weather')\n",
    "sql.table_list()"
   ]
  },
  {
   "cell_type": "code",
   "execution_count": 6,
   "metadata": {
    "collapsed": false
   },
   "outputs": [],
   "source": [
    "# This cell is used for data preperation\n",
    "# Merge the two csv files together and pull out only icao, name of the airports, cities, and geographic information\n",
    "\n",
    "top_data = pd.read_csv('hw_5_data/top_airports.csv')\n",
    "\n",
    "icao = pd.read_csv('hw_5_data/ICAO_airports.csv')\n",
    "\n",
    "icao = icao.rename(columns={'iata_code': 'IATA'})\n",
    "\n",
    "merge_data = pd.merge(top_data, icao, on=['IATA'])\n",
    "\n",
    "top_modified = merge_data[['ICAO', 'Airport', 'City', 'latitude_deg', 'longitude_deg', 'elevation_ft']]"
   ]
  },
  {
   "cell_type": "code",
   "execution_count": 16,
   "metadata": {
    "collapsed": false
   },
   "outputs": [
    {
     "data": {
      "text/html": [
       "<div>\n",
       "<table border=\"1\" class=\"dataframe\">\n",
       "  <thead>\n",
       "    <tr style=\"text-align: right;\">\n",
       "      <th></th>\n",
       "      <th>ICAO</th>\n",
       "      <th>Airport</th>\n",
       "      <th>City</th>\n",
       "      <th>latitude_deg</th>\n",
       "      <th>longitude_deg</th>\n",
       "      <th>elevation_ft</th>\n",
       "    </tr>\n",
       "  </thead>\n",
       "  <tbody>\n",
       "    <tr>\n",
       "      <th>0</th>\n",
       "      <td>KATL</td>\n",
       "      <td>Hartsfield-Jackson Atlanta International Airport</td>\n",
       "      <td>Atlanta</td>\n",
       "      <td>33.6367</td>\n",
       "      <td>-84.428101</td>\n",
       "      <td>1026.0</td>\n",
       "    </tr>\n",
       "    <tr>\n",
       "      <th>1</th>\n",
       "      <td>KORD</td>\n",
       "      <td>Chicago O'Hare International Airport</td>\n",
       "      <td>Chicago</td>\n",
       "      <td>41.9786</td>\n",
       "      <td>-87.904800</td>\n",
       "      <td>672.0</td>\n",
       "    </tr>\n",
       "  </tbody>\n",
       "</table>\n",
       "</div>"
      ],
      "text/plain": [
       "   ICAO                                           Airport     City  \\\n",
       "0  KATL  Hartsfield-Jackson Atlanta International Airport  Atlanta   \n",
       "1  KORD              Chicago O'Hare International Airport  Chicago   \n",
       "\n",
       "   latitude_deg  longitude_deg  elevation_ft  \n",
       "0       33.6367     -84.428101        1026.0  \n",
       "1       41.9786     -87.904800         672.0  "
      ]
     },
     "execution_count": 16,
     "metadata": {},
     "output_type": "execute_result"
    }
   ],
   "source": [
    "top_modified.head(2)"
   ]
  },
  {
   "cell_type": "code",
   "execution_count": 379,
   "metadata": {
    "collapsed": false
   },
   "outputs": [],
   "source": [
    "# Create a table to store the airport data just created\n",
    "\n",
    "sql_cmd = \"\"\"CREATE TABLE Top_Airport (ICAO TEXT, Airport TEXT,\n",
    "            City TEXT, Latitude REAL, Longitude REAL, Elevation REAL,\n",
    "            PRIMARY KEY (ICAO))\"\"\"\n",
    "sql.cursor.execute(sql_cmd)"
   ]
  },
  {
   "cell_type": "code",
   "execution_count": 10,
   "metadata": {
    "collapsed": false,
    "scrolled": false
   },
   "outputs": [
    {
     "name": "stdout",
     "output_type": "stream",
     "text": [
      "('table', 'sqlite_sequence', 'sqlite_sequence', 3, 'CREATE TABLE sqlite_sequence(name,seq)')\n",
      "('table', 'Top_Airport', 'Top_Airport', 2, 'CREATE TABLE Top_Airport (ICAO TEXT, Airport TEXT,\\n            City TEXT, Latitude REAL, Longitude REAL, Elevation REAL,\\n            PRIMARY KEY (ICAO))')\n",
      "('table', 'Weather', 'Weather', 4, 'CREATE TABLE Weather (ICAO TEXT, Date DATE,\\n            MeanT REAL, MaxT REAL, MinT REAL, MeanH REAL, MaxH REAL, MinH REAL, Prep REAL,\\n            FOREIGN KEY(ICAO) REFERENCES Top_Airport(ICAO))')\n"
     ]
    }
   ],
   "source": [
    "# Check whether it is created\n",
    "#sql.drop('Weather')\n",
    "sql.table_list()"
   ]
  },
  {
   "cell_type": "code",
   "execution_count": 135,
   "metadata": {
    "collapsed": false
   },
   "outputs": [],
   "source": [
    "# Populate data into the table\n",
    "for i in range(len(top_modified)):\n",
    "    sql_cmd = (\"INSERT INTO Top_Airport (ICAO, Airport, City, Latitude, Longitude, Elevation) VALUES \" \n",
    "               + str(tuple(top_modified.ix[i])))\n",
    "    sql.cursor.execute(sql_cmd)"
   ]
  },
  {
   "cell_type": "code",
   "execution_count": 191,
   "metadata": {
    "collapsed": false
   },
   "outputs": [
    {
     "data": {
      "text/plain": [
       "('KATL',\n",
       " 'Hartsfield-Jackson Atlanta International Airport',\n",
       " 'Atlanta',\n",
       " 33.6366996765137,\n",
       " -84.4281005859375,\n",
       " 1026.0)"
      ]
     },
     "execution_count": 191,
     "metadata": {},
     "output_type": "execute_result"
    }
   ],
   "source": [
    "# Check whether it is done correctly\n",
    "sql_cmd = 'select * from Top_Airport'\n",
    "\n",
    "sql.cursor.execute(sql_cmd)\n",
    "\n",
    "sql.cursor.fetchall()[0]"
   ]
  },
  {
   "cell_type": "code",
   "execution_count": 13,
   "metadata": {
    "collapsed": false
   },
   "outputs": [
    {
     "data": {
      "text/plain": [
       "<sqlite3.Cursor at 0x10f3fdf10>"
      ]
     },
     "execution_count": 13,
     "metadata": {},
     "output_type": "execute_result"
    }
   ],
   "source": [
    "# Create a table for storing wether data\n",
    "sql_cmd = \"\"\"CREATE TABLE Weather (ICAO TEXT, Date DATE,\n",
    "            MeanT REAL, MaxT REAL, MinT REAL, MeanH REAL, MaxH REAL, MinH REAL, Prep REAL,\n",
    "            FOREIGN KEY(ICAO) REFERENCES Top_Airport(ICAO))\"\"\"\n",
    "sql.cursor.execute(sql_cmd)"
   ]
  },
  {
   "cell_type": "code",
   "execution_count": 23,
   "metadata": {
    "collapsed": false
   },
   "outputs": [],
   "source": [
    "# Create a class for the web crowler\n",
    "class weather:\n",
    "    \n",
    "    def __init__(self):\n",
    "        self.begin = None\n",
    "        self.end = None\n",
    "        self.icao = None\n",
    "        self.tbody = None\n",
    "        self.y = None\n",
    "        self.m = None\n",
    "        self.d = None\n",
    "        self.icao = None\n",
    "\n",
    "    global sql\n",
    "    \n",
    "    def fetch (self, icao, date):\n",
    "        \n",
    "        \"\"\"\n",
    "        This function is used for fetching yearly data from weather underground. \n",
    "        It returns a tbody object of the yearly data table.\n",
    "        \"\"\"\n",
    "\n",
    "        response = urlopen(\"https://www.wunderground.com/history/airport/%s/%s/1/1/CustomHistory.html?dayend=31&monthend=12&yearend=%s\" \\\n",
    "                           % (icao, date, date))\n",
    "        html = response.read()\n",
    "        response.close()\n",
    "\n",
    "        soup = BeautifulSoup(html,\"html5lib\")\n",
    "\n",
    "        tbody = soup.find('table', id = 'obsTable', class_ = 'responsive obs-table daily').find_all('tbody')\n",
    "\n",
    "        return tbody\n",
    "    \n",
    "    def callback (self, row):\n",
    "    \n",
    "        \"\"\" Callback function for actually ectracting data from the tbody, and insert the data into weather table\"\"\"\n",
    "        \n",
    "        if 'avg' in row.text:\n",
    "            self.m += 1\n",
    "            self.d = 0\n",
    "\n",
    "        #print(self.y, self.m, self.d)\n",
    "\n",
    "        if self.d != 0:\n",
    "            td = row.find_all('td')\n",
    "\n",
    "            MaxT = td[2].text.strip()\n",
    "            MeanT = td[1].text.strip()\n",
    "            MinT = td[3].text.strip()\n",
    "            MaxH = td[8].text.strip()\n",
    "            MeanH = td[7].text.strip()\n",
    "            MinH = td[9].text.strip()\n",
    "            Prep = td[-2].text.strip()\n",
    "            Date = datetime(self.y, self.m, self.d).date()\n",
    "\n",
    "            #print(MaxT, MeanT, MinT, MaxH, MeanH, MinH, Prep)\n",
    "            \n",
    "            sql.cursor.execute(\"\"\"INSERT INTO Weather (ICAO, Date, MaxT, MeanT,\n",
    "                            MinT, MaxH, MeanH, MinH, Prep) VALUES (?, ?, ?, ?, ?, ?, ?, ?, ?)\"\"\",\n",
    "                                  (self.icao, Date, MaxT, MeanT, MinT, MaxH, MeanH, MinH, Prep))\n",
    "\n",
    "        self.d += 1\n",
    "\n",
    "    def Populate_data (self, begin, end, icao):\n",
    "        \n",
    "        \"\"\"\n",
    "        This is the function actually do the whole population. \n",
    "        It loop through the year, map through the rows of the tbody, calls callbacks on each rows except \n",
    "        for the header rows.\n",
    "        \"\"\"\n",
    "    \n",
    "        self.icao = icao\n",
    "        \n",
    "        for i in range(begin, end+1):\n",
    "\n",
    "            tbody = self.fetch(icao, i)\n",
    "\n",
    "            self.y = i\n",
    "            self.m = 0\n",
    "            self.d = 0\n",
    "\n",
    "            a = list(map(self.callback, tbody))"
   ]
  },
  {
   "cell_type": "code",
   "execution_count": 24,
   "metadata": {
    "collapsed": false
   },
   "outputs": [],
   "source": [
    "# Fetch data and insert them into the weather table for the 50 top airports\n",
    "weather_obj = weather()\n",
    "\n",
    "for i in top_modified['ICAO']:\n",
    "    weather_obj.Populate_data (2008, 2016, i)"
   ]
  },
  {
   "cell_type": "code",
   "execution_count": 25,
   "metadata": {
    "collapsed": false
   },
   "outputs": [
    {
     "data": {
      "text/plain": [
       "('KATL', '2008-01-03', 40.0, 28.0, 15.0, 73.0, 46.0, 19.0, 0.0)"
      ]
     },
     "execution_count": 25,
     "metadata": {},
     "output_type": "execute_result"
    }
   ],
   "source": [
    "# Check out what we have!\n",
    "sql_cmd = 'select * from Weather;'\n",
    "\n",
    "sql.cursor.execute(sql_cmd)\n",
    "\n",
    "sql.cursor.fetchall()[2]"
   ]
  },
  {
   "cell_type": "code",
   "execution_count": 26,
   "metadata": {
    "collapsed": false
   },
   "outputs": [],
   "source": [
    "# Close the connection\n",
    "sql.close()"
   ]
  },
  {
   "cell_type": "markdown",
   "metadata": {
    "collapsed": true
   },
   "source": [
    "---\n",
    "## For Problem 4 and 5"
   ]
  },
  {
   "cell_type": "code",
   "execution_count": 5,
   "metadata": {
    "collapsed": false
   },
   "outputs": [],
   "source": [
    "# First, connect to the data base created for this homework\n",
    "sql = sql_utl()\n",
    "sql.connect('HW5.db')"
   ]
  },
  {
   "cell_type": "code",
   "execution_count": 17,
   "metadata": {
    "collapsed": false,
    "scrolled": true
   },
   "outputs": [
    {
     "name": "stdout",
     "output_type": "stream",
     "text": [
      "('table', 'sqlite_sequence', 'sqlite_sequence', 3, 'CREATE TABLE sqlite_sequence(name,seq)')\n",
      "('table', 'Top_Airport', 'Top_Airport', 2, 'CREATE TABLE Top_Airport (ICAO TEXT, Airport TEXT,\\n            City TEXT, Latitude REAL, Longitude REAL, Elevation REAL,\\n            PRIMARY KEY (ICAO))')\n",
      "('table', 'Weather', 'Weather', 4, 'CREATE TABLE Weather (ICAO TEXT, Date DATE,\\n            MeanT REAL, MaxT REAL, MinT REAL, MeanH REAL, MaxH REAL, MinH REAL, Prep REAL,\\n            FOREIGN KEY(ICAO) REFERENCES Top_Airport(ICAO))')\n"
     ]
    }
   ],
   "source": [
    "sql.table_list()"
   ]
  },
  {
   "cell_type": "code",
   "execution_count": 4,
   "metadata": {
    "collapsed": true
   },
   "outputs": [],
   "source": [
    "def pair_data(icao1, icao2, attribute, diff_day):\n",
    "\n",
    "    sql_cmd = \"\"\"select w1.%s, w2.%s\n",
    "                 from Weather w1, Weather w2 \n",
    "                 where julianday(w2.date) - julianday(w1.date) = %s\n",
    "                 and w1.icao = '%s' \n",
    "                 and w2.icao = '%s'\n",
    "                 and typeof(w1.%s) = 'real'\n",
    "                 and typeof(w2.%s) = 'real';\"\"\" % (attribute, attribute, diff_day, icao1, icao2, attribute, attribute)\n",
    "\n",
    "    sql.cursor.execute(sql_cmd)\n",
    "    return sql.cursor.fetchall()\n",
    "\n",
    "def top10_corr(attribute, diff_days):\n",
    "\n",
    "    corr_list = []\n",
    "\n",
    "    for i in list(itertools.combinations(top_modified['ICAO'], 2)):\n",
    "\n",
    "        arr = np.array(list(map(lambda row : [row[0], row[1]], pair_data(i[0], i[1], attribute, diff_days)))).transpose()\n",
    "\n",
    "        corr = np.corrcoef(arr)[0, 1]\n",
    "\n",
    "        corr_list.append([i, corr])\n",
    "        \n",
    "    top10 = sorted(corr_list, key=lambda element: element[1])[:10]\n",
    "        \n",
    "    return top10\n",
    "    \n"
   ]
  },
  {
   "cell_type": "code",
   "execution_count": null,
   "metadata": {
    "collapsed": false
   },
   "outputs": [],
   "source": [
    "prep_corr_1 = top10_corr('Prep', 1)\n",
    "prep_corr_3 = top10_corr('Prep', 3)\n",
    "prep_corr_7 = top10_corr('Prep', 7)\n",
    "\n",
    "t_corr_1 = top10_corr('MeanT', 1)\n",
    "t_corr_3 = top10_corr('MeanT', 3)\n",
    "t_corr_7 = top10_corr('MeanT', 7)"
   ]
  },
  {
   "cell_type": "code",
   "execution_count": null,
   "metadata": {
    "collapsed": true
   },
   "outputs": [],
   "source": [
    "prep_corr_1 = np.array(prep_corr_1).transpose()\n",
    "prep_corr_3 = np.array(prep_corr_3).transpose()\n",
    "prep_corr_7 = np.array(prep_corr_7).transpose()\n",
    "\n",
    "t_corr_1 = np.array(t_corr_1).transpose()\n",
    "t_corr_3 = np.array(t_corr_3).transpose()\n",
    "t_corr_7 = np.array(t_corr_7).transpose()"
   ]
  },
  {
   "cell_type": "code",
   "execution_count": null,
   "metadata": {
    "collapsed": true
   },
   "outputs": [],
   "source": [
    "def dist(lat1, lon1, lat2, lon2):\n",
    "\n",
    "    dlon = lon2 - lon1 \n",
    "    dlat = lat2 - lat1 \n",
    "    \n",
    "    a = (np.sin(dlat/2))**2 + np.cos(lat1) * np.cos(lat2) * (np.sin(dlon/2))**2 \n",
    "    c = 2 * np.arctan2( np.sqrt(a), np.sqrt(1-a) ) \n",
    "    d = 6373 * c # in km\n",
    "    \n",
    "    return d"
   ]
  },
  {
   "cell_type": "code",
   "execution_count": null,
   "metadata": {
    "collapsed": true
   },
   "outputs": [],
   "source": [
    "dist_list_r = []\n",
    "dist_list_l = []\n",
    "\n",
    "for i in list(itertools.combinations(top_modified['ICAO'], 2)):\n",
    "\n",
    "    real_dist = dist(top_modified['latitude_deg'][top_modified['ICAO'] == i[0]],\n",
    "                     top_modified['longitude_deg'][top_modified['ICAO'] == i[0]], \n",
    "                     top_modified['latitude_deg'][top_modified['ICAO'] == i[1]], \n",
    "                     top_modified['longitude_deg'][top_modified['ICAO'] == i[1]])\n",
    "\n",
    "    lon_dist = dist(0, top_modified['longitude_deg'][top_modified['ICAO'] == i[0]],\n",
    "                    0, top_modified['longitude_deg'][top_modified['ICAO'] == i[1]])\n",
    "    \n",
    "    dist_list_r.append([i, real_dist])\n",
    "    dist_list_l.append([i, lon_dist])\n",
    "    \n",
    "dist_list_r = np.array(dist_list_r).transpose()\n",
    "dist_list_l = np.array(dist_list_l).transpose()"
   ]
  },
  {
   "cell_type": "code",
   "execution_count": null,
   "metadata": {
    "collapsed": true
   },
   "outputs": [],
   "source": [
    "f, ax = plt.subplots()\n",
    "ax.plot(dist_list_r[1], prep_corr_1[1], label='Real dist 1 day') \n",
    "ax.legend()\n",
    "ax.plot(dist_list_r[1], prep_corr_3[1], label='Real dist 3 day')\n",
    "ax.legend()\n",
    "ax.plot(dist_list_r[1], prep_corr_7[1], label='Real dist 7 day')\n",
    "ax.legend()\n",
    "ax.set_title('Precipitation correlation (Real distance)')\n",
    "ax.set_xlabel('Distance')\n",
    "ax.set_ylabel('Correlation strength')"
   ]
  },
  {
   "cell_type": "code",
   "execution_count": null,
   "metadata": {
    "collapsed": true
   },
   "outputs": [],
   "source": [
    "f, ax = plt.subplots()\n",
    "ax.plot(dist_list_r[1], t_corr_1[1], label='Real dist 1 day') \n",
    "ax.legend()\n",
    "ax.plot(dist_list_r[1], t_corr_3[1], label='Real dist 3 day')\n",
    "ax.legend()\n",
    "ax.plot(dist_list_r[1], t_corr_7[1], label='Real dist 7 day')\n",
    "ax.legend()\n",
    "ax.set_title('Temperature correlation (Real distance)')\n",
    "ax.set_xlabel('Distance')\n",
    "ax.set_ylabel('Correlation strength')"
   ]
  },
  {
   "cell_type": "code",
   "execution_count": null,
   "metadata": {
    "collapsed": true
   },
   "outputs": [],
   "source": [
    "f, ax = plt.subplots()\n",
    "ax.plot(dist_list_l[1], prep_corr_1[1], label='Lon dist 1 day') \n",
    "ax.legend()\n",
    "ax.plot(dist_list_l[1], prep_corr_3[1], label='Lon dist 3 day')\n",
    "ax.legend()\n",
    "ax.plot(dist_list_l[1], prep_corr_7[1], label='Lon dist 7 day')\n",
    "ax.legend()\n",
    "ax.set_title('Precipitation correlation (Lon distance)')\n",
    "ax.set_xlabel('Distance')\n",
    "ax.set_ylabel('Correlation strength')"
   ]
  },
  {
   "cell_type": "code",
   "execution_count": null,
   "metadata": {
    "collapsed": true
   },
   "outputs": [],
   "source": [
    "f, ax = plt.subplots()\n",
    "ax.plot(dist_list_l[1], prep_corr_1[1], label='Lon dist 1 day') \n",
    "ax.legend()\n",
    "ax.plot(dist_list_l[1], prep_corr_3[1], label='Lon dist 3 day')\n",
    "ax.legend()\n",
    "ax.plot(dist_list_l[1], prep_corr_7[1], label='Lon dist 7 day')\n",
    "ax.legend()\n",
    "ax.set_title('Precipitation correlation (Lon distance)')\n",
    "ax.set_xlabel('Distance')\n",
    "ax.set_ylabel('Correlation strength')"
   ]
  },
  {
   "cell_type": "code",
   "execution_count": null,
   "metadata": {
    "collapsed": true
   },
   "outputs": [],
   "source": [
    "# close the connection\n",
    "sql.close()"
   ]
  }
 ],
 "metadata": {
  "anaconda-cloud": {},
  "kernelspec": {
   "display_name": "Python [default]",
   "language": "python",
   "name": "python3"
  },
  "language_info": {
   "codemirror_mode": {
    "name": "ipython",
    "version": 3
   },
   "file_extension": ".py",
   "mimetype": "text/x-python",
   "name": "python",
   "nbconvert_exporter": "python",
   "pygments_lexer": "ipython3",
   "version": "3.5.2"
  }
 },
 "nbformat": 4,
 "nbformat_minor": 1
}
